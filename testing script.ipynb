{
 "cells": [
  {
   "cell_type": "code",
   "outputs": [
    {
     "ename": "NameError",
     "evalue": "name 'payload' is not defined",
     "output_type": "error",
     "traceback": [
      "\u001B[31m---------------------------------------------------------------------------\u001B[39m",
      "\u001B[31mNameError\u001B[39m                                 Traceback (most recent call last)",
      "\u001B[36mCell\u001B[39m\u001B[36m \u001B[39m\u001B[32mIn[1]\u001B[39m\u001B[32m, line 3\u001B[39m\n\u001B[32m      1\u001B[39m \u001B[38;5;66;03m## inspect payload object\u001B[39;00m\n\u001B[32m      2\u001B[39m \u001B[38;5;28;01mimport\u001B[39;00m\u001B[38;5;250m \u001B[39m\u001B[34;01mjson\u001B[39;00m\n\u001B[32m----> \u001B[39m\u001B[32m3\u001B[39m \u001B[38;5;28mprint\u001B[39m(json.dumps(\u001B[43mpayload\u001B[49m, indent = \u001B[32m2\u001B[39m, sort_keys= \u001B[38;5;28;01mTrue\u001B[39;00m))\n",
      "\u001B[31mNameError\u001B[39m: name 'payload' is not defined"
     ]
    }
   ],
   "source": [
    "## inspect payload object\n",
    "import json\n",
    "print(json.dumps(payload, indent = 2, sort_keys= True))"
   ],
   "metadata": {
    "collapsed": false,
    "ExecuteTime": {
     "end_time": "2025-08-19T01:48:58.400979Z",
     "start_time": "2025-08-19T01:48:58.285477Z"
    }
   },
   "id": "80214a39e7152cd4",
   "execution_count": 1
  },
  {
   "cell_type": "code",
   "outputs": [],
   "source": [],
   "metadata": {
    "collapsed": false,
    "ExecuteTime": {
     "end_time": "2025-08-19T01:48:58.402432Z",
     "start_time": "2025-08-19T01:48:58.401468Z"
    }
   },
   "id": "3ba553e489f7d926",
   "execution_count": null
  },
  {
   "cell_type": "code",
   "outputs": [],
   "source": [
    "print(payload.get(\"title\"))"
   ],
   "metadata": {
    "collapsed": false,
    "ExecuteTime": {
     "end_time": "2025-07-11T20:52:56.314415Z",
     "start_time": "2025-07-11T20:52:56.313390Z"
    }
   },
   "id": "90d94361ffb6122e",
   "execution_count": null
  },
  {
   "cell_type": "code",
   "outputs": [
    {
     "ename": "NameError",
     "evalue": "name 'payload' is not defined",
     "output_type": "error",
     "traceback": [
      "\u001B[31m---------------------------------------------------------------------------\u001B[39m",
      "\u001B[31mNameError\u001B[39m                                 Traceback (most recent call last)",
      "\u001B[36mCell\u001B[39m\u001B[36m \u001B[39m\u001B[32mIn[2]\u001B[39m\u001B[32m, line 1\u001B[39m\n\u001B[32m----> \u001B[39m\u001B[32m1\u001B[39m \u001B[38;5;28mprint\u001B[39m(\u001B[33m\"\u001B[39m\u001B[33mTop-level keys:\u001B[39m\u001B[33m\"\u001B[39m, \u001B[43mpayload\u001B[49m.keys())\n",
      "\u001B[31mNameError\u001B[39m: name 'payload' is not defined"
     ]
    }
   ],
   "source": [
    "print(\"Top-level keys:\", payload.keys())"
   ],
   "metadata": {
    "collapsed": false,
    "ExecuteTime": {
     "end_time": "2025-07-11T20:52:56.989221Z",
     "start_time": "2025-07-11T20:52:56.974406Z"
    }
   },
   "id": "27b106debb6cf0f7",
   "execution_count": 2
  },
  {
   "cell_type": "code",
   "outputs": [],
   "source": [
    "import get_votes"
   ],
   "metadata": {
    "collapsed": false,
    "ExecuteTime": {
     "end_time": "2025-04-30T03:39:52.427116Z",
     "start_time": "2025-04-30T03:39:51.886112Z"
    }
   },
   "id": "20ddc5fab0beb8ff",
   "execution_count": 37
  },
  {
   "cell_type": "code",
   "outputs": [
    {
     "name": "stdout",
     "output_type": "stream",
     "text": [
      "The autoreload extension is already loaded. To reload it, use:\n",
      "  %reload_ext autoreload\n",
      "Payload keys: ['actions', 'pagination', 'request']\n",
      "  Fetched 15 actions at offset 0\n",
      "{'actionCode': 'H37100', 'actionDate': '2024-04-20', 'actionTime': '14:02:43', 'recordedVotes': [{'chamber': 'House', 'congress': 118, 'date': '2024-04-20T18:02:43Z', 'rollNumber': 152, 'sessionNumber': 2, 'url': 'https://clerk.house.gov/evs/2024/roll152.xml'}], 'sourceSystem': {'code': 2, 'name': 'House floor actions'}, 'text': 'On passage Passed by the Yeas and Nays: 366 - 58 (Roll no. 152). (text: CR H2607-2610)', 'type': 'Floor'}\n",
      "Payload keys: ['actions', 'pagination', 'request']\n",
      "  Fetched 17 actions at offset 0\n",
      "{'actionCode': 'H37100', 'actionDate': '2024-05-01', 'actionTime': '16:55:30', 'recordedVotes': [{'chamber': 'House', 'congress': 118, 'date': '2024-05-01T20:55:30Z', 'rollNumber': 172, 'sessionNumber': 2, 'url': 'https://clerk.house.gov/evs/2024/roll172.xml'}], 'sourceSystem': {'code': 2, 'name': 'House floor actions'}, 'text': 'On passage Passed by the Yeas and Nays: 320 - 91 (Roll no. 172). (text: CR H2790-2791)', 'type': 'Floor'}\n",
      "Payload keys: ['actions', 'pagination', 'request']\n",
      "  Fetched 16 actions at offset 0\n",
      "{'actionCode': 'H37300', 'actionDate': '2023-11-01', 'actionTime': '19:27:56', 'recordedVotes': [{'chamber': 'House', 'congress': 118, 'date': '2023-11-01T23:27:56Z', 'rollNumber': 561, 'sessionNumber': 1, 'url': 'https://clerk.house.gov/evs/2023/roll561.xml'}], 'sourceSystem': {'code': 2, 'name': 'House floor actions'}, 'text': 'On motion to suspend the rules and pass the bill, as amended Agreed to by the Yeas and Nays: (2/3 required): 363 - 46 (Roll no. 561). (text: CR H5189-5191)', 'type': 'Floor'}\n",
      "Payload keys: ['actions', 'pagination', 'request']\n",
      "  Fetched 23 actions at offset 0\n",
      "{'actionCode': 'H37100', 'actionDate': '2023-11-02', 'actionTime': '17:48:34', 'recordedVotes': [{'chamber': 'House', 'congress': 118, 'date': '2023-11-02T21:48:34Z', 'rollNumber': 577, 'sessionNumber': 1, 'url': 'https://clerk.house.gov/evs/2023/roll577.xml'}], 'sourceSystem': {'code': 2, 'name': 'House floor actions'}, 'text': 'On passage Passed by the Yeas and Nays: 226 - 196 (Roll no. 577). (text: CR H5297-5298)', 'type': 'Floor'}\n",
      "Payload keys: ['actions', 'pagination', 'request']\n",
      "  Fetched 234 actions at offset 0\n",
      "{'actionCode': 'H37100', 'actionDate': '2023-07-14', 'actionTime': '10:59:33', 'recordedVotes': [{'chamber': 'House', 'congress': 118, 'date': '2023-07-14T14:59:33Z', 'rollNumber': 328, 'sessionNumber': 1, 'url': 'https://clerk.house.gov/evs/2023/roll328.xml'}], 'sourceSystem': {'code': 2, 'name': 'House floor actions'}, 'text': 'On passage Passed by the Yeas and Nays: 219 - 210 (Roll no. 328).', 'type': 'Floor'}\n",
      "Payload keys: ['actions', 'pagination', 'request']\n",
      "  Fetched 11 actions at offset 0\n",
      "{'actionCode': 'H37300', 'actionDate': '2024-02-06', 'actionTime': '18:55:23', 'recordedVotes': [{'chamber': 'House', 'congress': 118, 'date': '2024-02-06T23:55:23Z', 'rollNumber': 38, 'sessionNumber': 2, 'url': 'https://clerk.house.gov/evs/2024/roll038.xml'}], 'sourceSystem': {'code': 2, 'name': 'House floor actions'}, 'text': 'On motion to suspend the rules and pass the bill Failed by the Yeas and Nays: (2/3 required): 250 - 180 (Roll no. 38).', 'type': 'Floor'}\n",
      "Payload keys: ['actions', 'pagination', 'request']\n",
      "  Fetched 16 actions at offset 0\n",
      "{'actionCode': 'H37300', 'actionDate': '2024-04-16', 'actionTime': '16:37:05', 'recordedVotes': [{'chamber': 'House', 'congress': 118, 'date': '2024-04-16T20:37:05Z', 'rollNumber': 128, 'sessionNumber': 2, 'url': 'https://clerk.house.gov/evs/2024/roll128.xml'}], 'sourceSystem': {'code': 2, 'name': 'House floor actions'}, 'text': 'On motion to suspend the rules and pass the bill Agreed to by the Yeas and Nays: (2/3 required): 419 - 4 (Roll no. 128). (text: CR H2416-2417)', 'type': 'Floor'}\n",
      "Payload keys: ['actions', 'pagination', 'request']\n",
      "  Fetched 33 actions at offset 0\n",
      "{'actionCode': 'H37100', 'actionDate': '2024-04-20', 'actionTime': '13:17:28', 'recordedVotes': [{'chamber': 'House', 'congress': 118, 'date': '2024-04-20T17:17:28Z', 'rollNumber': 145, 'sessionNumber': 2, 'url': 'https://clerk.house.gov/evs/2024/roll145.xml'}], 'sourceSystem': {'code': 2, 'name': 'House floor actions'}, 'text': 'On passage Passed by the Yeas and Nays: 360 - 58 (Roll no. 145).', 'type': 'Floor'}\n",
      "Payload keys: ['actions', 'pagination', 'request']\n",
      "  Fetched 20 actions at offset 0\n",
      "{'actionCode': 'H37100', 'actionDate': '2024-05-16', 'actionTime': '17:03:16', 'recordedVotes': [{'chamber': 'House', 'congress': 118, 'date': '2024-05-16T21:03:16Z', 'rollNumber': 217, 'sessionNumber': 2, 'url': 'https://clerk.house.gov/evs/2024/roll217.xml'}], 'sourceSystem': {'code': 2, 'name': 'House floor actions'}, 'text': 'On passage Passed by the Yeas and Nays: 224 - 187 (Roll no. 217). (text: CR H3287-3288)', 'type': 'Floor'}\n",
      "Payload keys: ['actions', 'pagination', 'request']\n",
      "  Fetched 106 actions at offset 0\n",
      "{'actionCode': 'H37100', 'actionDate': '2024-06-14', 'actionTime': '11:10:15', 'recordedVotes': [{'chamber': 'House', 'congress': 118, 'date': '2024-06-14T15:10:15Z', 'rollNumber': 279, 'sessionNumber': 2, 'url': 'https://clerk.house.gov/evs/2024/roll279.xml'}], 'sourceSystem': {'code': 2, 'name': 'House floor actions'}, 'text': 'On passage Passed by recorded vote: 217 - 199 (Roll no. 279).', 'type': 'Floor'}\n",
      "Payload keys: ['actions', 'pagination', 'request']\n",
      "  Fetched 103 actions at offset 0\n",
      "{'actionCode': 'H37100', 'actionDate': '2024-06-28', 'actionTime': '11:06:35', 'recordedVotes': [{'chamber': 'House', 'congress': 118, 'date': '2024-06-28T15:06:35Z', 'rollNumber': 335, 'sessionNumber': 2, 'url': 'https://clerk.house.gov/evs/2024/roll335.xml'}], 'sourceSystem': {'code': 2, 'name': 'House floor actions'}, 'text': 'On passage Passed by the Yeas and Nays: 212 - 200 (Roll no. 335).', 'type': 'Floor'}\n",
      "Payload keys: ['actions', 'pagination', 'request']\n",
      "  Fetched 55 actions at offset 0\n",
      "{'actionCode': 'H37100', 'actionDate': '2024-06-28', 'actionTime': '10:40:45', 'recordedVotes': [{'chamber': 'House', 'congress': 118, 'date': '2024-06-28T14:40:45Z', 'rollNumber': 331, 'sessionNumber': 2, 'url': 'https://clerk.house.gov/evs/2024/roll331.xml'}], 'sourceSystem': {'code': 2, 'name': 'House floor actions'}, 'text': 'On passage Passed by the Yeas and Nays: 217 - 198 (Roll no. 331).', 'type': 'Floor'}\n",
      "Payload keys: ['actions', 'pagination', 'request']\n",
      "  Fetched 51 actions at offset 0\n",
      "{'actionCode': 'H37100', 'actionDate': '2023-11-30', 'actionTime': '17:00:04', 'recordedVotes': [{'chamber': 'House', 'congress': 118, 'date': '2023-11-30T22:00:04Z', 'rollNumber': 687, 'sessionNumber': 1, 'url': 'https://clerk.house.gov/evs/2023/roll687.xml'}], 'sourceSystem': {'code': 2, 'name': 'House floor actions'}, 'text': 'On passage Passed by the Yeas and Nays: 307 - 119, 1 Present (Roll no. 687).', 'type': 'Floor'}\n"
     ]
    }
   ],
   "source": [
    "# If you make edits to get_votes.py and want them picked up automatically:\n",
    "%load_ext autoreload\n",
    "%autoreload 2\n",
    "\n",
    "# Standard imports\n",
    "from get_votes import fetch_and_store_batch, build_vote_matrix, compute_member_total_scores\n",
    "import pandas as pd\n",
    "\n",
    "\n",
    "\n",
    "bills = [\n",
    "    (118, \"hr\", 8369),\n",
    "    (118, \"hr\", 8070),\n",
    "    (118, \"hr\", 8771),\n",
    "    (118, \"hr\", 8774),\n",
    "    (118, \"hr\", 5961),\n",
    "]\n",
    "\n",
    "# 1) Define the bills you want to fetch:\n",
    "bills = [\n",
    "    (118, \"hr\", 8034),\n",
    "    (118, \"hr\", 6090),\n",
    "    (118, \"hr\", 340),\n",
    "    (118, \"hr\", 6126),\n",
    "    (118, \"hr\", 2670),\n",
    "    (118, \"hr\", 7217),\n",
    "]\n",
    "\n",
    "\n",
    "# 1) Define the bills you want to fetch:\n",
    "bills = [\n",
    "    (118, \"hr\", 8034),\n",
    "    (118, \"hr\", 6090),\n",
    "    (118, \"hr\", 340),\n",
    "    (118, \"hr\", 6126),\n",
    "    (118, \"hr\", 2670),\n",
    "    (118, \"hr\", 7217),\n",
    " #   (118, \"hr\", 2882),\n",
    "    (118, \"hr\", 5917),\n",
    "   # (118, \"hr\", 815),\n",
    "    (118, \"hr\", 8038),\n",
    "    (118, \"hr\", 8369),\n",
    "    (118, \"hr\", 8070),\n",
    "    (118, \"hr\", 8771),\n",
    "    (118, \"hr\", 8774),\n",
    "    (118, \"hr\", 5961),\n",
    "]\n",
    "\n",
    "\n",
    "\n",
    "\n",
    "\n",
    "# 2) Fetch & store into votes.db (will create/append the SQLite file)\n",
    "fetch_and_store_batch(bills, db_path=\"votes.db\")\n",
    "\n",
    "# 3) Build the vote‐matrix DataFrame\n",
    "vote_matrix = build_vote_matrix(bills, db_path=\"votes.db\")\n",
    "\n",
    "# 4) Display it in the notebook\n",
    "\n",
    "\n"
   ],
   "metadata": {
    "collapsed": false,
    "ExecuteTime": {
     "end_time": "2025-08-19T01:51:46.929618Z",
     "start_time": "2025-08-19T01:51:27.734164Z"
    }
   },
   "id": "bd65144b03f14ea0",
   "execution_count": 9
  },
  {
   "cell_type": "code",
   "outputs": [
    {
     "name": "stdout",
     "output_type": "stream",
     "text": [
      "                   name state party  total_score  rank  percent HR.2670  \\\n",
      "member_id                                                                 \n",
      "T000481           Tlaib    MI     D         12.0     1      0.2     Nay   \n",
      "O000173            Omar    MN     D         12.0     1      0.2     Nay   \n",
      "V000081       Velázquez    NY     D         10.0    10      2.3     Nay   \n",
      "R000617         Ramirez    IL     D         10.0    10      2.3     Nay   \n",
      "J000309    Jackson (IL)    IL     D         10.0    10      2.3     Nay   \n",
      "\n",
      "          HR.340 HR.5917 HR.5961 HR.6090 HR.6126 HR.7217 HR.8034 HR.8038  \\\n",
      "member_id                                                                  \n",
      "T000481      Nay     Nay     Nay     Nay     Nay     Nay     Nay     Nay   \n",
      "O000173      Nay     Nay     Nay     Nay     Nay     Nay     Nay     Nay   \n",
      "V000081      Nay     Yea     Nay     Nay     Nay     Nay     Nay     Nay   \n",
      "R000617      Nay     Yea     Nay     Nay     Nay     Nay     Nay     Nay   \n",
      "J000309      Nay     Yea     Nay     Nay     Nay     Nay     Nay     Nay   \n",
      "\n",
      "          HR.8070 HR.8369 HR.8771 HR.8774  \n",
      "member_id                                  \n",
      "T000481        No     Nay     Nay     Nay  \n",
      "O000173        No     Nay     Nay     Nay  \n",
      "V000081        No     Nay     Nay     Nay  \n",
      "R000617        No     Nay     Nay     Nay  \n",
      "J000309        No     Nay     Nay     Nay  \n"
     ]
    }
   ],
   "source": [
    "# your raw weights list: (congress, bill_type, bill_number, yea, present, nay, no_vote)\n",
    "weights = [\n",
    "    (118, \"hr\", 8034, -1, 0,  1, 0),\n",
    "    (118, \"hr\", 6090, -1, 0,  1, 0),\n",
    "    (118, \"hr\", 340,  -1, 0,  1, 0),\n",
    "    (118, \"hr\", 6126, -1, 0,  1, 0),\n",
    "    (118, \"hr\", 2670, -1, 0,  1, 0),\n",
    "    (118, \"hr\", 7217, -1, 0,  1, 0),\n",
    "    (118, \"hr\", 2882, -1, 0,  1, 0),\n",
    "    (118, \"hr\", 5917, -1, 0,  1, 0),\n",
    "    (118, \"hr\", 8038, -1, 0,  1, 0),\n",
    "    (118, \"hr\", 8369, -1, 0,  1, 0),\n",
    "    (118, \"hr\", 8070, -1, 0,  1, 0),\n",
    "    (118, \"hr\", 8771, -1, 0,  1, 0),\n",
    "    (118, \"hr\", 8774, -1, 0,  1, 0),\n",
    "    (118, \"hr\", 5961, -1, 0,  1, 0),\n",
    "]\n",
    "\n",
    "# Build the rules dict\n",
    "rules = {}\n",
    "for _, bill_type, bill_number, yea_w, pres_w, nay_w, no_w in weights:\n",
    "    bill_id = f\"{bill_type.upper()}.{bill_number}\"\n",
    "    rules[bill_id] = {\n",
    "        \"Yea\":        yea_w,\n",
    "        \"Nay\":        nay_w,\n",
    "        \"Present\":    pres_w,\n",
    "        \"Not Voting\": no_w,\n",
    "    }\n",
    "\n",
    "# Example output:\n",
    "# {\n",
    "#   \"HR.8034\": {\"Yea\": -1, \"Nay\": 1, \"Present\": 0, \"Not Voting\": 0},\n",
    "#    … \n",
    "# }\n",
    "\n",
    "# Then pass `rules` into your scorer:\n",
    "scores = compute_member_total_scores(vote_matrix, rules, default_score=0.0)\n",
    "print(scores.head())\n"
   ],
   "metadata": {
    "collapsed": false,
    "ExecuteTime": {
     "end_time": "2025-08-19T01:51:51.050894Z",
     "start_time": "2025-08-19T01:51:51.007258Z"
    }
   },
   "id": "6fbc81457d2e358f",
   "execution_count": 10
  },
  {
   "cell_type": "code",
   "outputs": [
    {
     "ename": "KeyError",
     "evalue": "False",
     "output_type": "error",
     "traceback": [
      "\u001B[31m---------------------------------------------------------------------------\u001B[39m",
      "\u001B[31mKeyError\u001B[39m                                  Traceback (most recent call last)",
      "\u001B[36mFile \u001B[39m\u001B[32m~/.pyenv/versions/miniforge3-25.1.1-0/envs/navp/lib/python3.13/site-packages/pandas/core/indexes/base.py:3805\u001B[39m, in \u001B[36mIndex.get_loc\u001B[39m\u001B[34m(self, key)\u001B[39m\n\u001B[32m   3804\u001B[39m \u001B[38;5;28;01mtry\u001B[39;00m:\n\u001B[32m-> \u001B[39m\u001B[32m3805\u001B[39m     \u001B[38;5;28;01mreturn\u001B[39;00m \u001B[38;5;28;43mself\u001B[39;49m\u001B[43m.\u001B[49m\u001B[43m_engine\u001B[49m\u001B[43m.\u001B[49m\u001B[43mget_loc\u001B[49m\u001B[43m(\u001B[49m\u001B[43mcasted_key\u001B[49m\u001B[43m)\u001B[49m\n\u001B[32m   3806\u001B[39m \u001B[38;5;28;01mexcept\u001B[39;00m \u001B[38;5;167;01mKeyError\u001B[39;00m \u001B[38;5;28;01mas\u001B[39;00m err:\n",
      "\u001B[36mFile \u001B[39m\u001B[32mindex.pyx:167\u001B[39m, in \u001B[36mpandas._libs.index.IndexEngine.get_loc\u001B[39m\u001B[34m()\u001B[39m\n",
      "\u001B[36mFile \u001B[39m\u001B[32mindex.pyx:196\u001B[39m, in \u001B[36mpandas._libs.index.IndexEngine.get_loc\u001B[39m\u001B[34m()\u001B[39m\n",
      "\u001B[36mFile \u001B[39m\u001B[32mpandas/_libs/hashtable_class_helper.pxi:7081\u001B[39m, in \u001B[36mpandas._libs.hashtable.PyObjectHashTable.get_item\u001B[39m\u001B[34m()\u001B[39m\n",
      "\u001B[36mFile \u001B[39m\u001B[32mpandas/_libs/hashtable_class_helper.pxi:7089\u001B[39m, in \u001B[36mpandas._libs.hashtable.PyObjectHashTable.get_item\u001B[39m\u001B[34m()\u001B[39m\n",
      "\u001B[31mKeyError\u001B[39m: False",
      "\nThe above exception was the direct cause of the following exception:\n",
      "\u001B[31mKeyError\u001B[39m                                  Traceback (most recent call last)",
      "\u001B[36mCell\u001B[39m\u001B[36m \u001B[39m\u001B[32mIn[12]\u001B[39m\u001B[32m, line 1\u001B[39m\n\u001B[32m----> \u001B[39m\u001B[32m1\u001B[39m \u001B[38;5;28mprint\u001B[39m(\u001B[43mvote_matrix\u001B[49m\u001B[43m[\u001B[49m\u001B[33;43m\"\u001B[39;49m\u001B[33;43mstate\u001B[39;49m\u001B[33;43m\"\u001B[39;49m\u001B[43m \u001B[49m\u001B[43m==\u001B[49m\u001B[43m \u001B[49m\u001B[33;43m\"\u001B[39;49m\u001B[33;43mNY\u001B[39;49m\u001B[33;43m\"\u001B[39;49m\u001B[43m]\u001B[49m)\n",
      "\u001B[36mFile \u001B[39m\u001B[32m~/.pyenv/versions/miniforge3-25.1.1-0/envs/navp/lib/python3.13/site-packages/pandas/core/frame.py:4102\u001B[39m, in \u001B[36mDataFrame.__getitem__\u001B[39m\u001B[34m(self, key)\u001B[39m\n\u001B[32m   4100\u001B[39m \u001B[38;5;28;01mif\u001B[39;00m \u001B[38;5;28mself\u001B[39m.columns.nlevels > \u001B[32m1\u001B[39m:\n\u001B[32m   4101\u001B[39m     \u001B[38;5;28;01mreturn\u001B[39;00m \u001B[38;5;28mself\u001B[39m._getitem_multilevel(key)\n\u001B[32m-> \u001B[39m\u001B[32m4102\u001B[39m indexer = \u001B[38;5;28;43mself\u001B[39;49m\u001B[43m.\u001B[49m\u001B[43mcolumns\u001B[49m\u001B[43m.\u001B[49m\u001B[43mget_loc\u001B[49m\u001B[43m(\u001B[49m\u001B[43mkey\u001B[49m\u001B[43m)\u001B[49m\n\u001B[32m   4103\u001B[39m \u001B[38;5;28;01mif\u001B[39;00m is_integer(indexer):\n\u001B[32m   4104\u001B[39m     indexer = [indexer]\n",
      "\u001B[36mFile \u001B[39m\u001B[32m~/.pyenv/versions/miniforge3-25.1.1-0/envs/navp/lib/python3.13/site-packages/pandas/core/indexes/base.py:3812\u001B[39m, in \u001B[36mIndex.get_loc\u001B[39m\u001B[34m(self, key)\u001B[39m\n\u001B[32m   3807\u001B[39m     \u001B[38;5;28;01mif\u001B[39;00m \u001B[38;5;28misinstance\u001B[39m(casted_key, \u001B[38;5;28mslice\u001B[39m) \u001B[38;5;129;01mor\u001B[39;00m (\n\u001B[32m   3808\u001B[39m         \u001B[38;5;28misinstance\u001B[39m(casted_key, abc.Iterable)\n\u001B[32m   3809\u001B[39m         \u001B[38;5;129;01mand\u001B[39;00m \u001B[38;5;28many\u001B[39m(\u001B[38;5;28misinstance\u001B[39m(x, \u001B[38;5;28mslice\u001B[39m) \u001B[38;5;28;01mfor\u001B[39;00m x \u001B[38;5;129;01min\u001B[39;00m casted_key)\n\u001B[32m   3810\u001B[39m     ):\n\u001B[32m   3811\u001B[39m         \u001B[38;5;28;01mraise\u001B[39;00m InvalidIndexError(key)\n\u001B[32m-> \u001B[39m\u001B[32m3812\u001B[39m     \u001B[38;5;28;01mraise\u001B[39;00m \u001B[38;5;167;01mKeyError\u001B[39;00m(key) \u001B[38;5;28;01mfrom\u001B[39;00m\u001B[38;5;250m \u001B[39m\u001B[34;01merr\u001B[39;00m\n\u001B[32m   3813\u001B[39m \u001B[38;5;28;01mexcept\u001B[39;00m \u001B[38;5;167;01mTypeError\u001B[39;00m:\n\u001B[32m   3814\u001B[39m     \u001B[38;5;66;03m# If we have a listlike key, _check_indexing_error will raise\u001B[39;00m\n\u001B[32m   3815\u001B[39m     \u001B[38;5;66;03m#  InvalidIndexError. Otherwise we fall through and re-raise\u001B[39;00m\n\u001B[32m   3816\u001B[39m     \u001B[38;5;66;03m#  the TypeError.\u001B[39;00m\n\u001B[32m   3817\u001B[39m     \u001B[38;5;28mself\u001B[39m._check_indexing_error(key)\n",
      "\u001B[31mKeyError\u001B[39m: False"
     ]
    }
   ],
   "source": [
    "print(vote_matrix[\"state\" == \"NY\"])"
   ],
   "metadata": {
    "collapsed": false,
    "ExecuteTime": {
     "end_time": "2025-08-19T01:52:42.870065Z",
     "start_time": "2025-08-19T01:52:42.789437Z"
    }
   },
   "id": "ebc15b757d9eabbd",
   "execution_count": 12
  },
  {
   "cell_type": "code",
   "outputs": [
    {
     "ename": "NameError",
     "evalue": "name 'vote_matrix' is not defined",
     "output_type": "error",
     "traceback": [
      "\u001B[31m---------------------------------------------------------------------------\u001B[39m",
      "\u001B[31mNameError\u001B[39m                                 Traceback (most recent call last)",
      "\u001B[36mCell\u001B[39m\u001B[36m \u001B[39m\u001B[32mIn[5]\u001B[39m\u001B[32m, line 1\u001B[39m\n\u001B[32m----> \u001B[39m\u001B[32m1\u001B[39m \u001B[43mvote_matrix\u001B[49m.loc[\u001B[33m\"\u001B[39m\u001B[33mB001224\u001B[39m\u001B[33m\"\u001B[39m]\n",
      "\u001B[31mNameError\u001B[39m: name 'vote_matrix' is not defined"
     ]
    }
   ],
   "source": [
    "vote_matrix.loc[\"B001224\"]"
   ],
   "metadata": {
    "collapsed": false,
    "ExecuteTime": {
     "end_time": "2025-07-11T20:53:24.209899Z",
     "start_time": "2025-07-11T20:53:24.167675Z"
    }
   },
   "id": "af97b620febf2719",
   "execution_count": 5
  },
  {
   "cell_type": "code",
   "outputs": [],
   "source": [
    "print(vote_matrix[])"
   ],
   "metadata": {
    "collapsed": false,
    "ExecuteTime": {
     "end_time": "2025-05-08T20:20:13.499644Z",
     "start_time": "2025-05-08T20:20:13.490887Z"
    }
   },
   "id": "6c85540dc530ec2b",
   "execution_count": 21
  },
  {
   "cell_type": "code",
   "outputs": [
    {
     "name": "stdout",
     "output_type": "stream",
     "text": [
      "               name state party HR.2670 HR.2882 HR.340 HR.5917  HR.5961  \\\n",
      "member_id                                                                 \n",
      "A000370       Adams    NC     D     Yea     Yea    Yea     Yea      Yea   \n",
      "A000055    Aderholt    AL     R     Yea     Yea    Yea     Yea      Yea   \n",
      "A000371     Aguilar    CA     D     Yea     Yea    Yea     Yea      Yea   \n",
      "A000379      Alford    MO     R     Yea     Yea    Yea     Yea      Yea   \n",
      "A000372       Allen    GA     R     Yea     Yea    Yea     Yea      Yea   \n",
      "...             ...   ...   ...     ...     ...    ...     ...      ...   \n",
      "S001222      Santos    NY     R     Nay     NaN    Yea     NaN  Present   \n",
      "S001192     Stewart    UT     R     Nay     NaN    NaN     NaN      NaN   \n",
      "K000402     Kennedy    NY     D     NaN     NaN    NaN     NaN      NaN   \n",
      "F000480        Fong    CA     R     NaN     NaN    NaN     NaN      NaN   \n",
      "R000619       Rulli    OH     R     NaN     NaN    NaN     NaN      NaN   \n",
      "\n",
      "          HR.6090 HR.6126 HR.7217 HR.8034 HR.8038 HR.8070 HR.8369 HR.8771  \\\n",
      "member_id                                                                   \n",
      "A000370       Yea     Nay     Nay     Yea     Yea     Yea     Yea     Yea   \n",
      "A000055       Yea     Yea     Yea     Yea     Yea     Nay     Nay     Nay   \n",
      "A000371       Yea     Nay     Nay     Yea     Yea     Yea     Yea     Yea   \n",
      "A000379       Yea     Yea     Yea     Yea     Yea     Nay     Nay     Nay   \n",
      "A000372       Yea     Yea     Yea     Yea     Yea     Nay     Nay     Nay   \n",
      "...           ...     ...     ...     ...     ...     ...     ...     ...   \n",
      "S001222       NaN     Yea     NaN     NaN     NaN     NaN     NaN     NaN   \n",
      "S001192       NaN     NaN     NaN     NaN     NaN     NaN     NaN     NaN   \n",
      "K000402       NaN     NaN     NaN     NaN     NaN     Yea     Yea     Yea   \n",
      "F000480       NaN     NaN     NaN     NaN     NaN     Nay     NaN     Nay   \n",
      "R000619       NaN     NaN     NaN     NaN     NaN     NaN     NaN     Nay   \n",
      "\n",
      "          HR.8774  \n",
      "member_id          \n",
      "A000370       Yea  \n",
      "A000055       Nay  \n",
      "A000371       Yea  \n",
      "A000379       Nay  \n",
      "A000372       Nay  \n",
      "...           ...  \n",
      "S001222       NaN  \n",
      "S001192       NaN  \n",
      "K000402       Yea  \n",
      "F000480       Nay  \n",
      "R000619       Nay  \n",
      "\n",
      "[440 rows x 17 columns]\n"
     ]
    }
   ],
   "source": [
    "print(vote_matrix)"
   ],
   "metadata": {
    "collapsed": false,
    "ExecuteTime": {
     "end_time": "2025-05-08T20:23:49.678935Z",
     "start_time": "2025-05-08T20:23:49.656012Z"
    }
   },
   "id": "4387687cea0eee1",
   "execution_count": 25
  },
  {
   "cell_type": "markdown",
   "source": [
    "Now I will make the weighting function"
   ],
   "metadata": {
    "collapsed": false
   },
   "id": "7908ca637599eda0"
  },
  {
   "cell_type": "code",
   "outputs": [],
   "source": [
    "weights = [\n",
    "    (118, \"hr\", 8034, -1, 0, 1, 0),\n",
    "    (118, \"hr\", 6090, -1, 0, 1, 0),\n",
    "    (118, \"hr\", 340, -1, 0, 1, 0),\n",
    "    (118, \"hr\", 6126, -1, 0, 1, 0),\n",
    "    (118, \"hr\", 2670, -1, 0, 1, 0),\n",
    "    (118, \"hr\", 7217, -1, 0, 1, 0),\n",
    "    (118, \"hr\", 2882, -1, 0, 1, 0),\n",
    "    (118, \"hr\", 5917, -1, 0, 1, 0),\n",
    "   # (118, \"hr\", 815),\n",
    "    (118, \"hr\", 8038, -1, 0, 1, 0),\n",
    "    (118, \"hr\", 8369, -1, 0, 1, 0),\n",
    "    (118, \"hr\", 8070, 1),\n",
    "    (118, \"hr\", 8771, 1),\n",
    "    (118, \"hr\", 8774, 1),\n",
    "    (118, \"hr\", 5961, 1),\n",
    "]"
   ],
   "metadata": {
    "collapsed": false,
    "ExecuteTime": {
     "end_time": "2025-08-19T01:51:01.523559Z",
     "start_time": "2025-08-19T01:51:01.469258Z"
    }
   },
   "id": "71cffb9b745446b",
   "execution_count": 6
  },
  {
   "cell_type": "code",
   "outputs": [],
   "source": [
    "def compute_member_total_scores(\n",
    "    vote_matrix: pd.DataFrame,\n",
    "    scoring_rules: dict[str, dict[str, float]],\n",
    "    default_score: float = 0.0\n",
    ") -> pd.Series:\n",
    "    \"\"\"\n",
    "    Given a vote-string matrix and per-bill scoring rules, compute each\n",
    "    member’s total score.\n",
    "\n",
    "    Parameters\n",
    "    ----------\n",
    "    vote_matrix : pd.DataFrame\n",
    "        Rows are member_id, columns are bill_id, values are vote strings\n",
    "        (“Yea”, “Nay”, “Present”, or NaN).\n",
    "    scoring_rules : dict of dict\n",
    "        Per-bill maps of vote→score, e.g.\n",
    "            {\n",
    "              \"HR.8034\": {\"Yea\": -1, \"Nay\": 1,  \"Present\": 0.5},\n",
    "              \"HR.6090\": {\"Yea\":  2,  \"Nay\": -2      }\n",
    "            }\n",
    "    default_score : float\n",
    "        Score to assign if a vote is missing or not in the bill’s map.\n",
    "\n",
    "    Returns\n",
    "    -------\n",
    "    pd.Series\n",
    "        Indexed by member_id, each value is the sum of that member’s\n",
    "        scores across all bills.\n",
    "    \"\"\"\n",
    "    # 1) Build a DataFrame of numeric scores per (member, bill)\n",
    "    score_df = pd.DataFrame(index=vote_matrix.index, columns=vote_matrix.columns)\n",
    "\n",
    "    for bill_id in vote_matrix.columns:\n",
    "        rule = scoring_rules.get(bill_id, {})\n",
    "        # map strings → numeric, fill NaN or unmapped with default_score\n",
    "        score_df[bill_id] = vote_matrix[bill_id].map(rule).fillna(default_score)\n",
    "\n",
    "    # 2) Sum across all bills (axis=1) to get each member’s total\n",
    "    total_scores = score_df.sum(axis=1)\n",
    "    vote_matrix[\"rank\"] = (\n",
    "        vote_matrix[\"total_score\"]\n",
    "          .rank(ascending=False,       # highest score → rank 1\n",
    "                method=\"average\")        # dense: no gaps in ranking\n",
    "          .astype(int)                # make them ints rather than floats\n",
    "    )\n",
    "    vote_matrix[\"percent\"] = vote_matrix[\"rank\"] / vote_matrix.shape[0] *100\n",
    "    vote_matrix[\"percent\"] = vote_matrix[\"percent\"].round(1)\n",
    "\n",
    "\n",
    "     # 1) Pop it out (this returns the Series and removes the column)\n",
    "    ts = vote_matrix.pop(\"total_score\")\n",
    "    # 2) Find where \"party\" lives\n",
    "    pos = vote_matrix.columns.get_loc(\"party\") + 1\n",
    "    # 3) Insert total_score back in at that position\n",
    "    vote_matrix.insert(pos, \"total_score\", ts)\n",
    "\n",
    "    # 1) Pop it out (this returns the Series and removes the column)\n",
    "    ts = vote_matrix.pop(\"rank\")\n",
    "    # 2) Find where \"party\" lives\n",
    "    pos = vote_matrix.columns.get_loc(\"total_score\") + 1\n",
    "    # 3) Insert total_score back in at that position\n",
    "    vote_matrix.insert(pos, \"rank\", ts)\n",
    "\n",
    "    # 1) Pop it out (this returns the Series and removes the column)\n",
    "    ts = vote_matrix.pop(\"percent\")\n",
    "    # 2) Find where \"party\" lives\n",
    "    pos = vote_matrix.columns.get_loc(\"rank\") + 1\n",
    "    # 3) Insert total_score back in at that position\n",
    "    vote_matrix.insert(pos, \"percent\", ts)\n",
    "    \n",
    "    vote_matrix = vote_matrix.sort_values(by=\"total_score\", ascending=False)\n",
    "    return(vote_matrix)\n"
   ],
   "metadata": {
    "collapsed": false,
    "ExecuteTime": {
     "end_time": "2025-07-11T21:12:12.580538Z",
     "start_time": "2025-07-11T21:12:12.557825Z"
    }
   },
   "id": "ff92df657d41b7cd",
   "execution_count": 19
  },
  {
   "cell_type": "code",
   "outputs": [
    {
     "name": "stdout",
     "output_type": "stream",
     "text": [
      "                   name state party  total_score  rank  percent HR.2670  \\\n",
      "member_id                                                                 \n",
      "P000607           Pocan    WI     D          6.0    13      3.0     Nay   \n",
      "P000617        Pressley    MA     D          6.0    13      3.0     Nay   \n",
      "T000487          Tokuda    HI     D          6.0    13      3.0     Nay   \n",
      "J000309    Jackson (IL)    IL     D          6.0    13      3.0     Nay   \n",
      "B001318          Balint    VT     D          6.0    13      3.0     Nay   \n",
      "\n",
      "          HR.340 HR.6090 HR.6126 HR.7217 HR.8034  \n",
      "member_id                                         \n",
      "P000607      Nay     Nay     Nay     Nay     Nay  \n",
      "P000617      Nay     Nay     Nay     Nay     Nay  \n",
      "T000487      Nay     Nay     Nay     Nay     Nay  \n",
      "J000309      Nay     Nay     Nay     Nay     Nay  \n",
      "B001318      Nay     Nay     Nay     Nay     Nay  \n"
     ]
    }
   ],
   "source": [
    "# your raw weights list: (congress, bill_type, bill_number, yea, present, nay, no_vote)\n",
    "weights = [\n",
    "    (118, \"hr\", 8034, -1, 0,  1, 0),\n",
    "    (118, \"hr\", 6090, -1, 0,  1, 0),\n",
    "    (118, \"hr\", 340,  -1, 0,  1, 0),\n",
    "    (118, \"hr\", 6126, -1, 0,  1, 0),\n",
    "    (118, \"hr\", 2670, -1, 0,  1, 0),\n",
    "    (118, \"hr\", 7217, -1, 0,  1, 0),\n",
    "    (118, \"hr\", 2882, -1, 0,  1, 0),\n",
    "    (118, \"hr\", 5917, -1, 0,  1, 0),\n",
    "    (118, \"hr\", 8038, -1, 0,  1, 0),\n",
    "    (118, \"hr\", 8369, -1, 0,  1, 0),\n",
    "    (118, \"hr\", 8070, -1, 0,  1, 0),\n",
    "    (118, \"hr\", 8771, -1, 0,  1, 0),\n",
    "    (118, \"hr\", 8774, -1, 0,  1, 0),\n",
    "    (118, \"hr\", 5961, -1, 0,  1, 0),\n",
    "]\n",
    "\n",
    "# Build the rules dict\n",
    "rules = {}\n",
    "for _, bill_type, bill_number, yea_w, pres_w, nay_w, no_w in weights:\n",
    "    bill_id = f\"{bill_type.upper()}.{bill_number}\"\n",
    "    rules[bill_id] = {\n",
    "        \"Yea\":        yea_w,\n",
    "        \"Nay\":        nay_w,\n",
    "        \"Present\":    pres_w,\n",
    "        \"Not Voting\": no_w,\n",
    "    }\n",
    "\n",
    "# Example output:\n",
    "# {\n",
    "#   \"HR.8034\": {\"Yea\": -1, \"Nay\": 1, \"Present\": 0, \"Not Voting\": 0},\n",
    "#    … \n",
    "# }\n",
    "\n",
    "# Then pass `rules` into your scorer:\n",
    "scores = compute_member_total_scores(vote_matrix, rules, default_score=0.0)\n",
    "print(scores.head())\n"
   ],
   "metadata": {
    "collapsed": false,
    "ExecuteTime": {
     "end_time": "2025-08-19T01:51:05.994334Z",
     "start_time": "2025-08-19T01:51:05.965184Z"
    }
   },
   "id": "49fcece56099d8af",
   "execution_count": 7
  },
  {
   "cell_type": "code",
   "outputs": [
    {
     "data": {
      "text/plain": "                  name state party  total_score  rank  percent HR.2670 HR.340  \\\nmember_id                                                                       \nT000481          Tlaib    MI     D         12.0     1      0.2     Nay    Nay   \nO000173           Omar    MN     D         12.0     1      0.2     Nay    Nay   \nM000312       McGovern    MA     D         10.0    10      2.3     Nay    Nay   \nM001184         Massie    KY     R         10.0    10      2.3     Nay    Nay   \nF000476          Frost    FL     D         10.0    10      2.3     Nay    Nay   \n...                ...   ...   ...          ...   ...      ...     ...    ...   \nC001087       Crawford    AR     R        -12.0   370     83.9     Yea    Yea   \nG000589    Gooden (TX)    TX     R        -12.0   370     83.9     Yea    Yea   \nM000871           Mann    KS     R        -12.0   370     83.9     Yea    Yea   \nL000599         Lawler    NY     R        -12.0   370     83.9     Yea    Yea   \nE000246        Edwards    NC     R        -12.0   370     83.9     Yea    Yea   \n\n          HR.5917 HR.5961 HR.6090 HR.6126 HR.7217 HR.8034 HR.8038 HR.8070  \\\nmember_id                                                                   \nT000481       Nay     Nay     Nay     Nay     Nay     Nay     Nay      No   \nO000173       Nay     Nay     Nay     Nay     Nay     Nay     Nay      No   \nM000312       Yea     Nay     Nay     Nay     Nay     Nay     Nay      No   \nM001184       Nay     Nay     Nay     Nay     Nay     Nay     Nay      No   \nF000476       Yea     Nay     Nay     Nay     Nay     Nay     Nay      No   \n...           ...     ...     ...     ...     ...     ...     ...     ...   \nC001087       Yea     Yea     Yea     Yea     Yea     Yea     Yea     Aye   \nG000589       Yea     Yea     Yea     Yea     Yea     Yea     Yea     Aye   \nM000871       Yea     Yea     Yea     Yea     Yea     Yea     Yea     Aye   \nL000599       Yea     Yea     Yea     Yea     Yea     Yea     Yea     Aye   \nE000246       Yea     Yea     Yea     Yea     Yea     Yea     Yea     Aye   \n\n          HR.8369     HR.8771     HR.8774  \nmember_id                                  \nT000481       Nay         Nay         Nay  \nO000173       Nay         Nay         Nay  \nM000312       Nay         Nay         Nay  \nM001184       Nay  Not Voting  Not Voting  \nF000476       Nay         Nay         Nay  \n...           ...         ...         ...  \nC001087       Yea         Yea         Yea  \nG000589       Yea         Yea         Yea  \nM000871       Yea         Yea         Yea  \nL000599       Yea         Yea         Yea  \nE000246       Yea         Yea         Yea  \n\n[441 rows x 19 columns]",
      "text/html": "<div>\n<style scoped>\n    .dataframe tbody tr th:only-of-type {\n        vertical-align: middle;\n    }\n\n    .dataframe tbody tr th {\n        vertical-align: top;\n    }\n\n    .dataframe thead th {\n        text-align: right;\n    }\n</style>\n<table border=\"1\" class=\"dataframe\">\n  <thead>\n    <tr style=\"text-align: right;\">\n      <th></th>\n      <th>name</th>\n      <th>state</th>\n      <th>party</th>\n      <th>total_score</th>\n      <th>rank</th>\n      <th>percent</th>\n      <th>HR.2670</th>\n      <th>HR.340</th>\n      <th>HR.5917</th>\n      <th>HR.5961</th>\n      <th>HR.6090</th>\n      <th>HR.6126</th>\n      <th>HR.7217</th>\n      <th>HR.8034</th>\n      <th>HR.8038</th>\n      <th>HR.8070</th>\n      <th>HR.8369</th>\n      <th>HR.8771</th>\n      <th>HR.8774</th>\n    </tr>\n    <tr>\n      <th>member_id</th>\n      <th></th>\n      <th></th>\n      <th></th>\n      <th></th>\n      <th></th>\n      <th></th>\n      <th></th>\n      <th></th>\n      <th></th>\n      <th></th>\n      <th></th>\n      <th></th>\n      <th></th>\n      <th></th>\n      <th></th>\n      <th></th>\n      <th></th>\n      <th></th>\n      <th></th>\n    </tr>\n  </thead>\n  <tbody>\n    <tr>\n      <th>T000481</th>\n      <td>Tlaib</td>\n      <td>MI</td>\n      <td>D</td>\n      <td>12.0</td>\n      <td>1</td>\n      <td>0.2</td>\n      <td>Nay</td>\n      <td>Nay</td>\n      <td>Nay</td>\n      <td>Nay</td>\n      <td>Nay</td>\n      <td>Nay</td>\n      <td>Nay</td>\n      <td>Nay</td>\n      <td>Nay</td>\n      <td>No</td>\n      <td>Nay</td>\n      <td>Nay</td>\n      <td>Nay</td>\n    </tr>\n    <tr>\n      <th>O000173</th>\n      <td>Omar</td>\n      <td>MN</td>\n      <td>D</td>\n      <td>12.0</td>\n      <td>1</td>\n      <td>0.2</td>\n      <td>Nay</td>\n      <td>Nay</td>\n      <td>Nay</td>\n      <td>Nay</td>\n      <td>Nay</td>\n      <td>Nay</td>\n      <td>Nay</td>\n      <td>Nay</td>\n      <td>Nay</td>\n      <td>No</td>\n      <td>Nay</td>\n      <td>Nay</td>\n      <td>Nay</td>\n    </tr>\n    <tr>\n      <th>M000312</th>\n      <td>McGovern</td>\n      <td>MA</td>\n      <td>D</td>\n      <td>10.0</td>\n      <td>10</td>\n      <td>2.3</td>\n      <td>Nay</td>\n      <td>Nay</td>\n      <td>Yea</td>\n      <td>Nay</td>\n      <td>Nay</td>\n      <td>Nay</td>\n      <td>Nay</td>\n      <td>Nay</td>\n      <td>Nay</td>\n      <td>No</td>\n      <td>Nay</td>\n      <td>Nay</td>\n      <td>Nay</td>\n    </tr>\n    <tr>\n      <th>M001184</th>\n      <td>Massie</td>\n      <td>KY</td>\n      <td>R</td>\n      <td>10.0</td>\n      <td>10</td>\n      <td>2.3</td>\n      <td>Nay</td>\n      <td>Nay</td>\n      <td>Nay</td>\n      <td>Nay</td>\n      <td>Nay</td>\n      <td>Nay</td>\n      <td>Nay</td>\n      <td>Nay</td>\n      <td>Nay</td>\n      <td>No</td>\n      <td>Nay</td>\n      <td>Not Voting</td>\n      <td>Not Voting</td>\n    </tr>\n    <tr>\n      <th>F000476</th>\n      <td>Frost</td>\n      <td>FL</td>\n      <td>D</td>\n      <td>10.0</td>\n      <td>10</td>\n      <td>2.3</td>\n      <td>Nay</td>\n      <td>Nay</td>\n      <td>Yea</td>\n      <td>Nay</td>\n      <td>Nay</td>\n      <td>Nay</td>\n      <td>Nay</td>\n      <td>Nay</td>\n      <td>Nay</td>\n      <td>No</td>\n      <td>Nay</td>\n      <td>Nay</td>\n      <td>Nay</td>\n    </tr>\n    <tr>\n      <th>...</th>\n      <td>...</td>\n      <td>...</td>\n      <td>...</td>\n      <td>...</td>\n      <td>...</td>\n      <td>...</td>\n      <td>...</td>\n      <td>...</td>\n      <td>...</td>\n      <td>...</td>\n      <td>...</td>\n      <td>...</td>\n      <td>...</td>\n      <td>...</td>\n      <td>...</td>\n      <td>...</td>\n      <td>...</td>\n      <td>...</td>\n      <td>...</td>\n    </tr>\n    <tr>\n      <th>C001087</th>\n      <td>Crawford</td>\n      <td>AR</td>\n      <td>R</td>\n      <td>-12.0</td>\n      <td>370</td>\n      <td>83.9</td>\n      <td>Yea</td>\n      <td>Yea</td>\n      <td>Yea</td>\n      <td>Yea</td>\n      <td>Yea</td>\n      <td>Yea</td>\n      <td>Yea</td>\n      <td>Yea</td>\n      <td>Yea</td>\n      <td>Aye</td>\n      <td>Yea</td>\n      <td>Yea</td>\n      <td>Yea</td>\n    </tr>\n    <tr>\n      <th>G000589</th>\n      <td>Gooden (TX)</td>\n      <td>TX</td>\n      <td>R</td>\n      <td>-12.0</td>\n      <td>370</td>\n      <td>83.9</td>\n      <td>Yea</td>\n      <td>Yea</td>\n      <td>Yea</td>\n      <td>Yea</td>\n      <td>Yea</td>\n      <td>Yea</td>\n      <td>Yea</td>\n      <td>Yea</td>\n      <td>Yea</td>\n      <td>Aye</td>\n      <td>Yea</td>\n      <td>Yea</td>\n      <td>Yea</td>\n    </tr>\n    <tr>\n      <th>M000871</th>\n      <td>Mann</td>\n      <td>KS</td>\n      <td>R</td>\n      <td>-12.0</td>\n      <td>370</td>\n      <td>83.9</td>\n      <td>Yea</td>\n      <td>Yea</td>\n      <td>Yea</td>\n      <td>Yea</td>\n      <td>Yea</td>\n      <td>Yea</td>\n      <td>Yea</td>\n      <td>Yea</td>\n      <td>Yea</td>\n      <td>Aye</td>\n      <td>Yea</td>\n      <td>Yea</td>\n      <td>Yea</td>\n    </tr>\n    <tr>\n      <th>L000599</th>\n      <td>Lawler</td>\n      <td>NY</td>\n      <td>R</td>\n      <td>-12.0</td>\n      <td>370</td>\n      <td>83.9</td>\n      <td>Yea</td>\n      <td>Yea</td>\n      <td>Yea</td>\n      <td>Yea</td>\n      <td>Yea</td>\n      <td>Yea</td>\n      <td>Yea</td>\n      <td>Yea</td>\n      <td>Yea</td>\n      <td>Aye</td>\n      <td>Yea</td>\n      <td>Yea</td>\n      <td>Yea</td>\n    </tr>\n    <tr>\n      <th>E000246</th>\n      <td>Edwards</td>\n      <td>NC</td>\n      <td>R</td>\n      <td>-12.0</td>\n      <td>370</td>\n      <td>83.9</td>\n      <td>Yea</td>\n      <td>Yea</td>\n      <td>Yea</td>\n      <td>Yea</td>\n      <td>Yea</td>\n      <td>Yea</td>\n      <td>Yea</td>\n      <td>Yea</td>\n      <td>Yea</td>\n      <td>Aye</td>\n      <td>Yea</td>\n      <td>Yea</td>\n      <td>Yea</td>\n    </tr>\n  </tbody>\n</table>\n<p>441 rows × 19 columns</p>\n</div>"
     },
     "execution_count": 14,
     "metadata": {},
     "output_type": "execute_result"
    }
   ],
   "source": [
    "scores.sort_values(by=\"total_score\", ascending=False)"
   ],
   "metadata": {
    "collapsed": false,
    "ExecuteTime": {
     "end_time": "2025-08-19T02:02:43.303369Z",
     "start_time": "2025-08-19T02:02:43.225088Z"
    }
   },
   "id": "623a1827477144bc",
   "execution_count": 14
  },
  {
   "cell_type": "code",
   "outputs": [
    {
     "data": {
      "text/plain": "                    name state party  total_score  rank  percent     HR.2670  \\\nmember_id                                                                      \nV000081        Velázquez    NY     D         10.0    10      2.3         Nay   \nO000172    Ocasio-Cortez    NY     D          9.0    18      4.1         Nay   \nB001223           Bowman    NY     D          8.0    24      5.4         Nay   \nC001067      Clarke (NY)    NY     D          6.0    41      9.3         Nay   \nK000402          Kennedy    NY     D          3.0    77     17.5         NaN   \nT000469            Tonko    NY     D          2.0   100     22.7         Nay   \nM001137            Meeks    NY     D          2.0   100     22.7         Nay   \nN000002           Nadler    NY     D          2.0   100     22.7         Nay   \nH001038     Higgins (NY)    NY     D          2.0   100     22.7         Nay   \nJ000294         Jeffries    NY     D          0.0   152     34.5         Nay   \nM001206          Morelle    NY     D          0.0   152     34.5         Nay   \nR000579             Ryan    NY     D          0.0   152     34.5         Nay   \nG000599     Goldman (NY)    NY     D          0.0   152     34.5         Nay   \nE000297        Espaillat    NY     D         -2.0   190     43.1         Nay   \nM001188             Meng    NY     D         -2.0   190     43.1         Nay   \nS001222           Santos    NY     R         -3.0   206     46.7         Yea   \nS001201           Suozzi    NY     D         -3.0   206     46.7         NaN   \nT000486      Torres (NY)    NY     D         -4.0   217     49.2         Nay   \nW000828    Williams (NY)    NY     R         -9.0   244     55.3  Not Voting   \nG000597        Garbarino    NY     R        -10.0   261     59.2         Yea   \nL000600       Langworthy    NY     R        -11.0   287     65.1         Yea   \nM001221         Molinaro    NY     R        -12.0   370     83.9         Yea   \nM000317      Malliotakis    NY     R        -12.0   370     83.9         Yea   \nD000632       D'Esposito    NY     R        -12.0   370     83.9         Yea   \nL000599           Lawler    NY     R        -12.0   370     83.9         Yea   \nS001196         Stefanik    NY     R        -12.0   370     83.9         Yea   \nL000598           LaLota    NY     R        -12.0   370     83.9         Yea   \nT000478           Tenney    NY     R        -12.0   370     83.9         Yea   \n\n               HR.340 HR.5917     HR.5961     HR.6090     HR.6126 HR.7217  \\\nmember_id                                                                   \nV000081           Nay     Yea         Nay         Nay         Nay     Nay   \nO000172           Nay     Yea  Not Voting         Nay         Nay     Nay   \nB001223           Nay     Yea         Nay         Nay         Nay     Nay   \nC001067           Nay     Yea         Nay         Nay         Nay     Nay   \nK000402           NaN     NaN         NaN         NaN         NaN     NaN   \nT000469           Yea     Yea         Nay         Yea         Nay     Nay   \nM001137           Yea     Yea         Nay         Yea         Nay     Nay   \nN000002           Yea     Yea         Nay         Nay         Nay     Nay   \nH001038           Yea     NaN         Nay         NaN         Nay     NaN   \nJ000294           Yea     Yea         Yea         Yea         Nay     Nay   \nM001206           Yea     Yea         Yea         Yea         Nay     Nay   \nR000579           Yea     Yea         Yea         Yea         Nay     Nay   \nG000599           Yea     Yea         Nay         Yea         Nay     Yea   \nE000297           Yea     Yea         Yea         Yea         Nay     Yea   \nM001188           Yea     Yea         Yea         Yea         Nay     Yea   \nS001222           Yea     NaN     Present         NaN         Yea     NaN   \nS001201           NaN     Yea         NaN         Yea         NaN     NaN   \nT000486           Yea     Yea         Yea         Yea         Nay     Yea   \nW000828           Yea     Yea         Yea         Yea         Yea     Yea   \nG000597    Not Voting     Yea         Yea         Yea  Not Voting     Yea   \nL000600           Yea     Yea         Yea  Not Voting         Yea     Yea   \nM001221           Yea     Yea         Yea         Yea         Yea     Yea   \nM000317           Yea     Yea         Yea         Yea         Yea     Yea   \nD000632           Yea     Yea         Yea         Yea         Yea     Yea   \nL000599           Yea     Yea         Yea         Yea         Yea     Yea   \nS001196           Yea     Yea         Yea         Yea         Yea     Yea   \nL000598           Yea     Yea         Yea         Yea         Yea     Yea   \nT000478           Yea     Yea         Yea         Yea         Yea     Yea   \n\n              HR.8034     HR.8038     HR.8070 HR.8369     HR.8771     HR.8774  \nmember_id                                                                      \nV000081           Nay         Nay          No     Nay         Nay         Nay  \nO000172           Nay         Nay          No     Nay         Nay         Nay  \nB001223           Nay         Nay  Not Voting     Nay  Not Voting  Not Voting  \nC001067           Yea         Yea          No     Nay         Nay         Nay  \nK000402           NaN         NaN          No     Nay         Nay         Nay  \nT000469           Yea         Yea          No     Nay         Nay         Nay  \nM001137           Yea         Yea          No     Nay         Nay         Nay  \nN000002           Yea         Yea          No     Nay  Not Voting  Not Voting  \nH001038           NaN         NaN         NaN     NaN         NaN         NaN  \nJ000294           Yea         Yea          No     Nay         Nay         Nay  \nM001206           Yea         Yea          No     Nay         Nay         Nay  \nR000579           Yea         Yea          No     Nay         Nay         Nay  \nG000599           Yea         Yea          No     Nay         Nay         Nay  \nE000297           Yea         Yea          No     Nay         Nay         Nay  \nM001188           Yea         Yea          No     Nay         Nay         Nay  \nS001222           NaN         NaN         NaN     NaN         NaN         NaN  \nS001201           Yea         Yea          No     Yea         Nay         Nay  \nT000486           Yea         Yea          No     Yea         Nay         Nay  \nW000828    Not Voting  Not Voting         Aye     Yea         Yea         Yea  \nG000597           Yea         Yea         Aye     Yea         Yea         Yea  \nL000600           Yea         Yea         Aye     Yea         Yea         Yea  \nM001221           Yea         Yea         Aye     Yea         Yea         Yea  \nM000317           Yea         Yea         Aye     Yea         Yea         Yea  \nD000632           Yea         Yea         Aye     Yea         Yea         Yea  \nL000599           Yea         Yea         Aye     Yea         Yea         Yea  \nS001196           Yea         Yea         Aye     Yea         Yea         Yea  \nL000598           Yea         Yea         Aye     Yea         Yea         Yea  \nT000478           Yea         Yea         Aye     Yea         Yea         Yea  ",
      "text/html": "<div>\n<style scoped>\n    .dataframe tbody tr th:only-of-type {\n        vertical-align: middle;\n    }\n\n    .dataframe tbody tr th {\n        vertical-align: top;\n    }\n\n    .dataframe thead th {\n        text-align: right;\n    }\n</style>\n<table border=\"1\" class=\"dataframe\">\n  <thead>\n    <tr style=\"text-align: right;\">\n      <th></th>\n      <th>name</th>\n      <th>state</th>\n      <th>party</th>\n      <th>total_score</th>\n      <th>rank</th>\n      <th>percent</th>\n      <th>HR.2670</th>\n      <th>HR.340</th>\n      <th>HR.5917</th>\n      <th>HR.5961</th>\n      <th>HR.6090</th>\n      <th>HR.6126</th>\n      <th>HR.7217</th>\n      <th>HR.8034</th>\n      <th>HR.8038</th>\n      <th>HR.8070</th>\n      <th>HR.8369</th>\n      <th>HR.8771</th>\n      <th>HR.8774</th>\n    </tr>\n    <tr>\n      <th>member_id</th>\n      <th></th>\n      <th></th>\n      <th></th>\n      <th></th>\n      <th></th>\n      <th></th>\n      <th></th>\n      <th></th>\n      <th></th>\n      <th></th>\n      <th></th>\n      <th></th>\n      <th></th>\n      <th></th>\n      <th></th>\n      <th></th>\n      <th></th>\n      <th></th>\n      <th></th>\n    </tr>\n  </thead>\n  <tbody>\n    <tr>\n      <th>V000081</th>\n      <td>Velázquez</td>\n      <td>NY</td>\n      <td>D</td>\n      <td>10.0</td>\n      <td>10</td>\n      <td>2.3</td>\n      <td>Nay</td>\n      <td>Nay</td>\n      <td>Yea</td>\n      <td>Nay</td>\n      <td>Nay</td>\n      <td>Nay</td>\n      <td>Nay</td>\n      <td>Nay</td>\n      <td>Nay</td>\n      <td>No</td>\n      <td>Nay</td>\n      <td>Nay</td>\n      <td>Nay</td>\n    </tr>\n    <tr>\n      <th>O000172</th>\n      <td>Ocasio-Cortez</td>\n      <td>NY</td>\n      <td>D</td>\n      <td>9.0</td>\n      <td>18</td>\n      <td>4.1</td>\n      <td>Nay</td>\n      <td>Nay</td>\n      <td>Yea</td>\n      <td>Not Voting</td>\n      <td>Nay</td>\n      <td>Nay</td>\n      <td>Nay</td>\n      <td>Nay</td>\n      <td>Nay</td>\n      <td>No</td>\n      <td>Nay</td>\n      <td>Nay</td>\n      <td>Nay</td>\n    </tr>\n    <tr>\n      <th>B001223</th>\n      <td>Bowman</td>\n      <td>NY</td>\n      <td>D</td>\n      <td>8.0</td>\n      <td>24</td>\n      <td>5.4</td>\n      <td>Nay</td>\n      <td>Nay</td>\n      <td>Yea</td>\n      <td>Nay</td>\n      <td>Nay</td>\n      <td>Nay</td>\n      <td>Nay</td>\n      <td>Nay</td>\n      <td>Nay</td>\n      <td>Not Voting</td>\n      <td>Nay</td>\n      <td>Not Voting</td>\n      <td>Not Voting</td>\n    </tr>\n    <tr>\n      <th>C001067</th>\n      <td>Clarke (NY)</td>\n      <td>NY</td>\n      <td>D</td>\n      <td>6.0</td>\n      <td>41</td>\n      <td>9.3</td>\n      <td>Nay</td>\n      <td>Nay</td>\n      <td>Yea</td>\n      <td>Nay</td>\n      <td>Nay</td>\n      <td>Nay</td>\n      <td>Nay</td>\n      <td>Yea</td>\n      <td>Yea</td>\n      <td>No</td>\n      <td>Nay</td>\n      <td>Nay</td>\n      <td>Nay</td>\n    </tr>\n    <tr>\n      <th>K000402</th>\n      <td>Kennedy</td>\n      <td>NY</td>\n      <td>D</td>\n      <td>3.0</td>\n      <td>77</td>\n      <td>17.5</td>\n      <td>NaN</td>\n      <td>NaN</td>\n      <td>NaN</td>\n      <td>NaN</td>\n      <td>NaN</td>\n      <td>NaN</td>\n      <td>NaN</td>\n      <td>NaN</td>\n      <td>NaN</td>\n      <td>No</td>\n      <td>Nay</td>\n      <td>Nay</td>\n      <td>Nay</td>\n    </tr>\n    <tr>\n      <th>T000469</th>\n      <td>Tonko</td>\n      <td>NY</td>\n      <td>D</td>\n      <td>2.0</td>\n      <td>100</td>\n      <td>22.7</td>\n      <td>Nay</td>\n      <td>Yea</td>\n      <td>Yea</td>\n      <td>Nay</td>\n      <td>Yea</td>\n      <td>Nay</td>\n      <td>Nay</td>\n      <td>Yea</td>\n      <td>Yea</td>\n      <td>No</td>\n      <td>Nay</td>\n      <td>Nay</td>\n      <td>Nay</td>\n    </tr>\n    <tr>\n      <th>M001137</th>\n      <td>Meeks</td>\n      <td>NY</td>\n      <td>D</td>\n      <td>2.0</td>\n      <td>100</td>\n      <td>22.7</td>\n      <td>Nay</td>\n      <td>Yea</td>\n      <td>Yea</td>\n      <td>Nay</td>\n      <td>Yea</td>\n      <td>Nay</td>\n      <td>Nay</td>\n      <td>Yea</td>\n      <td>Yea</td>\n      <td>No</td>\n      <td>Nay</td>\n      <td>Nay</td>\n      <td>Nay</td>\n    </tr>\n    <tr>\n      <th>N000002</th>\n      <td>Nadler</td>\n      <td>NY</td>\n      <td>D</td>\n      <td>2.0</td>\n      <td>100</td>\n      <td>22.7</td>\n      <td>Nay</td>\n      <td>Yea</td>\n      <td>Yea</td>\n      <td>Nay</td>\n      <td>Nay</td>\n      <td>Nay</td>\n      <td>Nay</td>\n      <td>Yea</td>\n      <td>Yea</td>\n      <td>No</td>\n      <td>Nay</td>\n      <td>Not Voting</td>\n      <td>Not Voting</td>\n    </tr>\n    <tr>\n      <th>H001038</th>\n      <td>Higgins (NY)</td>\n      <td>NY</td>\n      <td>D</td>\n      <td>2.0</td>\n      <td>100</td>\n      <td>22.7</td>\n      <td>Nay</td>\n      <td>Yea</td>\n      <td>NaN</td>\n      <td>Nay</td>\n      <td>NaN</td>\n      <td>Nay</td>\n      <td>NaN</td>\n      <td>NaN</td>\n      <td>NaN</td>\n      <td>NaN</td>\n      <td>NaN</td>\n      <td>NaN</td>\n      <td>NaN</td>\n    </tr>\n    <tr>\n      <th>J000294</th>\n      <td>Jeffries</td>\n      <td>NY</td>\n      <td>D</td>\n      <td>0.0</td>\n      <td>152</td>\n      <td>34.5</td>\n      <td>Nay</td>\n      <td>Yea</td>\n      <td>Yea</td>\n      <td>Yea</td>\n      <td>Yea</td>\n      <td>Nay</td>\n      <td>Nay</td>\n      <td>Yea</td>\n      <td>Yea</td>\n      <td>No</td>\n      <td>Nay</td>\n      <td>Nay</td>\n      <td>Nay</td>\n    </tr>\n    <tr>\n      <th>M001206</th>\n      <td>Morelle</td>\n      <td>NY</td>\n      <td>D</td>\n      <td>0.0</td>\n      <td>152</td>\n      <td>34.5</td>\n      <td>Nay</td>\n      <td>Yea</td>\n      <td>Yea</td>\n      <td>Yea</td>\n      <td>Yea</td>\n      <td>Nay</td>\n      <td>Nay</td>\n      <td>Yea</td>\n      <td>Yea</td>\n      <td>No</td>\n      <td>Nay</td>\n      <td>Nay</td>\n      <td>Nay</td>\n    </tr>\n    <tr>\n      <th>R000579</th>\n      <td>Ryan</td>\n      <td>NY</td>\n      <td>D</td>\n      <td>0.0</td>\n      <td>152</td>\n      <td>34.5</td>\n      <td>Nay</td>\n      <td>Yea</td>\n      <td>Yea</td>\n      <td>Yea</td>\n      <td>Yea</td>\n      <td>Nay</td>\n      <td>Nay</td>\n      <td>Yea</td>\n      <td>Yea</td>\n      <td>No</td>\n      <td>Nay</td>\n      <td>Nay</td>\n      <td>Nay</td>\n    </tr>\n    <tr>\n      <th>G000599</th>\n      <td>Goldman (NY)</td>\n      <td>NY</td>\n      <td>D</td>\n      <td>0.0</td>\n      <td>152</td>\n      <td>34.5</td>\n      <td>Nay</td>\n      <td>Yea</td>\n      <td>Yea</td>\n      <td>Nay</td>\n      <td>Yea</td>\n      <td>Nay</td>\n      <td>Yea</td>\n      <td>Yea</td>\n      <td>Yea</td>\n      <td>No</td>\n      <td>Nay</td>\n      <td>Nay</td>\n      <td>Nay</td>\n    </tr>\n    <tr>\n      <th>E000297</th>\n      <td>Espaillat</td>\n      <td>NY</td>\n      <td>D</td>\n      <td>-2.0</td>\n      <td>190</td>\n      <td>43.1</td>\n      <td>Nay</td>\n      <td>Yea</td>\n      <td>Yea</td>\n      <td>Yea</td>\n      <td>Yea</td>\n      <td>Nay</td>\n      <td>Yea</td>\n      <td>Yea</td>\n      <td>Yea</td>\n      <td>No</td>\n      <td>Nay</td>\n      <td>Nay</td>\n      <td>Nay</td>\n    </tr>\n    <tr>\n      <th>M001188</th>\n      <td>Meng</td>\n      <td>NY</td>\n      <td>D</td>\n      <td>-2.0</td>\n      <td>190</td>\n      <td>43.1</td>\n      <td>Nay</td>\n      <td>Yea</td>\n      <td>Yea</td>\n      <td>Yea</td>\n      <td>Yea</td>\n      <td>Nay</td>\n      <td>Yea</td>\n      <td>Yea</td>\n      <td>Yea</td>\n      <td>No</td>\n      <td>Nay</td>\n      <td>Nay</td>\n      <td>Nay</td>\n    </tr>\n    <tr>\n      <th>S001222</th>\n      <td>Santos</td>\n      <td>NY</td>\n      <td>R</td>\n      <td>-3.0</td>\n      <td>206</td>\n      <td>46.7</td>\n      <td>Yea</td>\n      <td>Yea</td>\n      <td>NaN</td>\n      <td>Present</td>\n      <td>NaN</td>\n      <td>Yea</td>\n      <td>NaN</td>\n      <td>NaN</td>\n      <td>NaN</td>\n      <td>NaN</td>\n      <td>NaN</td>\n      <td>NaN</td>\n      <td>NaN</td>\n    </tr>\n    <tr>\n      <th>S001201</th>\n      <td>Suozzi</td>\n      <td>NY</td>\n      <td>D</td>\n      <td>-3.0</td>\n      <td>206</td>\n      <td>46.7</td>\n      <td>NaN</td>\n      <td>NaN</td>\n      <td>Yea</td>\n      <td>NaN</td>\n      <td>Yea</td>\n      <td>NaN</td>\n      <td>NaN</td>\n      <td>Yea</td>\n      <td>Yea</td>\n      <td>No</td>\n      <td>Yea</td>\n      <td>Nay</td>\n      <td>Nay</td>\n    </tr>\n    <tr>\n      <th>T000486</th>\n      <td>Torres (NY)</td>\n      <td>NY</td>\n      <td>D</td>\n      <td>-4.0</td>\n      <td>217</td>\n      <td>49.2</td>\n      <td>Nay</td>\n      <td>Yea</td>\n      <td>Yea</td>\n      <td>Yea</td>\n      <td>Yea</td>\n      <td>Nay</td>\n      <td>Yea</td>\n      <td>Yea</td>\n      <td>Yea</td>\n      <td>No</td>\n      <td>Yea</td>\n      <td>Nay</td>\n      <td>Nay</td>\n    </tr>\n    <tr>\n      <th>W000828</th>\n      <td>Williams (NY)</td>\n      <td>NY</td>\n      <td>R</td>\n      <td>-9.0</td>\n      <td>244</td>\n      <td>55.3</td>\n      <td>Not Voting</td>\n      <td>Yea</td>\n      <td>Yea</td>\n      <td>Yea</td>\n      <td>Yea</td>\n      <td>Yea</td>\n      <td>Yea</td>\n      <td>Not Voting</td>\n      <td>Not Voting</td>\n      <td>Aye</td>\n      <td>Yea</td>\n      <td>Yea</td>\n      <td>Yea</td>\n    </tr>\n    <tr>\n      <th>G000597</th>\n      <td>Garbarino</td>\n      <td>NY</td>\n      <td>R</td>\n      <td>-10.0</td>\n      <td>261</td>\n      <td>59.2</td>\n      <td>Yea</td>\n      <td>Not Voting</td>\n      <td>Yea</td>\n      <td>Yea</td>\n      <td>Yea</td>\n      <td>Not Voting</td>\n      <td>Yea</td>\n      <td>Yea</td>\n      <td>Yea</td>\n      <td>Aye</td>\n      <td>Yea</td>\n      <td>Yea</td>\n      <td>Yea</td>\n    </tr>\n    <tr>\n      <th>L000600</th>\n      <td>Langworthy</td>\n      <td>NY</td>\n      <td>R</td>\n      <td>-11.0</td>\n      <td>287</td>\n      <td>65.1</td>\n      <td>Yea</td>\n      <td>Yea</td>\n      <td>Yea</td>\n      <td>Yea</td>\n      <td>Not Voting</td>\n      <td>Yea</td>\n      <td>Yea</td>\n      <td>Yea</td>\n      <td>Yea</td>\n      <td>Aye</td>\n      <td>Yea</td>\n      <td>Yea</td>\n      <td>Yea</td>\n    </tr>\n    <tr>\n      <th>M001221</th>\n      <td>Molinaro</td>\n      <td>NY</td>\n      <td>R</td>\n      <td>-12.0</td>\n      <td>370</td>\n      <td>83.9</td>\n      <td>Yea</td>\n      <td>Yea</td>\n      <td>Yea</td>\n      <td>Yea</td>\n      <td>Yea</td>\n      <td>Yea</td>\n      <td>Yea</td>\n      <td>Yea</td>\n      <td>Yea</td>\n      <td>Aye</td>\n      <td>Yea</td>\n      <td>Yea</td>\n      <td>Yea</td>\n    </tr>\n    <tr>\n      <th>M000317</th>\n      <td>Malliotakis</td>\n      <td>NY</td>\n      <td>R</td>\n      <td>-12.0</td>\n      <td>370</td>\n      <td>83.9</td>\n      <td>Yea</td>\n      <td>Yea</td>\n      <td>Yea</td>\n      <td>Yea</td>\n      <td>Yea</td>\n      <td>Yea</td>\n      <td>Yea</td>\n      <td>Yea</td>\n      <td>Yea</td>\n      <td>Aye</td>\n      <td>Yea</td>\n      <td>Yea</td>\n      <td>Yea</td>\n    </tr>\n    <tr>\n      <th>D000632</th>\n      <td>D'Esposito</td>\n      <td>NY</td>\n      <td>R</td>\n      <td>-12.0</td>\n      <td>370</td>\n      <td>83.9</td>\n      <td>Yea</td>\n      <td>Yea</td>\n      <td>Yea</td>\n      <td>Yea</td>\n      <td>Yea</td>\n      <td>Yea</td>\n      <td>Yea</td>\n      <td>Yea</td>\n      <td>Yea</td>\n      <td>Aye</td>\n      <td>Yea</td>\n      <td>Yea</td>\n      <td>Yea</td>\n    </tr>\n    <tr>\n      <th>L000599</th>\n      <td>Lawler</td>\n      <td>NY</td>\n      <td>R</td>\n      <td>-12.0</td>\n      <td>370</td>\n      <td>83.9</td>\n      <td>Yea</td>\n      <td>Yea</td>\n      <td>Yea</td>\n      <td>Yea</td>\n      <td>Yea</td>\n      <td>Yea</td>\n      <td>Yea</td>\n      <td>Yea</td>\n      <td>Yea</td>\n      <td>Aye</td>\n      <td>Yea</td>\n      <td>Yea</td>\n      <td>Yea</td>\n    </tr>\n    <tr>\n      <th>S001196</th>\n      <td>Stefanik</td>\n      <td>NY</td>\n      <td>R</td>\n      <td>-12.0</td>\n      <td>370</td>\n      <td>83.9</td>\n      <td>Yea</td>\n      <td>Yea</td>\n      <td>Yea</td>\n      <td>Yea</td>\n      <td>Yea</td>\n      <td>Yea</td>\n      <td>Yea</td>\n      <td>Yea</td>\n      <td>Yea</td>\n      <td>Aye</td>\n      <td>Yea</td>\n      <td>Yea</td>\n      <td>Yea</td>\n    </tr>\n    <tr>\n      <th>L000598</th>\n      <td>LaLota</td>\n      <td>NY</td>\n      <td>R</td>\n      <td>-12.0</td>\n      <td>370</td>\n      <td>83.9</td>\n      <td>Yea</td>\n      <td>Yea</td>\n      <td>Yea</td>\n      <td>Yea</td>\n      <td>Yea</td>\n      <td>Yea</td>\n      <td>Yea</td>\n      <td>Yea</td>\n      <td>Yea</td>\n      <td>Aye</td>\n      <td>Yea</td>\n      <td>Yea</td>\n      <td>Yea</td>\n    </tr>\n    <tr>\n      <th>T000478</th>\n      <td>Tenney</td>\n      <td>NY</td>\n      <td>R</td>\n      <td>-12.0</td>\n      <td>370</td>\n      <td>83.9</td>\n      <td>Yea</td>\n      <td>Yea</td>\n      <td>Yea</td>\n      <td>Yea</td>\n      <td>Yea</td>\n      <td>Yea</td>\n      <td>Yea</td>\n      <td>Yea</td>\n      <td>Yea</td>\n      <td>Aye</td>\n      <td>Yea</td>\n      <td>Yea</td>\n      <td>Yea</td>\n    </tr>\n  </tbody>\n</table>\n</div>"
     },
     "execution_count": 13,
     "metadata": {},
     "output_type": "execute_result"
    }
   ],
   "source": [
    "scores[scores[\"state\"] == \"NY\"]\n"
   ],
   "metadata": {
    "collapsed": false,
    "ExecuteTime": {
     "end_time": "2025-08-19T01:52:56.329492Z",
     "start_time": "2025-08-19T01:52:56.271930Z"
    }
   },
   "id": "a1ec016d6cf4ed5c",
   "execution_count": 13
  },
  {
   "cell_type": "code",
   "outputs": [
    {
     "ename": "NameError",
     "evalue": "name 'os' is not defined",
     "output_type": "error",
     "traceback": [
      "\u001B[31m---------------------------------------------------------------------------\u001B[39m",
      "\u001B[31mNameError\u001B[39m                                 Traceback (most recent call last)",
      "\u001B[36mCell\u001B[39m\u001B[36m \u001B[39m\u001B[32mIn[11]\u001B[39m\u001B[32m, line 8\u001B[39m\n\u001B[32m      6\u001B[39m bill_type = \u001B[33m\"\u001B[39m\u001B[33mhr\u001B[39m\u001B[33m\"\u001B[39m\n\u001B[32m      7\u001B[39m bill_number = \u001B[32m8369\u001B[39m\n\u001B[32m----> \u001B[39m\u001B[32m8\u001B[39m key =\u001B[43mos\u001B[49m.getenv(\u001B[33m\"\u001B[39m\u001B[33mCONGRESS_API_KEY\u001B[39m\u001B[33m\"\u001B[39m)\n\u001B[32m      9\u001B[39m \u001B[38;5;28;01mif\u001B[39;00m \u001B[38;5;129;01mnot\u001B[39;00m key:\n\u001B[32m     10\u001B[39m     \u001B[38;5;28;01mraise\u001B[39;00m \u001B[38;5;167;01mRuntimeError\u001B[39;00m(\u001B[33m\"\u001B[39m\u001B[33mSet CONGRESS_API_KEY or pass api_key explicitly.\u001B[39m\u001B[33m\"\u001B[39m)\n",
      "\u001B[31mNameError\u001B[39m: name 'os' is not defined"
     ]
    }
   ],
   "source": [
    "\"\"\"\n",
    "Fetches the most recent roll-call vote for one House/Senate bill.\n",
    "Returns a list of dicts: one dict per legislator’s vote.\n",
    "\"\"\"\n",
    "congress = 118\n",
    "bill_type = \"hr\"\n",
    "bill_number = 8369\n",
    "key =os.getenv(\"CONGRESS_API_KEY\")\n",
    "if not key:\n",
    "    raise RuntimeError(\"Set CONGRESS_API_KEY or pass api_key explicitly.\")\n",
    "\n",
    "# 1) Get the bill’s actions\n",
    "base_url   = \"https://api.congress.gov/v3\"\n",
    "actions_ep = f\"{base_url}/bill/{congress}/{bill_type}/{bill_number}/actions\"\n",
    "\n",
    "all_actions = []\n",
    "limit = 250\n",
    "offset = 0\n",
    "\n",
    "while True:\n",
    "    resp = requests.get(\n",
    "        actions_ep,\n",
    "        params={\n",
    "            \"format\": \"json\",\n",
    "            \"api_key\": key,\n",
    "            \"limit\": limit,\n",
    "            \"offset\": offset,\n",
    "        }\n",
    "    )\n",
    "    resp.raise_for_status()\n",
    "    payload = resp.json()\n",
    "\n",
    "    # Try both possible locations for the array\n",
    "    page_actions = (\n",
    "            payload.get(\"data\", {}).get(\"actions\")\n",
    "            or payload.get(\"actions\")\n",
    "            or []\n",
    "    )\n",
    "\n",
    "    # Debug: show what keys we have and how many we got\n",
    "    print(\"Payload keys:\", list(payload.keys()))\n",
    "    print(f\"  Fetched {len(page_actions)} actions at offset {offset}\")\n",
    "\n",
    "    if not page_actions:\n",
    "        break\n",
    "\n",
    "    all_actions.extend(page_actions)\n",
    "\n",
    "    if len(page_actions) < limit:\n",
    "        # last page\n",
    "        break\n",
    "\n",
    "    offset += limit\n",
    "\n",
    "\n",
    "actions = payload.get(\"data\", {}).get(\"actions\") or payload.get(\"actions\") or []\n",
    "if not actions:\n",
    "    raise RuntimeError(f\"No actions for {bill_type.upper()}.{bill_number} in {congress}.\")\n",
    "\n",
    "# 2) Find the most recent roll-call\n",
    "roll_calls = [a for a in actions if \"Roll no.\" in a.get(\"text\", \"\")]\n",
    "if not roll_calls:\n",
    "    raise RuntimeError(f\"No roll-call found for {bill_type.upper()}.{bill_number}.\")\n",
    "last_vote = roll_calls[-1]\n",
    "\n",
    "# 3) Extract Clerk EVS XML URL\n",
    "recorded = last_vote.get(\"recordedVotes\", [])\n",
    "if recorded and recorded[0].get(\"url\"):\n",
    "    evs_url = recorded[0][\"url\"]\n",
    "else:\n",
    "    evs_path = last_vote.get(\"link\") or last_vote.get(\"relatedLink\")\n",
    "    if not evs_path:\n",
    "        raise RuntimeError(\"No EVS URL on roll-call action.\")\n",
    "    evs_url = f\"https://clerk.house.gov{evs_path}\"\n",
    "\n",
    "# 4) Download & parse the XML\n",
    "xml = requests.get(evs_url)\n",
    "xml.raise_for_status()\n",
    "root = ET.fromstring(xml.content)\n",
    "\n",
    "# 5) Build vote records\n",
    "votes = []\n",
    "for rv in root.findall(\".//recorded-vote\"):\n",
    "    leg = rv.find(\"legislator\")\n",
    "    vote_elem = rv.find(\"vote\")\n",
    "    if leg is None or vote_elem is None:\n",
    "        continue\n",
    "    votes.append({\n",
    "        \"congress\":      congress,\n",
    "        \"bill_type\":     bill_type,\n",
    "        \"bill_number\":   bill_number,\n",
    "        \"member_id\":     leg.attrib.get(\"name-id\"),\n",
    "        \"name\":          leg.text.strip(),\n",
    "        \"state\":         leg.attrib.get(\"state\"),\n",
    "        \"party\":         leg.attrib.get(\"party\"),\n",
    "        \"role\":          leg.attrib.get(\"role\"),\n",
    "        \"vote_position\": vote_elem.text.strip()\n",
    "    })"
   ],
   "metadata": {
    "collapsed": false,
    "ExecuteTime": {
     "end_time": "2025-07-11T20:55:04.289479Z",
     "start_time": "2025-07-11T20:55:04.242087Z"
    }
   },
   "id": "8e3fea69ac6f822e",
   "execution_count": 11
  },
  {
   "cell_type": "code",
   "outputs": [
    {
     "name": "stdout",
     "output_type": "stream",
     "text": [
      "[{'actionDate': '2024-05-21',\n",
      "  'sourceSystem': {'name': 'Senate'},\n",
      "  'text': 'Read the second time. Placed on Senate Legislative Calendar under '\n",
      "          'General Orders. Calendar No. 398.',\n",
      "  'type': 'Calendars'},\n",
      " {'actionDate': '2024-05-20',\n",
      "  'sourceSystem': {'name': 'Senate'},\n",
      "  'text': 'Received in the Senate. Read the first time. Placed on Senate '\n",
      "          'Legislative Calendar under Read the First Time.',\n",
      "  'type': 'Calendars'},\n",
      " {'actionCode': 'H38310',\n",
      "  'actionDate': '2024-05-16',\n",
      "  'actionTime': '17:03:18',\n",
      "  'sourceSystem': {'code': 2, 'name': 'House floor actions'},\n",
      "  'text': 'Motion to reconsider laid on the table Agreed to without objection.',\n",
      "  'type': 'Floor'},\n",
      " {'actionCode': 'H37100',\n",
      "  'actionDate': '2024-05-16',\n",
      "  'actionTime': '17:03:16',\n",
      "  'recordedVotes': [{'chamber': 'House',\n",
      "                     'congress': 118,\n",
      "                     'date': '2024-05-16T21:03:16Z',\n",
      "                     'rollNumber': 217,\n",
      "                     'sessionNumber': 2,\n",
      "                     'url': 'https://clerk.house.gov/evs/2024/roll217.xml'}],\n",
      "  'sourceSystem': {'code': 2, 'name': 'House floor actions'},\n",
      "  'text': 'On passage Passed by the Yeas and Nays: 224 - 187 (Roll no. 217). '\n",
      "          '(text: CR H3287-3288)',\n",
      "  'type': 'Floor'},\n",
      " {'actionCode': '8000',\n",
      "  'actionDate': '2024-05-16',\n",
      "  'actionTime': '17:03:16',\n",
      "  'recordedVotes': [{'chamber': 'House',\n",
      "                     'congress': 118,\n",
      "                     'date': '2024-05-16T21:03:16Z',\n",
      "                     'rollNumber': 217,\n",
      "                     'sessionNumber': 2,\n",
      "                     'url': 'https://clerk.house.gov/evs/2024/roll217.xml'}],\n",
      "  'sourceSystem': {'code': 9, 'name': 'Library of Congress'},\n",
      "  'text': 'Passed/agreed to in House: On passage Passed by the Yeas and Nays: '\n",
      "          '224 - 187 (Roll no. 217). (text: CR H3287-3288)',\n",
      "  'type': 'Floor'},\n",
      " {'actionCode': 'H36210',\n",
      "  'actionDate': '2024-05-16',\n",
      "  'actionTime': '16:57:00',\n",
      "  'committees': [{'name': 'Foreign Affairs Committee',\n",
      "                  'systemCode': 'hsfa00',\n",
      "                  'url': 'https://api.congress.gov/v3/committee/house/hsfa00?format=json'}],\n",
      "  'recordedVotes': [{'chamber': 'House',\n",
      "                     'congress': 118,\n",
      "                     'date': '2024-05-16T20:57:00Z',\n",
      "                     'rollNumber': 216,\n",
      "                     'sessionNumber': 2,\n",
      "                     'url': 'https://clerk.house.gov/evs/2024/roll216.xml'}],\n",
      "  'sourceSystem': {'code': 2, 'name': 'House floor actions'},\n",
      "  'text': 'On motion to recommit Failed by the Yeas and Nays: 202 - 210 (Roll '\n",
      "          'no. 216).',\n",
      "  'type': 'Floor'},\n",
      " {'actionCode': 'H30000',\n",
      "  'actionDate': '2024-05-16',\n",
      "  'actionTime': '16:50:56',\n",
      "  'sourceSystem': {'code': 2, 'name': 'House floor actions'},\n",
      "  'text': 'Considered as unfinished business. (consideration: CR H3310-3311)',\n",
      "  'type': 'Floor'},\n",
      " {'actionCode': 'H8D000',\n",
      "  'actionDate': '2024-05-16',\n",
      "  'actionTime': '13:28:08',\n",
      "  'sourceSystem': {'code': 2, 'name': 'House floor actions'},\n",
      "  'text': 'POSTPONED PROCEEDINGS - At the conclusion of debate on H.R. 8369, '\n",
      "          'the Chair put the question on the motion to recommit and by voice '\n",
      "          'vote announced that the noes had prevailed. Mr. Meeks demanded the '\n",
      "          'yeas and nays and the Chair postponed further proceedings until a '\n",
      "          'time to be announced.',\n",
      "  'type': 'Floor'},\n",
      " {'actionCode': 'H8A000',\n",
      "  'actionDate': '2024-05-16',\n",
      "  'actionTime': '13:27:59',\n",
      "  'sourceSystem': {'code': 2, 'name': 'House floor actions'},\n",
      "  'text': 'The previous question on the motion to recommit was ordered '\n",
      "          'pursuant to clause 2(b) of rule XIX.',\n",
      "  'type': 'Floor'},\n",
      " {'actionCode': 'H36200',\n",
      "  'actionDate': '2024-05-16',\n",
      "  'actionTime': '13:27:48',\n",
      "  'committees': [{'name': 'Foreign Affairs Committee',\n",
      "                  'systemCode': 'hsfa00',\n",
      "                  'url': 'https://api.congress.gov/v3/committee/house/hsfa00?format=json'}],\n",
      "  'sourceSystem': {'code': 2, 'name': 'House floor actions'},\n",
      "  'text': 'Mr. Meeks moved to recommit to the Committee on Foreign Affairs. '\n",
      "          '(text: CR H3294)',\n",
      "  'type': 'Floor'},\n",
      " {'actionCode': 'H35000',\n",
      "  'actionDate': '2024-05-16',\n",
      "  'actionTime': '13:27:36',\n",
      "  'sourceSystem': {'code': 2, 'name': 'House floor actions'},\n",
      "  'text': 'The previous question was ordered pursuant to the rule.',\n",
      "  'type': 'Floor'},\n",
      " {'actionCode': 'H8D000',\n",
      "  'actionDate': '2024-05-16',\n",
      "  'actionTime': '12:21:04',\n",
      "  'sourceSystem': {'code': 2, 'name': 'House floor actions'},\n",
      "  'text': 'DEBATE - The House proceeded with one hour of debate on H.R. 8369.',\n",
      "  'type': 'Floor'},\n",
      " {'actionCode': 'H8D000',\n",
      "  'actionDate': '2024-05-16',\n",
      "  'actionTime': '12:20:14',\n",
      "  'sourceSystem': {'code': 2, 'name': 'House floor actions'},\n",
      "  'text': 'Rule provides for consideration of H.R. 8369, H.R. 7530, H.R. 7343, '\n",
      "          'H.R. 8146, H.R. 7581, H.R. 354, H. Res. 1213 and H. Res. 1210. Rule '\n",
      "          'provides for consideration of H.R. 8369, H.R. 7530, H.R. 7581, H.R. '\n",
      "          '354, H. Res. 1213, and H. Res. 1210 under a closed rule with one '\n",
      "          'hour of general debate each. Rule provides for consideration of '\n",
      "          'H.R. 7343 and H.R. 8146 under a structured rule with one hour of '\n",
      "          'general debate each. Rule provides for one motion to recommit each '\n",
      "          'on H.R. 8369, H.R. 7530, H.R. 7343, H.R. 7581, H.R. 354, and H.R. '\n",
      "          '8146.',\n",
      "  'type': 'Floor'},\n",
      " {'actionCode': 'H30000',\n",
      "  'actionDate': '2024-05-16',\n",
      "  'actionTime': '12:20:09',\n",
      "  'sourceSystem': {'code': 2, 'name': 'House floor actions'},\n",
      "  'text': 'Considered under the provisions of rule H. Res. 1227. '\n",
      "          '(consideration: CR H3287-3294)',\n",
      "  'type': 'Floor'},\n",
      " {'actionCode': 'H1L210',\n",
      "  'actionDate': '2024-05-15',\n",
      "  'actionTime': '10:04:28',\n",
      "  'sourceSystem': {'code': 2, 'name': 'House floor actions'},\n",
      "  'text': 'Rules Committee Resolution H. Res. 1227 Reported to House. Rule '\n",
      "          'provides for consideration of H.R. 8369, H.R. 7530, H.R. 7343, H.R. '\n",
      "          '8146, H.R. 7581, H.R. 354, H. Res. 1213 and H. Res. 1210. Rule '\n",
      "          'provides for consideration of H.R. 8369, H.R. 7530, H.R. 7581, H.R. '\n",
      "          '354, H. Res. 1213, and H. Res. 1210 under a closed rule with one '\n",
      "          'hour of general debate each. Rule provides for consideration of '\n",
      "          'H.R. 7343 and H.R. 8146 under a structured rule with one hour of '\n",
      "          'general debate each. Rule provides for one motion to recommit each '\n",
      "          'on H.R. 8369, H.R. 7530, H.R. 7343, H.R. 7581, H.R. 354, and H.R. '\n",
      "          '8146.',\n",
      "  'type': 'Floor'},\n",
      " {'actionCode': 'H11100',\n",
      "  'actionDate': '2024-05-14',\n",
      "  'committees': [{'name': 'Intelligence (Permanent Select) Committee',\n",
      "                  'systemCode': 'hlig00',\n",
      "                  'url': 'https://api.congress.gov/v3/committee/house/hlig00?format=json'}],\n",
      "  'sourceSystem': {'code': 2, 'name': 'House floor actions'},\n",
      "  'text': 'Referred to the Committee on Foreign Affairs, and in addition to '\n",
      "          'the Committees on Armed Services, and Intelligence (Permanent '\n",
      "          'Select), for a period to be subsequently determined by the Speaker, '\n",
      "          'in each case for consideration of such provisions as fall within '\n",
      "          'the jurisdiction of the committee concerned.',\n",
      "  'type': 'IntroReferral'},\n",
      " {'actionCode': 'H11100',\n",
      "  'actionDate': '2024-05-14',\n",
      "  'committees': [{'name': 'Armed Services Committee',\n",
      "                  'systemCode': 'hsas00',\n",
      "                  'url': 'https://api.congress.gov/v3/committee/house/hsas00?format=json'}],\n",
      "  'sourceSystem': {'code': 2, 'name': 'House floor actions'},\n",
      "  'text': 'Referred to the Committee on Foreign Affairs, and in addition to '\n",
      "          'the Committees on Armed Services, and Intelligence (Permanent '\n",
      "          'Select), for a period to be subsequently determined by the Speaker, '\n",
      "          'in each case for consideration of such provisions as fall within '\n",
      "          'the jurisdiction of the committee concerned.',\n",
      "  'type': 'IntroReferral'},\n",
      " {'actionCode': 'H11100',\n",
      "  'actionDate': '2024-05-14',\n",
      "  'committees': [{'name': 'Foreign Affairs Committee',\n",
      "                  'systemCode': 'hsfa00',\n",
      "                  'url': 'https://api.congress.gov/v3/committee/house/hsfa00?format=json'}],\n",
      "  'sourceSystem': {'code': 2, 'name': 'House floor actions'},\n",
      "  'text': 'Referred to the Committee on Foreign Affairs, and in addition to '\n",
      "          'the Committees on Armed Services, and Intelligence (Permanent '\n",
      "          'Select), for a period to be subsequently determined by the Speaker, '\n",
      "          'in each case for consideration of such provisions as fall within '\n",
      "          'the jurisdiction of the committee concerned.',\n",
      "  'type': 'IntroReferral'},\n",
      " {'actionCode': 'Intro-H',\n",
      "  'actionDate': '2024-05-14',\n",
      "  'sourceSystem': {'code': 9, 'name': 'Library of Congress'},\n",
      "  'text': 'Introduced in House',\n",
      "  'type': 'IntroReferral'},\n",
      " {'actionCode': '1000',\n",
      "  'actionDate': '2024-05-14',\n",
      "  'sourceSystem': {'code': 9, 'name': 'Library of Congress'},\n",
      "  'text': 'Introduced in House',\n",
      "  'type': 'IntroReferral'}]\n"
     ]
    }
   ],
   "source": [
    "pprint(actions)"
   ],
   "metadata": {
    "collapsed": false,
    "ExecuteTime": {
     "end_time": "2025-05-08T22:55:34.609294Z",
     "start_time": "2025-05-08T22:55:34.579130Z"
    }
   },
   "id": "5f916053b6acac17",
   "execution_count": 126
  },
  {
   "cell_type": "code",
   "outputs": [
    {
     "name": "stdout",
     "output_type": "stream",
     "text": [
      "Empty DataFrame\n",
      "Columns: [name, state, party]\n",
      "Index: []\n"
     ]
    }
   ],
   "source": [
    "from get_votes_both import fetch_and_store_batch, build_vote_matrix\n",
    "\n",
    "# 1) Define the bills you want to fetch:\n",
    "senate_bills = [\n",
    "    (118, \"hr\", 6126),\n",
    "    (118, \"hr\", 2670),\n",
    "    (118, \"hr\", 2882),\n",
    "    (118, \"hr\", 815),\n",
    "]\n",
    "\n",
    "# 1) Store only Senate votes:\n",
    "fetch_and_store_batch(senate_bills, chamber=\"s\")\n",
    "sen_matrix = build_vote_matrix(senate_bills, chamber=\"s\")\n",
    "\n",
    "\n",
    "print(sen_matrix)\n"
   ],
   "metadata": {
    "collapsed": false,
    "ExecuteTime": {
     "end_time": "2025-05-28T02:40:10.841379Z",
     "start_time": "2025-05-28T02:40:07.177529Z"
    }
   },
   "id": "8be11bb704d21273",
   "execution_count": 35
  },
  {
   "cell_type": "code",
   "outputs": [
    {
     "name": "stdout",
     "output_type": "stream",
     "text": [
      "          name state party\n",
      "member_id                 \n",
      "None            None  None\n"
     ]
    }
   ],
   "source": [
    "print(sen_matrix)"
   ],
   "metadata": {
    "collapsed": false,
    "ExecuteTime": {
     "end_time": "2025-05-28T02:31:29.841354Z",
     "start_time": "2025-05-28T02:31:29.814812Z"
    }
   },
   "id": "7580e5477f06ab6b",
   "execution_count": 31
  },
  {
   "cell_type": "code",
   "outputs": [],
   "source": [
    "# 2) Store House votes:\n",
    "fetch_and_store_batch(bills, chamber=\"h\")\n",
    "house_matrix = build_vote_matrix(bills, chamber=\"h\")\n",
    "print(\"House-only:\", house_matrix.shape)\n",
    "\n",
    "# 3) Or both:\n",
    "fetch_and_store_batch(senate_bills, chamber=\"both\")\n",
    "both_matrix = build_vote_matrix(bills, chamber=\"both\")\n",
    "print(\"Combined:\", both_matrix.shape)"
   ],
   "metadata": {
    "collapsed": false
   },
   "id": "aa12db0f630c3068"
  },
  {
   "cell_type": "code",
   "outputs": [
    {
     "name": "stdout",
     "output_type": "stream",
     "text": [
      "Payload keys: ['actions', 'pagination', 'request']\n",
      "  Fetched 15 actions at offset 0\n",
      "{'actionCode': 'H37100', 'actionDate': '2024-04-20', 'actionTime': '14:02:43', 'recordedVotes': [{'chamber': 'House', 'congress': 118, 'date': '2024-04-20T18:02:43Z', 'rollNumber': 152, 'sessionNumber': 2, 'url': 'https://clerk.house.gov/evs/2024/roll152.xml'}], 'sourceSystem': {'code': 2, 'name': 'House floor actions'}, 'text': 'On passage Passed by the Yeas and Nays: 366 - 58 (Roll no. 152). (text: CR H2607-2610)', 'type': 'Floor'}\n",
      "Payload keys: ['actions', 'pagination', 'request']\n",
      "  Fetched 17 actions at offset 0\n",
      "{'actionCode': 'H37100', 'actionDate': '2024-05-01', 'actionTime': '16:55:30', 'recordedVotes': [{'chamber': 'House', 'congress': 118, 'date': '2024-05-01T20:55:30Z', 'rollNumber': 172, 'sessionNumber': 2, 'url': 'https://clerk.house.gov/evs/2024/roll172.xml'}], 'sourceSystem': {'code': 2, 'name': 'House floor actions'}, 'text': 'On passage Passed by the Yeas and Nays: 320 - 91 (Roll no. 172). (text: CR H2790-2791)', 'type': 'Floor'}\n",
      "Payload keys: ['actions', 'pagination', 'request']\n",
      "  Fetched 16 actions at offset 0\n",
      "{'actionCode': 'H37300', 'actionDate': '2023-11-01', 'actionTime': '19:27:56', 'recordedVotes': [{'chamber': 'House', 'congress': 118, 'date': '2023-11-01T23:27:56Z', 'rollNumber': 561, 'sessionNumber': 1, 'url': 'https://clerk.house.gov/evs/2023/roll561.xml'}], 'sourceSystem': {'code': 2, 'name': 'House floor actions'}, 'text': 'On motion to suspend the rules and pass the bill, as amended Agreed to by the Yeas and Nays: (2/3 required): 363 - 46 (Roll no. 561). (text: CR H5189-5191)', 'type': 'Floor'}\n",
      "Payload keys: ['actions', 'pagination', 'request']\n",
      "  Fetched 23 actions at offset 0\n",
      "{'actionCode': 'H37100', 'actionDate': '2023-11-02', 'actionTime': '17:48:34', 'recordedVotes': [{'chamber': 'House', 'congress': 118, 'date': '2023-11-02T21:48:34Z', 'rollNumber': 577, 'sessionNumber': 1, 'url': 'https://clerk.house.gov/evs/2023/roll577.xml'}], 'sourceSystem': {'code': 2, 'name': 'House floor actions'}, 'text': 'On passage Passed by the Yeas and Nays: 226 - 196 (Roll no. 577). (text: CR H5297-5298)', 'type': 'Floor'}\n",
      "Payload keys: ['actions', 'pagination', 'request']\n",
      "  Fetched 234 actions at offset 0\n",
      "{'actionCode': 'H37100', 'actionDate': '2023-07-14', 'actionTime': '10:59:33', 'recordedVotes': [{'chamber': 'House', 'congress': 118, 'date': '2023-07-14T14:59:33Z', 'rollNumber': 328, 'sessionNumber': 1, 'url': 'https://clerk.house.gov/evs/2023/roll328.xml'}], 'sourceSystem': {'code': 2, 'name': 'House floor actions'}, 'text': 'On passage Passed by the Yeas and Nays: 219 - 210 (Roll no. 328).', 'type': 'Floor'}\n",
      "Payload keys: ['actions', 'pagination', 'request']\n",
      "  Fetched 11 actions at offset 0\n",
      "{'actionCode': 'H37300', 'actionDate': '2024-02-06', 'actionTime': '18:55:23', 'recordedVotes': [{'chamber': 'House', 'congress': 118, 'date': '2024-02-06T23:55:23Z', 'rollNumber': 38, 'sessionNumber': 2, 'url': 'https://clerk.house.gov/evs/2024/roll038.xml'}], 'sourceSystem': {'code': 2, 'name': 'House floor actions'}, 'text': 'On motion to suspend the rules and pass the bill Failed by the Yeas and Nays: (2/3 required): 250 - 180 (Roll no. 38).', 'type': 'Floor'}\n",
      "Payload keys: ['actions', 'pagination', 'request']\n",
      "  Fetched 16 actions at offset 0\n",
      "{'actionCode': 'H37300', 'actionDate': '2024-04-16', 'actionTime': '16:37:05', 'recordedVotes': [{'chamber': 'House', 'congress': 118, 'date': '2024-04-16T20:37:05Z', 'rollNumber': 128, 'sessionNumber': 2, 'url': 'https://clerk.house.gov/evs/2024/roll128.xml'}], 'sourceSystem': {'code': 2, 'name': 'House floor actions'}, 'text': 'On motion to suspend the rules and pass the bill Agreed to by the Yeas and Nays: (2/3 required): 419 - 4 (Roll no. 128). (text: CR H2416-2417)', 'type': 'Floor'}\n",
      "Payload keys: ['actions', 'pagination', 'request']\n",
      "  Fetched 33 actions at offset 0\n",
      "{'actionCode': 'H37100', 'actionDate': '2024-04-20', 'actionTime': '13:17:28', 'recordedVotes': [{'chamber': 'House', 'congress': 118, 'date': '2024-04-20T17:17:28Z', 'rollNumber': 145, 'sessionNumber': 2, 'url': 'https://clerk.house.gov/evs/2024/roll145.xml'}], 'sourceSystem': {'code': 2, 'name': 'House floor actions'}, 'text': 'On passage Passed by the Yeas and Nays: 360 - 58 (Roll no. 145).', 'type': 'Floor'}\n",
      "Payload keys: ['actions', 'pagination', 'request']\n",
      "  Fetched 20 actions at offset 0\n",
      "{'actionCode': 'H37100', 'actionDate': '2024-05-16', 'actionTime': '17:03:16', 'recordedVotes': [{'chamber': 'House', 'congress': 118, 'date': '2024-05-16T21:03:16Z', 'rollNumber': 217, 'sessionNumber': 2, 'url': 'https://clerk.house.gov/evs/2024/roll217.xml'}], 'sourceSystem': {'code': 2, 'name': 'House floor actions'}, 'text': 'On passage Passed by the Yeas and Nays: 224 - 187 (Roll no. 217). (text: CR H3287-3288)', 'type': 'Floor'}\n",
      "Payload keys: ['actions', 'pagination', 'request']\n",
      "  Fetched 106 actions at offset 0\n",
      "{'actionCode': 'H37100', 'actionDate': '2024-06-14', 'actionTime': '11:10:15', 'recordedVotes': [{'chamber': 'House', 'congress': 118, 'date': '2024-06-14T15:10:15Z', 'rollNumber': 279, 'sessionNumber': 2, 'url': 'https://clerk.house.gov/evs/2024/roll279.xml'}], 'sourceSystem': {'code': 2, 'name': 'House floor actions'}, 'text': 'On passage Passed by recorded vote: 217 - 199 (Roll no. 279).', 'type': 'Floor'}\n",
      "Payload keys: ['actions', 'pagination', 'request']\n",
      "  Fetched 103 actions at offset 0\n",
      "{'actionCode': 'H37100', 'actionDate': '2024-06-28', 'actionTime': '11:06:35', 'recordedVotes': [{'chamber': 'House', 'congress': 118, 'date': '2024-06-28T15:06:35Z', 'rollNumber': 335, 'sessionNumber': 2, 'url': 'https://clerk.house.gov/evs/2024/roll335.xml'}], 'sourceSystem': {'code': 2, 'name': 'House floor actions'}, 'text': 'On passage Passed by the Yeas and Nays: 212 - 200 (Roll no. 335).', 'type': 'Floor'}\n",
      "Payload keys: ['actions', 'pagination', 'request']\n",
      "  Fetched 55 actions at offset 0\n",
      "{'actionCode': 'H37100', 'actionDate': '2024-06-28', 'actionTime': '10:40:45', 'recordedVotes': [{'chamber': 'House', 'congress': 118, 'date': '2024-06-28T14:40:45Z', 'rollNumber': 331, 'sessionNumber': 2, 'url': 'https://clerk.house.gov/evs/2024/roll331.xml'}], 'sourceSystem': {'code': 2, 'name': 'House floor actions'}, 'text': 'On passage Passed by the Yeas and Nays: 217 - 198 (Roll no. 331).', 'type': 'Floor'}\n",
      "Payload keys: ['actions', 'pagination', 'request']\n",
      "  Fetched 51 actions at offset 0\n",
      "{'actionCode': 'H37100', 'actionDate': '2023-11-30', 'actionTime': '17:00:04', 'recordedVotes': [{'chamber': 'House', 'congress': 118, 'date': '2023-11-30T22:00:04Z', 'rollNumber': 687, 'sessionNumber': 1, 'url': 'https://clerk.house.gov/evs/2023/roll687.xml'}], 'sourceSystem': {'code': 2, 'name': 'House floor actions'}, 'text': 'On passage Passed by the Yeas and Nays: 307 - 119, 1 Present (Roll no. 687).', 'type': 'Floor'}\n",
      "                   name state party  total_score  rank  percent HR.2670  \\\n",
      "member_id                                                                 \n",
      "T000481           Tlaib    MI     D         12.0     1      0.2     Nay   \n",
      "O000173            Omar    MN     D         12.0     1      0.2     Nay   \n",
      "V000081       Velázquez    NY     D         10.0    10      2.3     Nay   \n",
      "R000617         Ramirez    IL     D         10.0    10      2.3     Nay   \n",
      "J000309    Jackson (IL)    IL     D         10.0    10      2.3     Nay   \n",
      "\n",
      "          HR.340 HR.5917 HR.5961 HR.6090 HR.6126 HR.7217 HR.8034 HR.8038  \\\n",
      "member_id                                                                  \n",
      "T000481      Nay     Nay     Nay     Nay     Nay     Nay     Nay     Nay   \n",
      "O000173      Nay     Nay     Nay     Nay     Nay     Nay     Nay     Nay   \n",
      "V000081      Nay     Yea     Nay     Nay     Nay     Nay     Nay     Nay   \n",
      "R000617      Nay     Yea     Nay     Nay     Nay     Nay     Nay     Nay   \n",
      "J000309      Nay     Yea     Nay     Nay     Nay     Nay     Nay     Nay   \n",
      "\n",
      "          HR.8070 HR.8369 HR.8771 HR.8774  \n",
      "member_id                                  \n",
      "T000481        No     Nay     Nay     Nay  \n",
      "O000173        No     Nay     Nay     Nay  \n",
      "V000081        No     Nay     Nay     Nay  \n",
      "R000617        No     Nay     Nay     Nay  \n",
      "J000309        No     Nay     Nay     Nay  \n"
     ]
    }
   ],
   "source": [
    "import os\n",
    "import requests\n",
    "from xml.etree import ElementTree as ET\n",
    "import sqlite3\n",
    "import pandas as pd\n",
    "\n",
    "from get_votes import fetch_and_store_batch, build_vote_matrix, compute_member_total_scores\n",
    "\n",
    "\n",
    "bills = [\n",
    "    (118, \"hr\", 8034),\n",
    "    (118, \"hr\", 6090),\n",
    "    (118, \"hr\", 340),\n",
    "    (118, \"hr\", 6126),\n",
    "    (118, \"hr\", 2670),\n",
    "    (118, \"hr\", 7217),\n",
    "  #  (118, \"hr\", 2882),\n",
    "    (118, \"hr\", 5917),\n",
    "   # (118, \"hr\", 815),\n",
    "    (118, \"hr\", 8038),\n",
    "    (118, \"hr\", 8369),\n",
    "    (118, \"hr\", 8070),\n",
    "    (118, \"hr\", 8771),\n",
    "    (118, \"hr\", 8774),\n",
    "    (118, \"hr\", 5961),\n",
    "]\n",
    "\n",
    "# 2) Fetch & store into votes.db (will create/append the SQLite file)\n",
    "fetch_and_store_batch(bills, db_path=\"votes.db\")\n",
    "\n",
    "# 3) Build the vote‐matrix DataFrame\n",
    "vote_matrix = build_vote_matrix(bills, db_path=\"votes.db\")\n",
    "\n",
    "# your raw weights list: (congress, bill_type, bill_number, yea, present, nay, no_vote)\n",
    "weights = [\n",
    "    (118, \"hr\", 8034, -1, 0,  1, 0),\n",
    "    (118, \"hr\", 6090, -1, 0,  1, 0),\n",
    "    (118, \"hr\", 340,  -1, 0,  1, 0),\n",
    "    (118, \"hr\", 6126, -1, 0,  1, 0),\n",
    "    (118, \"hr\", 2670, -1, 0,  1, 0),\n",
    "    (118, \"hr\", 7217, -1, 0,  1, 0),\n",
    " #   (118, \"hr\", 2882, -1, 0,  1, 0),\n",
    "    (118, \"hr\", 5917, -1, 0,  1, 0),\n",
    "    (118, \"hr\", 8038, -1, 0,  1, 0),\n",
    "    (118, \"hr\", 8369, -1, 0,  1, 0),\n",
    "    (118, \"hr\", 8070, -1, 0,  1, 0),\n",
    "    (118, \"hr\", 8771, -1, 0,  1, 0),\n",
    "    (118, \"hr\", 8774, -1, 0,  1, 0),\n",
    "    (118, \"hr\", 5961, -1, 0,  1, 0),\n",
    "]\n",
    "\n",
    "# Build the rules dict\n",
    "rules = {}\n",
    "for _, bill_type, bill_number, yea_w, pres_w, nay_w, no_w in weights:\n",
    "    bill_id = f\"{bill_type.upper()}.{bill_number}\"\n",
    "    rules[bill_id] = {\n",
    "        \"Yea\":        yea_w,\n",
    "        \"Nay\":        nay_w,\n",
    "        \"Present\":    pres_w,\n",
    "        \"Not Voting\": no_w,\n",
    "    }\n",
    "\n",
    "# Example output:\n",
    "# {\n",
    "#   \"HR.8034\": {\"Yea\": -1, \"Nay\": 1, \"Present\": 0, \"Not Voting\": 0},\n",
    "#    …\n",
    "# }\n",
    "\n",
    "# Then pass `rules` into your scorer:\n",
    "scores = compute_member_total_scores(vote_matrix, rules, default_score=0.0)\n",
    "print(scores.head())\n"
   ],
   "metadata": {
    "collapsed": false,
    "ExecuteTime": {
     "end_time": "2025-07-11T21:23:45.048695Z",
     "start_time": "2025-07-11T21:23:35.599506Z"
    }
   },
   "id": "8a588f180f2262f9",
   "execution_count": 24
  },
  {
   "cell_type": "code",
   "outputs": [
    {
     "data": {
      "text/plain": "                    name state party  total_score  rank  percent     HR.2670  \\\nmember_id                                                                      \nV000081        Velázquez    NY     D         10.0    10      2.3         Nay   \nO000172    Ocasio-Cortez    NY     D          9.0    18      4.1         Nay   \nB001223           Bowman    NY     D          8.0    24      5.4         Nay   \nC001067      Clarke (NY)    NY     D          6.0    41      9.3         Nay   \nK000402          Kennedy    NY     D          3.0    77     17.5         NaN   \nT000469            Tonko    NY     D          2.0   100     22.7         Nay   \nM001137            Meeks    NY     D          2.0   100     22.7         Nay   \nN000002           Nadler    NY     D          2.0   100     22.7         Nay   \nH001038     Higgins (NY)    NY     D          2.0   100     22.7         Nay   \nJ000294         Jeffries    NY     D          0.0   152     34.5         Nay   \nM001206          Morelle    NY     D          0.0   152     34.5         Nay   \nR000579             Ryan    NY     D          0.0   152     34.5         Nay   \nG000599     Goldman (NY)    NY     D          0.0   152     34.5         Nay   \nE000297        Espaillat    NY     D         -2.0   190     43.1         Nay   \nM001188             Meng    NY     D         -2.0   190     43.1         Nay   \nS001222           Santos    NY     R         -3.0   206     46.7         Yea   \nS001201           Suozzi    NY     D         -3.0   206     46.7         NaN   \nT000486      Torres (NY)    NY     D         -4.0   217     49.2         Nay   \nW000828    Williams (NY)    NY     R         -9.0   244     55.3  Not Voting   \nG000597        Garbarino    NY     R        -10.0   261     59.2         Yea   \nL000600       Langworthy    NY     R        -11.0   287     65.1         Yea   \nM001221         Molinaro    NY     R        -12.0   370     83.9         Yea   \nM000317      Malliotakis    NY     R        -12.0   370     83.9         Yea   \nD000632       D'Esposito    NY     R        -12.0   370     83.9         Yea   \nL000599           Lawler    NY     R        -12.0   370     83.9         Yea   \nS001196         Stefanik    NY     R        -12.0   370     83.9         Yea   \nL000598           LaLota    NY     R        -12.0   370     83.9         Yea   \nT000478           Tenney    NY     R        -12.0   370     83.9         Yea   \n\n               HR.340 HR.5917     HR.5961     HR.6090     HR.6126 HR.7217  \\\nmember_id                                                                   \nV000081           Nay     Yea         Nay         Nay         Nay     Nay   \nO000172           Nay     Yea  Not Voting         Nay         Nay     Nay   \nB001223           Nay     Yea         Nay         Nay         Nay     Nay   \nC001067           Nay     Yea         Nay         Nay         Nay     Nay   \nK000402           NaN     NaN         NaN         NaN         NaN     NaN   \nT000469           Yea     Yea         Nay         Yea         Nay     Nay   \nM001137           Yea     Yea         Nay         Yea         Nay     Nay   \nN000002           Yea     Yea         Nay         Nay         Nay     Nay   \nH001038           Yea     NaN         Nay         NaN         Nay     NaN   \nJ000294           Yea     Yea         Yea         Yea         Nay     Nay   \nM001206           Yea     Yea         Yea         Yea         Nay     Nay   \nR000579           Yea     Yea         Yea         Yea         Nay     Nay   \nG000599           Yea     Yea         Nay         Yea         Nay     Yea   \nE000297           Yea     Yea         Yea         Yea         Nay     Yea   \nM001188           Yea     Yea         Yea         Yea         Nay     Yea   \nS001222           Yea     NaN     Present         NaN         Yea     NaN   \nS001201           NaN     Yea         NaN         Yea         NaN     NaN   \nT000486           Yea     Yea         Yea         Yea         Nay     Yea   \nW000828           Yea     Yea         Yea         Yea         Yea     Yea   \nG000597    Not Voting     Yea         Yea         Yea  Not Voting     Yea   \nL000600           Yea     Yea         Yea  Not Voting         Yea     Yea   \nM001221           Yea     Yea         Yea         Yea         Yea     Yea   \nM000317           Yea     Yea         Yea         Yea         Yea     Yea   \nD000632           Yea     Yea         Yea         Yea         Yea     Yea   \nL000599           Yea     Yea         Yea         Yea         Yea     Yea   \nS001196           Yea     Yea         Yea         Yea         Yea     Yea   \nL000598           Yea     Yea         Yea         Yea         Yea     Yea   \nT000478           Yea     Yea         Yea         Yea         Yea     Yea   \n\n              HR.8034     HR.8038     HR.8070 HR.8369     HR.8771     HR.8774  \nmember_id                                                                      \nV000081           Nay         Nay          No     Nay         Nay         Nay  \nO000172           Nay         Nay          No     Nay         Nay         Nay  \nB001223           Nay         Nay  Not Voting     Nay  Not Voting  Not Voting  \nC001067           Yea         Yea          No     Nay         Nay         Nay  \nK000402           NaN         NaN          No     Nay         Nay         Nay  \nT000469           Yea         Yea          No     Nay         Nay         Nay  \nM001137           Yea         Yea          No     Nay         Nay         Nay  \nN000002           Yea         Yea          No     Nay  Not Voting  Not Voting  \nH001038           NaN         NaN         NaN     NaN         NaN         NaN  \nJ000294           Yea         Yea          No     Nay         Nay         Nay  \nM001206           Yea         Yea          No     Nay         Nay         Nay  \nR000579           Yea         Yea          No     Nay         Nay         Nay  \nG000599           Yea         Yea          No     Nay         Nay         Nay  \nE000297           Yea         Yea          No     Nay         Nay         Nay  \nM001188           Yea         Yea          No     Nay         Nay         Nay  \nS001222           NaN         NaN         NaN     NaN         NaN         NaN  \nS001201           Yea         Yea          No     Yea         Nay         Nay  \nT000486           Yea         Yea          No     Yea         Nay         Nay  \nW000828    Not Voting  Not Voting         Aye     Yea         Yea         Yea  \nG000597           Yea         Yea         Aye     Yea         Yea         Yea  \nL000600           Yea         Yea         Aye     Yea         Yea         Yea  \nM001221           Yea         Yea         Aye     Yea         Yea         Yea  \nM000317           Yea         Yea         Aye     Yea         Yea         Yea  \nD000632           Yea         Yea         Aye     Yea         Yea         Yea  \nL000599           Yea         Yea         Aye     Yea         Yea         Yea  \nS001196           Yea         Yea         Aye     Yea         Yea         Yea  \nL000598           Yea         Yea         Aye     Yea         Yea         Yea  \nT000478           Yea         Yea         Aye     Yea         Yea         Yea  ",
      "text/html": "<div>\n<style scoped>\n    .dataframe tbody tr th:only-of-type {\n        vertical-align: middle;\n    }\n\n    .dataframe tbody tr th {\n        vertical-align: top;\n    }\n\n    .dataframe thead th {\n        text-align: right;\n    }\n</style>\n<table border=\"1\" class=\"dataframe\">\n  <thead>\n    <tr style=\"text-align: right;\">\n      <th></th>\n      <th>name</th>\n      <th>state</th>\n      <th>party</th>\n      <th>total_score</th>\n      <th>rank</th>\n      <th>percent</th>\n      <th>HR.2670</th>\n      <th>HR.340</th>\n      <th>HR.5917</th>\n      <th>HR.5961</th>\n      <th>HR.6090</th>\n      <th>HR.6126</th>\n      <th>HR.7217</th>\n      <th>HR.8034</th>\n      <th>HR.8038</th>\n      <th>HR.8070</th>\n      <th>HR.8369</th>\n      <th>HR.8771</th>\n      <th>HR.8774</th>\n    </tr>\n    <tr>\n      <th>member_id</th>\n      <th></th>\n      <th></th>\n      <th></th>\n      <th></th>\n      <th></th>\n      <th></th>\n      <th></th>\n      <th></th>\n      <th></th>\n      <th></th>\n      <th></th>\n      <th></th>\n      <th></th>\n      <th></th>\n      <th></th>\n      <th></th>\n      <th></th>\n      <th></th>\n      <th></th>\n    </tr>\n  </thead>\n  <tbody>\n    <tr>\n      <th>V000081</th>\n      <td>Velázquez</td>\n      <td>NY</td>\n      <td>D</td>\n      <td>10.0</td>\n      <td>10</td>\n      <td>2.3</td>\n      <td>Nay</td>\n      <td>Nay</td>\n      <td>Yea</td>\n      <td>Nay</td>\n      <td>Nay</td>\n      <td>Nay</td>\n      <td>Nay</td>\n      <td>Nay</td>\n      <td>Nay</td>\n      <td>No</td>\n      <td>Nay</td>\n      <td>Nay</td>\n      <td>Nay</td>\n    </tr>\n    <tr>\n      <th>O000172</th>\n      <td>Ocasio-Cortez</td>\n      <td>NY</td>\n      <td>D</td>\n      <td>9.0</td>\n      <td>18</td>\n      <td>4.1</td>\n      <td>Nay</td>\n      <td>Nay</td>\n      <td>Yea</td>\n      <td>Not Voting</td>\n      <td>Nay</td>\n      <td>Nay</td>\n      <td>Nay</td>\n      <td>Nay</td>\n      <td>Nay</td>\n      <td>No</td>\n      <td>Nay</td>\n      <td>Nay</td>\n      <td>Nay</td>\n    </tr>\n    <tr>\n      <th>B001223</th>\n      <td>Bowman</td>\n      <td>NY</td>\n      <td>D</td>\n      <td>8.0</td>\n      <td>24</td>\n      <td>5.4</td>\n      <td>Nay</td>\n      <td>Nay</td>\n      <td>Yea</td>\n      <td>Nay</td>\n      <td>Nay</td>\n      <td>Nay</td>\n      <td>Nay</td>\n      <td>Nay</td>\n      <td>Nay</td>\n      <td>Not Voting</td>\n      <td>Nay</td>\n      <td>Not Voting</td>\n      <td>Not Voting</td>\n    </tr>\n    <tr>\n      <th>C001067</th>\n      <td>Clarke (NY)</td>\n      <td>NY</td>\n      <td>D</td>\n      <td>6.0</td>\n      <td>41</td>\n      <td>9.3</td>\n      <td>Nay</td>\n      <td>Nay</td>\n      <td>Yea</td>\n      <td>Nay</td>\n      <td>Nay</td>\n      <td>Nay</td>\n      <td>Nay</td>\n      <td>Yea</td>\n      <td>Yea</td>\n      <td>No</td>\n      <td>Nay</td>\n      <td>Nay</td>\n      <td>Nay</td>\n    </tr>\n    <tr>\n      <th>K000402</th>\n      <td>Kennedy</td>\n      <td>NY</td>\n      <td>D</td>\n      <td>3.0</td>\n      <td>77</td>\n      <td>17.5</td>\n      <td>NaN</td>\n      <td>NaN</td>\n      <td>NaN</td>\n      <td>NaN</td>\n      <td>NaN</td>\n      <td>NaN</td>\n      <td>NaN</td>\n      <td>NaN</td>\n      <td>NaN</td>\n      <td>No</td>\n      <td>Nay</td>\n      <td>Nay</td>\n      <td>Nay</td>\n    </tr>\n    <tr>\n      <th>T000469</th>\n      <td>Tonko</td>\n      <td>NY</td>\n      <td>D</td>\n      <td>2.0</td>\n      <td>100</td>\n      <td>22.7</td>\n      <td>Nay</td>\n      <td>Yea</td>\n      <td>Yea</td>\n      <td>Nay</td>\n      <td>Yea</td>\n      <td>Nay</td>\n      <td>Nay</td>\n      <td>Yea</td>\n      <td>Yea</td>\n      <td>No</td>\n      <td>Nay</td>\n      <td>Nay</td>\n      <td>Nay</td>\n    </tr>\n    <tr>\n      <th>M001137</th>\n      <td>Meeks</td>\n      <td>NY</td>\n      <td>D</td>\n      <td>2.0</td>\n      <td>100</td>\n      <td>22.7</td>\n      <td>Nay</td>\n      <td>Yea</td>\n      <td>Yea</td>\n      <td>Nay</td>\n      <td>Yea</td>\n      <td>Nay</td>\n      <td>Nay</td>\n      <td>Yea</td>\n      <td>Yea</td>\n      <td>No</td>\n      <td>Nay</td>\n      <td>Nay</td>\n      <td>Nay</td>\n    </tr>\n    <tr>\n      <th>N000002</th>\n      <td>Nadler</td>\n      <td>NY</td>\n      <td>D</td>\n      <td>2.0</td>\n      <td>100</td>\n      <td>22.7</td>\n      <td>Nay</td>\n      <td>Yea</td>\n      <td>Yea</td>\n      <td>Nay</td>\n      <td>Nay</td>\n      <td>Nay</td>\n      <td>Nay</td>\n      <td>Yea</td>\n      <td>Yea</td>\n      <td>No</td>\n      <td>Nay</td>\n      <td>Not Voting</td>\n      <td>Not Voting</td>\n    </tr>\n    <tr>\n      <th>H001038</th>\n      <td>Higgins (NY)</td>\n      <td>NY</td>\n      <td>D</td>\n      <td>2.0</td>\n      <td>100</td>\n      <td>22.7</td>\n      <td>Nay</td>\n      <td>Yea</td>\n      <td>NaN</td>\n      <td>Nay</td>\n      <td>NaN</td>\n      <td>Nay</td>\n      <td>NaN</td>\n      <td>NaN</td>\n      <td>NaN</td>\n      <td>NaN</td>\n      <td>NaN</td>\n      <td>NaN</td>\n      <td>NaN</td>\n    </tr>\n    <tr>\n      <th>J000294</th>\n      <td>Jeffries</td>\n      <td>NY</td>\n      <td>D</td>\n      <td>0.0</td>\n      <td>152</td>\n      <td>34.5</td>\n      <td>Nay</td>\n      <td>Yea</td>\n      <td>Yea</td>\n      <td>Yea</td>\n      <td>Yea</td>\n      <td>Nay</td>\n      <td>Nay</td>\n      <td>Yea</td>\n      <td>Yea</td>\n      <td>No</td>\n      <td>Nay</td>\n      <td>Nay</td>\n      <td>Nay</td>\n    </tr>\n    <tr>\n      <th>M001206</th>\n      <td>Morelle</td>\n      <td>NY</td>\n      <td>D</td>\n      <td>0.0</td>\n      <td>152</td>\n      <td>34.5</td>\n      <td>Nay</td>\n      <td>Yea</td>\n      <td>Yea</td>\n      <td>Yea</td>\n      <td>Yea</td>\n      <td>Nay</td>\n      <td>Nay</td>\n      <td>Yea</td>\n      <td>Yea</td>\n      <td>No</td>\n      <td>Nay</td>\n      <td>Nay</td>\n      <td>Nay</td>\n    </tr>\n    <tr>\n      <th>R000579</th>\n      <td>Ryan</td>\n      <td>NY</td>\n      <td>D</td>\n      <td>0.0</td>\n      <td>152</td>\n      <td>34.5</td>\n      <td>Nay</td>\n      <td>Yea</td>\n      <td>Yea</td>\n      <td>Yea</td>\n      <td>Yea</td>\n      <td>Nay</td>\n      <td>Nay</td>\n      <td>Yea</td>\n      <td>Yea</td>\n      <td>No</td>\n      <td>Nay</td>\n      <td>Nay</td>\n      <td>Nay</td>\n    </tr>\n    <tr>\n      <th>G000599</th>\n      <td>Goldman (NY)</td>\n      <td>NY</td>\n      <td>D</td>\n      <td>0.0</td>\n      <td>152</td>\n      <td>34.5</td>\n      <td>Nay</td>\n      <td>Yea</td>\n      <td>Yea</td>\n      <td>Nay</td>\n      <td>Yea</td>\n      <td>Nay</td>\n      <td>Yea</td>\n      <td>Yea</td>\n      <td>Yea</td>\n      <td>No</td>\n      <td>Nay</td>\n      <td>Nay</td>\n      <td>Nay</td>\n    </tr>\n    <tr>\n      <th>E000297</th>\n      <td>Espaillat</td>\n      <td>NY</td>\n      <td>D</td>\n      <td>-2.0</td>\n      <td>190</td>\n      <td>43.1</td>\n      <td>Nay</td>\n      <td>Yea</td>\n      <td>Yea</td>\n      <td>Yea</td>\n      <td>Yea</td>\n      <td>Nay</td>\n      <td>Yea</td>\n      <td>Yea</td>\n      <td>Yea</td>\n      <td>No</td>\n      <td>Nay</td>\n      <td>Nay</td>\n      <td>Nay</td>\n    </tr>\n    <tr>\n      <th>M001188</th>\n      <td>Meng</td>\n      <td>NY</td>\n      <td>D</td>\n      <td>-2.0</td>\n      <td>190</td>\n      <td>43.1</td>\n      <td>Nay</td>\n      <td>Yea</td>\n      <td>Yea</td>\n      <td>Yea</td>\n      <td>Yea</td>\n      <td>Nay</td>\n      <td>Yea</td>\n      <td>Yea</td>\n      <td>Yea</td>\n      <td>No</td>\n      <td>Nay</td>\n      <td>Nay</td>\n      <td>Nay</td>\n    </tr>\n    <tr>\n      <th>S001222</th>\n      <td>Santos</td>\n      <td>NY</td>\n      <td>R</td>\n      <td>-3.0</td>\n      <td>206</td>\n      <td>46.7</td>\n      <td>Yea</td>\n      <td>Yea</td>\n      <td>NaN</td>\n      <td>Present</td>\n      <td>NaN</td>\n      <td>Yea</td>\n      <td>NaN</td>\n      <td>NaN</td>\n      <td>NaN</td>\n      <td>NaN</td>\n      <td>NaN</td>\n      <td>NaN</td>\n      <td>NaN</td>\n    </tr>\n    <tr>\n      <th>S001201</th>\n      <td>Suozzi</td>\n      <td>NY</td>\n      <td>D</td>\n      <td>-3.0</td>\n      <td>206</td>\n      <td>46.7</td>\n      <td>NaN</td>\n      <td>NaN</td>\n      <td>Yea</td>\n      <td>NaN</td>\n      <td>Yea</td>\n      <td>NaN</td>\n      <td>NaN</td>\n      <td>Yea</td>\n      <td>Yea</td>\n      <td>No</td>\n      <td>Yea</td>\n      <td>Nay</td>\n      <td>Nay</td>\n    </tr>\n    <tr>\n      <th>T000486</th>\n      <td>Torres (NY)</td>\n      <td>NY</td>\n      <td>D</td>\n      <td>-4.0</td>\n      <td>217</td>\n      <td>49.2</td>\n      <td>Nay</td>\n      <td>Yea</td>\n      <td>Yea</td>\n      <td>Yea</td>\n      <td>Yea</td>\n      <td>Nay</td>\n      <td>Yea</td>\n      <td>Yea</td>\n      <td>Yea</td>\n      <td>No</td>\n      <td>Yea</td>\n      <td>Nay</td>\n      <td>Nay</td>\n    </tr>\n    <tr>\n      <th>W000828</th>\n      <td>Williams (NY)</td>\n      <td>NY</td>\n      <td>R</td>\n      <td>-9.0</td>\n      <td>244</td>\n      <td>55.3</td>\n      <td>Not Voting</td>\n      <td>Yea</td>\n      <td>Yea</td>\n      <td>Yea</td>\n      <td>Yea</td>\n      <td>Yea</td>\n      <td>Yea</td>\n      <td>Not Voting</td>\n      <td>Not Voting</td>\n      <td>Aye</td>\n      <td>Yea</td>\n      <td>Yea</td>\n      <td>Yea</td>\n    </tr>\n    <tr>\n      <th>G000597</th>\n      <td>Garbarino</td>\n      <td>NY</td>\n      <td>R</td>\n      <td>-10.0</td>\n      <td>261</td>\n      <td>59.2</td>\n      <td>Yea</td>\n      <td>Not Voting</td>\n      <td>Yea</td>\n      <td>Yea</td>\n      <td>Yea</td>\n      <td>Not Voting</td>\n      <td>Yea</td>\n      <td>Yea</td>\n      <td>Yea</td>\n      <td>Aye</td>\n      <td>Yea</td>\n      <td>Yea</td>\n      <td>Yea</td>\n    </tr>\n    <tr>\n      <th>L000600</th>\n      <td>Langworthy</td>\n      <td>NY</td>\n      <td>R</td>\n      <td>-11.0</td>\n      <td>287</td>\n      <td>65.1</td>\n      <td>Yea</td>\n      <td>Yea</td>\n      <td>Yea</td>\n      <td>Yea</td>\n      <td>Not Voting</td>\n      <td>Yea</td>\n      <td>Yea</td>\n      <td>Yea</td>\n      <td>Yea</td>\n      <td>Aye</td>\n      <td>Yea</td>\n      <td>Yea</td>\n      <td>Yea</td>\n    </tr>\n    <tr>\n      <th>M001221</th>\n      <td>Molinaro</td>\n      <td>NY</td>\n      <td>R</td>\n      <td>-12.0</td>\n      <td>370</td>\n      <td>83.9</td>\n      <td>Yea</td>\n      <td>Yea</td>\n      <td>Yea</td>\n      <td>Yea</td>\n      <td>Yea</td>\n      <td>Yea</td>\n      <td>Yea</td>\n      <td>Yea</td>\n      <td>Yea</td>\n      <td>Aye</td>\n      <td>Yea</td>\n      <td>Yea</td>\n      <td>Yea</td>\n    </tr>\n    <tr>\n      <th>M000317</th>\n      <td>Malliotakis</td>\n      <td>NY</td>\n      <td>R</td>\n      <td>-12.0</td>\n      <td>370</td>\n      <td>83.9</td>\n      <td>Yea</td>\n      <td>Yea</td>\n      <td>Yea</td>\n      <td>Yea</td>\n      <td>Yea</td>\n      <td>Yea</td>\n      <td>Yea</td>\n      <td>Yea</td>\n      <td>Yea</td>\n      <td>Aye</td>\n      <td>Yea</td>\n      <td>Yea</td>\n      <td>Yea</td>\n    </tr>\n    <tr>\n      <th>D000632</th>\n      <td>D'Esposito</td>\n      <td>NY</td>\n      <td>R</td>\n      <td>-12.0</td>\n      <td>370</td>\n      <td>83.9</td>\n      <td>Yea</td>\n      <td>Yea</td>\n      <td>Yea</td>\n      <td>Yea</td>\n      <td>Yea</td>\n      <td>Yea</td>\n      <td>Yea</td>\n      <td>Yea</td>\n      <td>Yea</td>\n      <td>Aye</td>\n      <td>Yea</td>\n      <td>Yea</td>\n      <td>Yea</td>\n    </tr>\n    <tr>\n      <th>L000599</th>\n      <td>Lawler</td>\n      <td>NY</td>\n      <td>R</td>\n      <td>-12.0</td>\n      <td>370</td>\n      <td>83.9</td>\n      <td>Yea</td>\n      <td>Yea</td>\n      <td>Yea</td>\n      <td>Yea</td>\n      <td>Yea</td>\n      <td>Yea</td>\n      <td>Yea</td>\n      <td>Yea</td>\n      <td>Yea</td>\n      <td>Aye</td>\n      <td>Yea</td>\n      <td>Yea</td>\n      <td>Yea</td>\n    </tr>\n    <tr>\n      <th>S001196</th>\n      <td>Stefanik</td>\n      <td>NY</td>\n      <td>R</td>\n      <td>-12.0</td>\n      <td>370</td>\n      <td>83.9</td>\n      <td>Yea</td>\n      <td>Yea</td>\n      <td>Yea</td>\n      <td>Yea</td>\n      <td>Yea</td>\n      <td>Yea</td>\n      <td>Yea</td>\n      <td>Yea</td>\n      <td>Yea</td>\n      <td>Aye</td>\n      <td>Yea</td>\n      <td>Yea</td>\n      <td>Yea</td>\n    </tr>\n    <tr>\n      <th>L000598</th>\n      <td>LaLota</td>\n      <td>NY</td>\n      <td>R</td>\n      <td>-12.0</td>\n      <td>370</td>\n      <td>83.9</td>\n      <td>Yea</td>\n      <td>Yea</td>\n      <td>Yea</td>\n      <td>Yea</td>\n      <td>Yea</td>\n      <td>Yea</td>\n      <td>Yea</td>\n      <td>Yea</td>\n      <td>Yea</td>\n      <td>Aye</td>\n      <td>Yea</td>\n      <td>Yea</td>\n      <td>Yea</td>\n    </tr>\n    <tr>\n      <th>T000478</th>\n      <td>Tenney</td>\n      <td>NY</td>\n      <td>R</td>\n      <td>-12.0</td>\n      <td>370</td>\n      <td>83.9</td>\n      <td>Yea</td>\n      <td>Yea</td>\n      <td>Yea</td>\n      <td>Yea</td>\n      <td>Yea</td>\n      <td>Yea</td>\n      <td>Yea</td>\n      <td>Yea</td>\n      <td>Yea</td>\n      <td>Aye</td>\n      <td>Yea</td>\n      <td>Yea</td>\n      <td>Yea</td>\n    </tr>\n  </tbody>\n</table>\n</div>"
     },
     "execution_count": 25,
     "metadata": {},
     "output_type": "execute_result"
    }
   ],
   "source": [
    "scores[scores[\"state\"] == \"NY\"]\n"
   ],
   "metadata": {
    "collapsed": false,
    "ExecuteTime": {
     "end_time": "2025-07-11T21:23:45.075998Z",
     "start_time": "2025-07-11T21:23:45.049312Z"
    }
   },
   "id": "e3a2aff973b2a3ad",
   "execution_count": 25
  },
  {
   "cell_type": "code",
   "outputs": [
    {
     "data": {
      "text/plain": "                   name state party  total_score  rank  percent HR.2670  \\\nmember_id                                                                 \nG000599    Goldman (NY)    NY     D          0.0   152     34.5     Nay   \n\n          HR.340 HR.5917 HR.5961 HR.6090 HR.6126 HR.7217 HR.8034 HR.8038  \\\nmember_id                                                                  \nG000599      Yea     Yea     Nay     Yea     Nay     Yea     Yea     Yea   \n\n          HR.8070 HR.8369 HR.8771 HR.8774  \nmember_id                                  \nG000599        No     Nay     Nay     Nay  ",
      "text/html": "<div>\n<style scoped>\n    .dataframe tbody tr th:only-of-type {\n        vertical-align: middle;\n    }\n\n    .dataframe tbody tr th {\n        vertical-align: top;\n    }\n\n    .dataframe thead th {\n        text-align: right;\n    }\n</style>\n<table border=\"1\" class=\"dataframe\">\n  <thead>\n    <tr style=\"text-align: right;\">\n      <th></th>\n      <th>name</th>\n      <th>state</th>\n      <th>party</th>\n      <th>total_score</th>\n      <th>rank</th>\n      <th>percent</th>\n      <th>HR.2670</th>\n      <th>HR.340</th>\n      <th>HR.5917</th>\n      <th>HR.5961</th>\n      <th>HR.6090</th>\n      <th>HR.6126</th>\n      <th>HR.7217</th>\n      <th>HR.8034</th>\n      <th>HR.8038</th>\n      <th>HR.8070</th>\n      <th>HR.8369</th>\n      <th>HR.8771</th>\n      <th>HR.8774</th>\n    </tr>\n    <tr>\n      <th>member_id</th>\n      <th></th>\n      <th></th>\n      <th></th>\n      <th></th>\n      <th></th>\n      <th></th>\n      <th></th>\n      <th></th>\n      <th></th>\n      <th></th>\n      <th></th>\n      <th></th>\n      <th></th>\n      <th></th>\n      <th></th>\n      <th></th>\n      <th></th>\n      <th></th>\n      <th></th>\n    </tr>\n  </thead>\n  <tbody>\n    <tr>\n      <th>G000599</th>\n      <td>Goldman (NY)</td>\n      <td>NY</td>\n      <td>D</td>\n      <td>0.0</td>\n      <td>152</td>\n      <td>34.5</td>\n      <td>Nay</td>\n      <td>Yea</td>\n      <td>Yea</td>\n      <td>Nay</td>\n      <td>Yea</td>\n      <td>Nay</td>\n      <td>Yea</td>\n      <td>Yea</td>\n      <td>Yea</td>\n      <td>No</td>\n      <td>Nay</td>\n      <td>Nay</td>\n      <td>Nay</td>\n    </tr>\n  </tbody>\n</table>\n</div>"
     },
     "execution_count": 26,
     "metadata": {},
     "output_type": "execute_result"
    }
   ],
   "source": [
    "scores[scores[\"name\"] == \"Goldman (NY)\"]\n"
   ],
   "metadata": {
    "collapsed": false,
    "ExecuteTime": {
     "end_time": "2025-07-11T21:25:50.686944Z",
     "start_time": "2025-07-11T21:25:50.626834Z"
    }
   },
   "id": "18d2992ac5c75d37",
   "execution_count": 26
  }
 ],
 "metadata": {
  "kernelspec": {
   "display_name": "Python 3",
   "language": "python",
   "name": "python3"
  },
  "language_info": {
   "codemirror_mode": {
    "name": "ipython",
    "version": 2
   },
   "file_extension": ".py",
   "mimetype": "text/x-python",
   "name": "python",
   "nbconvert_exporter": "python",
   "pygments_lexer": "ipython2",
   "version": "2.7.6"
  }
 },
 "nbformat": 4,
 "nbformat_minor": 5
}
