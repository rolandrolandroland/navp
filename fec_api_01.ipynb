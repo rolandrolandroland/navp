{
 "cells": [
  {
   "cell_type": "code",
   "execution_count": 1,
   "id": "initial_id",
   "metadata": {
    "collapsed": true,
    "ExecuteTime": {
     "end_time": "2025-07-11T20:52:34.756454Z",
     "start_time": "2025-07-11T20:52:33.864123Z"
    }
   },
   "outputs": [],
   "source": [
    "## import packages\n",
    "import os, requests, csv, itertools, pandas as pd\n",
    "BASE = \"https://api.open.fec.gov/v1\"\n",
    "API_KEY = os.getenv(\"FEC_API_KEY\")\n",
    "CYCLE = 2024\n",
    "CAND_NAME = \"George Latimer\"\n",
    "SESSION = requests.Session()                   # reuse TCP/TLS\n"
   ]
  },
  {
   "cell_type": "code",
   "outputs": [],
   "source": [
    "# define function to get all info about a certain endpoint\n",
    "def fec_get(endpoint, **params):\n",
    "    # add key\n",
    "    params[\"api_key\"] = API_KEY\n",
    "    # set page limit\n",
    "    params.setdefault(\"per_page\", 100)\n",
    "    url = f\"{BASE}/{endpoint.strip('/')}/\"\n",
    "    while url:\n",
    "        res = requests.get(url, params = params if \"?\" not in url else None)\n",
    "        res.raise_for_status()\n",
    "        data = res.json()\n",
    "        yield from data[\"results\"]\n",
    "        # next page URL lives inside the pagination block\n",
    "        url = data[\"pagination\"].get[\"next_page\"]\n"
   ],
   "metadata": {
    "collapsed": false,
    "ExecuteTime": {
     "end_time": "2025-07-11T20:52:35.659325Z",
     "start_time": "2025-07-11T20:52:35.653538Z"
    }
   },
   "id": "7c81bbc809b0b630",
   "execution_count": 2
  },
  {
   "cell_type": "code",
   "outputs": [],
   "source": [
    "import os, requests\n",
    "\n",
    "BASE = \"https://api.open.fec.gov/v1\"           # keep /v1\n",
    "SESSION = requests.Session()                   # reuse TCP/TLS\n",
    "\n",
    "def fec_get(endpoint: str, **params):\n",
    "    \"\"\"\n",
    "    Yield rows from any OpenFEC /v1/ endpoint, handling pagination.\n",
    "    \"\"\"\n",
    "    params[\"api_key\"] = API_KEY          # add your key once\n",
    "    params.setdefault(\"per_page\", 100)\n",
    "\n",
    "    # ensure exactly one trailing slash so \"//\" never appears\n",
    "    url = f\"{BASE}/{endpoint.strip('/')}/\"\n",
    "\n",
    "    while url:\n",
    "        resp = SESSION.get(url, params=params if \"?\" not in url else None)\n",
    "        resp.raise_for_status()\n",
    "\n",
    "        data = resp.json()                               # ← parentheses added\n",
    "        yield from data[\"results\"]\n",
    "\n",
    "        url = data[\"pagination\"].get(\"next_page\")        # ← () not []\n",
    "        params = None   # only send query params on the *first* request\n"
   ],
   "metadata": {
    "collapsed": false,
    "ExecuteTime": {
     "end_time": "2025-07-11T20:52:36.939407Z",
     "start_time": "2025-07-11T20:52:36.936089Z"
    }
   },
   "id": "e641f640c2d3530",
   "execution_count": 3
  },
  {
   "cell_type": "code",
   "outputs": [],
   "source": [
    "## this will get the candidate name, id, office_sought,\n",
    "cand = next(fec_get(\"names/candidates\", q=CAND_NAME, cycle= CYCLE))"
   ],
   "metadata": {
    "collapsed": false,
    "ExecuteTime": {
     "end_time": "2025-07-11T20:52:42.268070Z",
     "start_time": "2025-07-11T20:52:41.157751Z"
    }
   },
   "id": "77d6332e54c8017a",
   "execution_count": 4
  },
  {
   "cell_type": "code",
   "outputs": [
    {
     "name": "stdout",
     "output_type": "stream",
     "text": [
      "{'id': 'H4NY16087', 'name': 'LATIMER, GEORGE', 'office_sought': 'H'}\n",
      "H4NY16087\n"
     ]
    }
   ],
   "source": [
    "# get candidate id\n",
    "cand_id = cand[\"id\"]\n",
    "print(cand)\n",
    "print(cand_id)"
   ],
   "metadata": {
    "collapsed": false,
    "ExecuteTime": {
     "end_time": "2025-05-16T19:35:13.697909Z",
     "start_time": "2025-05-16T19:35:13.690593Z"
    }
   },
   "id": "c27562d49b277511",
   "execution_count": 38
  },
  {
   "cell_type": "code",
   "outputs": [
    {
     "name": "stdout",
     "output_type": "stream",
     "text": [
      "['C00859041']\n"
     ]
    }
   ],
   "source": [
    "# get committee\n",
    "comms = list(\n",
    "    fec_get(f\"candidate/{cand_id}/committees/\", cycle=CYCLE)\n",
    ")\n",
    "print([c[\"committee_id\"] for c in committees])"
   ],
   "metadata": {
    "collapsed": false,
    "ExecuteTime": {
     "end_time": "2025-05-16T19:48:35.870057Z",
     "start_time": "2025-05-16T19:48:35.711111Z"
    }
   },
   "id": "30bdbbb729e4ab9a",
   "execution_count": 46
  },
  {
   "cell_type": "code",
   "outputs": [
    {
     "name": "stdout",
     "output_type": "stream",
     "text": [
      "Authorized committees across cycles: {'C00859041'}\n"
     ]
    }
   ],
   "source": [
    "auth = list(fec_get(f\"candidate/{cand_id}/committees/history/\", election_full=True))\n",
    "auth_ids = {c[\"committee_id\"] for c in auth}\n",
    "print(\"Authorized committees across cycles:\", auth_ids)"
   ],
   "metadata": {
    "collapsed": false,
    "ExecuteTime": {
     "end_time": "2025-05-16T19:49:08.863617Z",
     "start_time": "2025-05-16T19:49:08.010365Z"
    }
   },
   "id": "2c01258f07737b13",
   "execution_count": 48
  },
  {
   "cell_type": "code",
   "outputs": [
    {
     "name": "stdout",
     "output_type": "stream",
     "text": [
      "<class 'list'>\n",
      "[{'affiliated_committee_name': 'NONE', 'candidate_ids': ['H4NY16087'], 'city': 'WHITE PLAINS', 'committee_id': 'C00859041', 'committee_type': 'H', 'committee_type_full': 'House', 'custodian_city': 'NEW YORK', 'custodian_name_1': 'STEVEN', 'custodian_name_2': 'PRESSER', 'custodian_name_full': 'PRESSER, STEVEN', 'custodian_name_middle': None, 'custodian_name_prefix': None, 'custodian_name_suffix': None, 'custodian_name_title': 'TREASURER', 'custodian_phone': '6465540290', 'custodian_state': 'NY', 'custodian_street_1': 'P.O. BOX 768', 'custodian_street_2': None, 'custodian_zip': '10033', 'cycles': [2024, 2026], 'designation': 'P', 'designation_full': 'Principal campaign committee', 'email': 'PRESSER.STEVEN@GMAIL.COM', 'fax': None, 'filing_frequency': 'Q', 'first_f1_date': '2023-12-04', 'first_file_date': '2023-12-04', 'form_type': 'F1', 'last_f1_date': '2023-12-06', 'last_file_date': '2025-04-15', 'leadership_pac': None, 'lobbyist_registrant_pac': None, 'name': 'GEORGE LATIMER FOR CONGRESS', 'organization_type': None, 'organization_type_full': None, 'party': 'DEM', 'party_full': 'DEMOCRATIC PARTY', 'party_type': None, 'party_type_full': None, 'sponsor_candidate_ids': None, 'state': 'NY', 'state_full': 'New York', 'street_1': 'P.O. BOX 789', 'street_2': None, 'treasurer_city': 'NEW YORK', 'treasurer_name': 'PRESSER, STEVEN', 'treasurer_name_1': 'STEVEN', 'treasurer_name_2': 'PRESSER', 'treasurer_name_middle': None, 'treasurer_name_prefix': None, 'treasurer_name_suffix': None, 'treasurer_name_title': 'TREASURER', 'treasurer_phone': '6465540290', 'treasurer_state': 'NY', 'treasurer_street_1': 'P.O. BOX 768', 'treasurer_street_2': None, 'treasurer_zip': '10033', 'website': None, 'zip': '10602'}]\n",
      "{'affiliated_committee_name': 'NONE', 'candidate_ids': ['H4NY16087'], 'city': 'WHITE PLAINS', 'committee_id': 'C00859041', 'committee_type': 'H', 'committee_type_full': 'House', 'custodian_city': 'NEW YORK', 'custodian_name_1': 'STEVEN', 'custodian_name_2': 'PRESSER', 'custodian_name_full': 'PRESSER, STEVEN', 'custodian_name_middle': None, 'custodian_name_prefix': None, 'custodian_name_suffix': None, 'custodian_name_title': 'TREASURER', 'custodian_phone': '6465540290', 'custodian_state': 'NY', 'custodian_street_1': 'P.O. BOX 768', 'custodian_street_2': None, 'custodian_zip': '10033', 'cycles': [2024, 2026], 'designation': 'P', 'designation_full': 'Principal campaign committee', 'email': 'PRESSER.STEVEN@GMAIL.COM', 'fax': None, 'filing_frequency': 'Q', 'first_f1_date': '2023-12-04', 'first_file_date': '2023-12-04', 'form_type': 'F1', 'last_f1_date': '2023-12-06', 'last_file_date': '2025-04-15', 'leadership_pac': None, 'lobbyist_registrant_pac': None, 'name': 'GEORGE LATIMER FOR CONGRESS', 'organization_type': None, 'organization_type_full': None, 'party': 'DEM', 'party_full': 'DEMOCRATIC PARTY', 'party_type': None, 'party_type_full': None, 'sponsor_candidate_ids': None, 'state': 'NY', 'state_full': 'New York', 'street_1': 'P.O. BOX 789', 'street_2': None, 'treasurer_city': 'NEW YORK', 'treasurer_name': 'PRESSER, STEVEN', 'treasurer_name_1': 'STEVEN', 'treasurer_name_2': 'PRESSER', 'treasurer_name_middle': None, 'treasurer_name_prefix': None, 'treasurer_name_suffix': None, 'treasurer_name_title': 'TREASURER', 'treasurer_phone': '6465540290', 'treasurer_state': 'NY', 'treasurer_street_1': 'P.O. BOX 768', 'treasurer_street_2': None, 'treasurer_zip': '10033', 'website': None, 'zip': '10602'}\n"
     ]
    }
   ],
   "source": [
    "print(type(comms))            # list? generator? str?\n",
    "print(comms)                  # what’s actually inside?\n",
    "print(next(iter(comms)))      # first element, unwrapped\n"
   ],
   "metadata": {
    "collapsed": false,
    "ExecuteTime": {
     "end_time": "2025-05-16T19:35:47.343583Z",
     "start_time": "2025-05-16T19:35:47.336120Z"
    }
   },
   "id": "77742c7401bddacd",
   "execution_count": 43
  },
  {
   "cell_type": "code",
   "outputs": [
    {
     "name": "stdout",
     "output_type": "stream",
     "text": [
      "Authorized committee(s): ['C00859041']\n",
      "Authorized committee(s): ['C00859041']\n"
     ]
    }
   ],
   "source": [
    "comm_ids = [c[\"committee_id\"] for c in comms]\n",
    "print(\"Authorized committee(s):\", comm_ids)\n",
    "\n",
    "committee_ids = [c[\"committee_id\"] for c in committees]\n",
    "print(\"Authorized committee(s):\", committee_ids)"
   ],
   "metadata": {
    "collapsed": false,
    "ExecuteTime": {
     "end_time": "2025-05-16T19:36:35.402834Z",
     "start_time": "2025-05-16T19:36:35.343371Z"
    }
   },
   "id": "d5b7979534b042c5",
   "execution_count": 45
  },
  {
   "cell_type": "code",
   "outputs": [
    {
     "name": "stdout",
     "output_type": "stream",
     "text": [
      "Cycle-level totals\n",
      "   committee_id    receipts  disbursements\n",
      "0    C00859041  6679191.82     6486537.83\n"
     ]
    }
   ],
   "source": [
    "# 3️⃣  pull cycle-level totals for each committee -----------------------------\n",
    "totals   = [r for cid in comm_ids\n",
    "              for r in fec_get(f\"committee/{cid}/totals\", cycle=CYCLE)]\n",
    "tot_df = pd.DataFrame(totals)\n",
    "print(\"Cycle-level totals\\n\", tot_df[[\"committee_id\",\n",
    "                                     \"receipts\", \"disbursements\"]])\n"
   ],
   "metadata": {
    "collapsed": false,
    "ExecuteTime": {
     "end_time": "2025-05-16T20:00:51.683030Z",
     "start_time": "2025-05-16T20:00:51.520171Z"
    }
   },
   "id": "9f2d402d5c547d36",
   "execution_count": 50
  },
  {
   "cell_type": "code",
   "outputs": [
    {
     "name": "stdout",
     "output_type": "stream",
     "text": [
      "Saved itemized contributions to latimer_contributions.csv\n"
     ]
    }
   ],
   "source": [
    "\n",
    "# 4️⃣  dump every Schedule A contribution to CSV -----------------------------\n",
    "with open(\"latimer_contributions.csv\", \"w\", newline=\"\") as f:\n",
    "    writer = None\n",
    "    for cid in comm_ids:\n",
    "        for row in fec_get(\"schedules/schedule_a/\",\n",
    "                           committee_id=cid, cycle=CYCLE, is_individual=True,\n",
    "                           sort=\"-contribution_receipt_date\"):\n",
    "            if writer is None:\n",
    "                writer = csv.DictWriter(f, fieldnames=row.keys())\n",
    "                writer.writeheader()\n",
    "            writer.writerow(row)\n",
    "print(\"Saved itemized contributions to latimer_contributions.csv\")\n"
   ],
   "metadata": {
    "collapsed": false,
    "ExecuteTime": {
     "end_time": "2025-05-16T20:01:21.706240Z",
     "start_time": "2025-05-16T20:01:20.952947Z"
    }
   },
   "id": "8643b7d3a90f84f1",
   "execution_count": 51
  },
  {
   "cell_type": "code",
   "outputs": [],
   "source": [],
   "metadata": {
    "collapsed": false
   },
   "id": "aca1d447b43c0c21"
  }
 ],
 "metadata": {
  "kernelspec": {
   "display_name": "Python 3",
   "language": "python",
   "name": "python3"
  },
  "language_info": {
   "codemirror_mode": {
    "name": "ipython",
    "version": 2
   },
   "file_extension": ".py",
   "mimetype": "text/x-python",
   "name": "python",
   "nbconvert_exporter": "python",
   "pygments_lexer": "ipython2",
   "version": "2.7.6"
  }
 },
 "nbformat": 4,
 "nbformat_minor": 5
}
