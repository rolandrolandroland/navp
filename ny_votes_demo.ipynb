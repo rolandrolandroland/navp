{
 "cells": [
  {
   "cell_type": "code",
   "execution_count": 3,
   "id": "initial_id",
   "metadata": {
    "collapsed": true,
    "ExecuteTime": {
     "end_time": "2025-08-20T22:49:49.107097Z",
     "start_time": "2025-08-20T22:49:49.085661Z"
    }
   },
   "outputs": [
    {
     "ename": "NameError",
     "evalue": "name 'payload' is not defined",
     "output_type": "error",
     "traceback": [
      "\u001B[31m---------------------------------------------------------------------------\u001B[39m",
      "\u001B[31mNameError\u001B[39m                                 Traceback (most recent call last)",
      "\u001B[36mCell\u001B[39m\u001B[36m \u001B[39m\u001B[32mIn[3]\u001B[39m\u001B[32m, line 4\u001B[39m\n\u001B[32m      2\u001B[39m \u001B[38;5;28;01mimport\u001B[39;00m\u001B[38;5;250m \u001B[39m\u001B[34;01mjson\u001B[39;00m\n\u001B[32m      3\u001B[39m \u001B[38;5;28;01mfrom\u001B[39;00m\u001B[38;5;250m \u001B[39m\u001B[34;01mpprint\u001B[39;00m\u001B[38;5;250m \u001B[39m\u001B[38;5;28;01mimport\u001B[39;00m pprint\n\u001B[32m----> \u001B[39m\u001B[32m4\u001B[39m pprint(\u001B[43mpayload\u001B[49m)\n\u001B[32m      6\u001B[39m \u001B[38;5;28mprint\u001B[39m(json.dumps(payload, indent = \u001B[32m2\u001B[39m, sort_keys= \u001B[38;5;28;01mTrue\u001B[39;00m))\n",
      "\u001B[31mNameError\u001B[39m: name 'payload' is not defined"
     ]
    }
   ],
   "source": [
    "## inspect payload object\n",
    "import json\n",
    "from pprint import pprint\n",
    "\n",
    "\n"
   ]
  },
  {
   "cell_type": "code",
   "outputs": [
    {
     "name": "stdout",
     "output_type": "stream",
     "text": [
      "Payload keys: ['actions', 'pagination', 'request']\n",
      "  Fetched 15 actions at offset 0\n",
      "{'actionCode': 'H37100', 'actionDate': '2024-04-20', 'actionTime': '14:02:43', 'recordedVotes': [{'chamber': 'House', 'congress': 118, 'date': '2024-04-20T18:02:43Z', 'rollNumber': 152, 'sessionNumber': 2, 'url': 'https://clerk.house.gov/evs/2024/roll152.xml'}], 'sourceSystem': {'code': 2, 'name': 'House floor actions'}, 'text': 'On passage Passed by the Yeas and Nays: 366 - 58 (Roll no. 152). (text: CR H2607-2610)', 'type': 'Floor'}\n",
      "Payload keys: ['actions', 'pagination', 'request']\n",
      "  Fetched 17 actions at offset 0\n",
      "{'actionCode': 'H37100', 'actionDate': '2024-05-01', 'actionTime': '16:55:30', 'recordedVotes': [{'chamber': 'House', 'congress': 118, 'date': '2024-05-01T20:55:30Z', 'rollNumber': 172, 'sessionNumber': 2, 'url': 'https://clerk.house.gov/evs/2024/roll172.xml'}], 'sourceSystem': {'code': 2, 'name': 'House floor actions'}, 'text': 'On passage Passed by the Yeas and Nays: 320 - 91 (Roll no. 172). (text: CR H2790-2791)', 'type': 'Floor'}\n",
      "Payload keys: ['actions', 'pagination', 'request']\n",
      "  Fetched 16 actions at offset 0\n",
      "{'actionCode': 'H37300', 'actionDate': '2023-11-01', 'actionTime': '19:27:56', 'recordedVotes': [{'chamber': 'House', 'congress': 118, 'date': '2023-11-01T23:27:56Z', 'rollNumber': 561, 'sessionNumber': 1, 'url': 'https://clerk.house.gov/evs/2023/roll561.xml'}], 'sourceSystem': {'code': 2, 'name': 'House floor actions'}, 'text': 'On motion to suspend the rules and pass the bill, as amended Agreed to by the Yeas and Nays: (2/3 required): 363 - 46 (Roll no. 561). (text: CR H5189-5191)', 'type': 'Floor'}\n",
      "Payload keys: ['actions', 'pagination', 'request']\n",
      "  Fetched 23 actions at offset 0\n",
      "{'actionCode': 'H37100', 'actionDate': '2023-11-02', 'actionTime': '17:48:34', 'recordedVotes': [{'chamber': 'House', 'congress': 118, 'date': '2023-11-02T21:48:34Z', 'rollNumber': 577, 'sessionNumber': 1, 'url': 'https://clerk.house.gov/evs/2023/roll577.xml'}], 'sourceSystem': {'code': 2, 'name': 'House floor actions'}, 'text': 'On passage Passed by the Yeas and Nays: 226 - 196 (Roll no. 577). (text: CR H5297-5298)', 'type': 'Floor'}\n",
      "Payload keys: ['actions', 'pagination', 'request']\n",
      "  Fetched 234 actions at offset 0\n",
      "{'actionCode': 'H37100', 'actionDate': '2023-07-14', 'actionTime': '10:59:33', 'recordedVotes': [{'chamber': 'House', 'congress': 118, 'date': '2023-07-14T14:59:33Z', 'rollNumber': 328, 'sessionNumber': 1, 'url': 'https://clerk.house.gov/evs/2023/roll328.xml'}], 'sourceSystem': {'code': 2, 'name': 'House floor actions'}, 'text': 'On passage Passed by the Yeas and Nays: 219 - 210 (Roll no. 328).', 'type': 'Floor'}\n",
      "Payload keys: ['actions', 'pagination', 'request']\n",
      "  Fetched 11 actions at offset 0\n",
      "{'actionCode': 'H37300', 'actionDate': '2024-02-06', 'actionTime': '18:55:23', 'recordedVotes': [{'chamber': 'House', 'congress': 118, 'date': '2024-02-06T23:55:23Z', 'rollNumber': 38, 'sessionNumber': 2, 'url': 'https://clerk.house.gov/evs/2024/roll038.xml'}], 'sourceSystem': {'code': 2, 'name': 'House floor actions'}, 'text': 'On motion to suspend the rules and pass the bill Failed by the Yeas and Nays: (2/3 required): 250 - 180 (Roll no. 38).', 'type': 'Floor'}\n",
      "Payload keys: ['actions', 'pagination', 'request']\n",
      "  Fetched 16 actions at offset 0\n",
      "{'actionCode': 'H37300', 'actionDate': '2024-04-16', 'actionTime': '16:37:05', 'recordedVotes': [{'chamber': 'House', 'congress': 118, 'date': '2024-04-16T20:37:05Z', 'rollNumber': 128, 'sessionNumber': 2, 'url': 'https://clerk.house.gov/evs/2024/roll128.xml'}], 'sourceSystem': {'code': 2, 'name': 'House floor actions'}, 'text': 'On motion to suspend the rules and pass the bill Agreed to by the Yeas and Nays: (2/3 required): 419 - 4 (Roll no. 128). (text: CR H2416-2417)', 'type': 'Floor'}\n",
      "Payload keys: ['actions', 'pagination', 'request']\n",
      "  Fetched 33 actions at offset 0\n",
      "{'actionCode': 'H37100', 'actionDate': '2024-04-20', 'actionTime': '13:17:28', 'recordedVotes': [{'chamber': 'House', 'congress': 118, 'date': '2024-04-20T17:17:28Z', 'rollNumber': 145, 'sessionNumber': 2, 'url': 'https://clerk.house.gov/evs/2024/roll145.xml'}], 'sourceSystem': {'code': 2, 'name': 'House floor actions'}, 'text': 'On passage Passed by the Yeas and Nays: 360 - 58 (Roll no. 145).', 'type': 'Floor'}\n",
      "Payload keys: ['actions', 'pagination', 'request']\n",
      "  Fetched 20 actions at offset 0\n",
      "{'actionCode': 'H37100', 'actionDate': '2024-05-16', 'actionTime': '17:03:16', 'recordedVotes': [{'chamber': 'House', 'congress': 118, 'date': '2024-05-16T21:03:16Z', 'rollNumber': 217, 'sessionNumber': 2, 'url': 'https://clerk.house.gov/evs/2024/roll217.xml'}], 'sourceSystem': {'code': 2, 'name': 'House floor actions'}, 'text': 'On passage Passed by the Yeas and Nays: 224 - 187 (Roll no. 217). (text: CR H3287-3288)', 'type': 'Floor'}\n",
      "Payload keys: ['actions', 'pagination', 'request']\n",
      "  Fetched 106 actions at offset 0\n",
      "{'actionCode': 'H37100', 'actionDate': '2024-06-14', 'actionTime': '11:10:15', 'recordedVotes': [{'chamber': 'House', 'congress': 118, 'date': '2024-06-14T15:10:15Z', 'rollNumber': 279, 'sessionNumber': 2, 'url': 'https://clerk.house.gov/evs/2024/roll279.xml'}], 'sourceSystem': {'code': 2, 'name': 'House floor actions'}, 'text': 'On passage Passed by recorded vote: 217 - 199 (Roll no. 279).', 'type': 'Floor'}\n",
      "Payload keys: ['actions', 'pagination', 'request']\n",
      "  Fetched 103 actions at offset 0\n",
      "{'actionCode': 'H37100', 'actionDate': '2024-06-28', 'actionTime': '11:06:35', 'recordedVotes': [{'chamber': 'House', 'congress': 118, 'date': '2024-06-28T15:06:35Z', 'rollNumber': 335, 'sessionNumber': 2, 'url': 'https://clerk.house.gov/evs/2024/roll335.xml'}], 'sourceSystem': {'code': 2, 'name': 'House floor actions'}, 'text': 'On passage Passed by the Yeas and Nays: 212 - 200 (Roll no. 335).', 'type': 'Floor'}\n",
      "Payload keys: ['actions', 'pagination', 'request']\n",
      "  Fetched 55 actions at offset 0\n",
      "{'actionCode': 'H37100', 'actionDate': '2024-06-28', 'actionTime': '10:40:45', 'recordedVotes': [{'chamber': 'House', 'congress': 118, 'date': '2024-06-28T14:40:45Z', 'rollNumber': 331, 'sessionNumber': 2, 'url': 'https://clerk.house.gov/evs/2024/roll331.xml'}], 'sourceSystem': {'code': 2, 'name': 'House floor actions'}, 'text': 'On passage Passed by the Yeas and Nays: 217 - 198 (Roll no. 331).', 'type': 'Floor'}\n",
      "Payload keys: ['actions', 'pagination', 'request']\n",
      "  Fetched 51 actions at offset 0\n",
      "{'actionCode': 'H37100', 'actionDate': '2023-11-30', 'actionTime': '17:00:04', 'recordedVotes': [{'chamber': 'House', 'congress': 118, 'date': '2023-11-30T22:00:04Z', 'rollNumber': 687, 'sessionNumber': 1, 'url': 'https://clerk.house.gov/evs/2023/roll687.xml'}], 'sourceSystem': {'code': 2, 'name': 'House floor actions'}, 'text': 'On passage Passed by the Yeas and Nays: 307 - 119, 1 Present (Roll no. 687).', 'type': 'Floor'}\n"
     ]
    }
   ],
   "source": [
    "# If you make edits to get_votes.py and want them picked up automatically:\n",
    "%load_ext autoreload\n",
    "%autoreload 2\n",
    "\n",
    "# Standard imports\n",
    "from get_votes import fetch_and_store_batch, build_vote_matrix, compute_member_total_scores\n",
    "import pandas as pd\n",
    "\n",
    "\n",
    "\n",
    "\n",
    "# 1) Define the bills you want to fetch:\n",
    "bills = [\n",
    "    (118, \"hr\", 8034),\n",
    "    (118, \"hr\", 6090),\n",
    "    (118, \"hr\", 340),\n",
    "    (118, \"hr\", 6126),\n",
    "    (118, \"hr\", 2670),\n",
    "    (118, \"hr\", 7217),\n",
    "    (118, \"hr\", 5917),\n",
    "    (118, \"hr\", 8038),\n",
    "    (118, \"hr\", 8369),\n",
    "    (118, \"hr\", 8070),\n",
    "    (118, \"hr\", 8771),\n",
    "    (118, \"hr\", 8774),\n",
    "    (118, \"hr\", 5961),\n",
    "]\n",
    "\n",
    "\n",
    "\n",
    "\n",
    "\n",
    "# 2) Fetch & store into votes.db (will create/append the SQLite file)\n",
    "fetch_and_store_batch(bills, db_path=\"votes.db\")\n",
    "\n",
    "# 3) Build the vote‐matrix DataFrame\n",
    "vote_matrix = build_vote_matrix(bills, db_path=\"votes.db\")\n",
    "\n",
    "# 4) Display it in the notebook\n",
    "\n",
    "\n",
    "\n"
   ],
   "metadata": {
    "collapsed": false,
    "ExecuteTime": {
     "end_time": "2025-08-20T22:51:03.392897Z",
     "start_time": "2025-08-20T22:50:25.551594Z"
    }
   },
   "id": "cdb5f014b7590d75",
   "execution_count": 4
  },
  {
   "cell_type": "code",
   "outputs": [
    {
     "name": "stdout",
     "output_type": "stream",
     "text": [
      "                   name state party  total_score  rank  percent HR.2670  \\\n",
      "member_id                                                                 \n",
      "T000481           Tlaib    MI     D         12.0     1      0.2     Nay   \n",
      "O000173            Omar    MN     D         12.0     1      0.2     Nay   \n",
      "V000081       Velázquez    NY     D         10.0    10      2.3     Nay   \n",
      "R000617         Ramirez    IL     D         10.0    10      2.3     Nay   \n",
      "J000309    Jackson (IL)    IL     D         10.0    10      2.3     Nay   \n",
      "\n",
      "          HR.340 HR.5917 HR.5961 HR.6090 HR.6126 HR.7217 HR.8034 HR.8038  \\\n",
      "member_id                                                                  \n",
      "T000481      Nay     Nay     Nay     Nay     Nay     Nay     Nay     Nay   \n",
      "O000173      Nay     Nay     Nay     Nay     Nay     Nay     Nay     Nay   \n",
      "V000081      Nay     Yea     Nay     Nay     Nay     Nay     Nay     Nay   \n",
      "R000617      Nay     Yea     Nay     Nay     Nay     Nay     Nay     Nay   \n",
      "J000309      Nay     Yea     Nay     Nay     Nay     Nay     Nay     Nay   \n",
      "\n",
      "          HR.8070 HR.8369 HR.8771 HR.8774  \n",
      "member_id                                  \n",
      "T000481        No     Nay     Nay     Nay  \n",
      "O000173        No     Nay     Nay     Nay  \n",
      "V000081        No     Nay     Nay     Nay  \n",
      "R000617        No     Nay     Nay     Nay  \n",
      "J000309        No     Nay     Nay     Nay  \n"
     ]
    }
   ],
   "source": [
    "# your raw weights list: (congress, bill_type, bill_number, yea, present, nay, no_vote)\n",
    "weights = [\n",
    "    (118, \"hr\", 8034, -1, 0,  1, 0),\n",
    "    (118, \"hr\", 6090, -1, 0,  1, 0),\n",
    "    (118, \"hr\", 340,  -1, 0,  1, 0),\n",
    "    (118, \"hr\", 6126, -1, 0,  1, 0),\n",
    "    (118, \"hr\", 2670, -1, 0,  1, 0),\n",
    "    (118, \"hr\", 7217, -1, 0,  1, 0),\n",
    "    (118, \"hr\", 2882, -1, 0,  1, 0),\n",
    "    (118, \"hr\", 5917, -1, 0,  1, 0),\n",
    "    (118, \"hr\", 8038, -1, 0,  1, 0),\n",
    "    (118, \"hr\", 8369, -1, 0,  1, 0),\n",
    "    (118, \"hr\", 8070, -1, 0,  1, 0),\n",
    "    (118, \"hr\", 8771, -1, 0,  1, 0),\n",
    "    (118, \"hr\", 8774, -1, 0,  1, 0),\n",
    "    (118, \"hr\", 5961, -1, 0,  1, 0),\n",
    "]\n",
    "\n",
    "# Build the rules dict\n",
    "rules = {}\n",
    "for _, bill_type, bill_number, yea_w, pres_w, nay_w, no_w in weights:\n",
    "    bill_id = f\"{bill_type.upper()}.{bill_number}\"\n",
    "    rules[bill_id] = {\n",
    "        \"Yea\":        yea_w,\n",
    "        \"Nay\":        nay_w,\n",
    "        \"Present\":    pres_w,\n",
    "        \"Not Voting\": no_w,\n",
    "    }\n",
    "\n",
    "# Example output:\n",
    "# {\n",
    "#   \"HR.8034\": {\"Yea\": -1, \"Nay\": 1, \"Present\": 0, \"Not Voting\": 0},\n",
    "#    … \n",
    "# }\n",
    "\n",
    "# Then pass `rules` into your scorer:\n",
    "scores = compute_member_total_scores(vote_matrix, rules, default_score=0.0)\n",
    "print(scores.head())\n"
   ],
   "metadata": {
    "collapsed": false,
    "ExecuteTime": {
     "end_time": "2025-08-20T22:51:23.526675Z",
     "start_time": "2025-08-20T22:51:23.438249Z"
    }
   },
   "id": "619349418fcb2609",
   "execution_count": 5
  },
  {
   "cell_type": "code",
   "outputs": [
    {
     "name": "stdout",
     "output_type": "stream",
     "text": [
      "                    name state party  total_score  rank  percent     HR.2670  \\\n",
      "member_id                                                                      \n",
      "V000081        Velázquez    NY     D         10.0    10      2.3         Nay   \n",
      "O000172    Ocasio-Cortez    NY     D          9.0    18      4.1         Nay   \n",
      "B001223           Bowman    NY     D          8.0    24      5.4         Nay   \n",
      "C001067      Clarke (NY)    NY     D          6.0    41      9.3         Nay   \n",
      "K000402          Kennedy    NY     D          3.0    77     17.5         NaN   \n",
      "T000469            Tonko    NY     D          2.0   100     22.7         Nay   \n",
      "M001137            Meeks    NY     D          2.0   100     22.7         Nay   \n",
      "N000002           Nadler    NY     D          2.0   100     22.7         Nay   \n",
      "H001038     Higgins (NY)    NY     D          2.0   100     22.7         Nay   \n",
      "J000294         Jeffries    NY     D          0.0   152     34.5         Nay   \n",
      "M001206          Morelle    NY     D          0.0   152     34.5         Nay   \n",
      "R000579             Ryan    NY     D          0.0   152     34.5         Nay   \n",
      "G000599     Goldman (NY)    NY     D          0.0   152     34.5         Nay   \n",
      "E000297        Espaillat    NY     D         -2.0   190     43.1         Nay   \n",
      "M001188             Meng    NY     D         -2.0   190     43.1         Nay   \n",
      "S001222           Santos    NY     R         -3.0   206     46.7         Yea   \n",
      "S001201           Suozzi    NY     D         -3.0   206     46.7         NaN   \n",
      "T000486      Torres (NY)    NY     D         -4.0   217     49.2         Nay   \n",
      "W000828    Williams (NY)    NY     R         -9.0   244     55.3  Not Voting   \n",
      "G000597        Garbarino    NY     R        -10.0   261     59.2         Yea   \n",
      "L000600       Langworthy    NY     R        -11.0   287     65.1         Yea   \n",
      "M001221         Molinaro    NY     R        -12.0   370     83.9         Yea   \n",
      "M000317      Malliotakis    NY     R        -12.0   370     83.9         Yea   \n",
      "D000632       D'Esposito    NY     R        -12.0   370     83.9         Yea   \n",
      "L000599           Lawler    NY     R        -12.0   370     83.9         Yea   \n",
      "S001196         Stefanik    NY     R        -12.0   370     83.9         Yea   \n",
      "L000598           LaLota    NY     R        -12.0   370     83.9         Yea   \n",
      "T000478           Tenney    NY     R        -12.0   370     83.9         Yea   \n",
      "\n",
      "               HR.340 HR.5917     HR.5961     HR.6090     HR.6126 HR.7217  \\\n",
      "member_id                                                                   \n",
      "V000081           Nay     Yea         Nay         Nay         Nay     Nay   \n",
      "O000172           Nay     Yea  Not Voting         Nay         Nay     Nay   \n",
      "B001223           Nay     Yea         Nay         Nay         Nay     Nay   \n",
      "C001067           Nay     Yea         Nay         Nay         Nay     Nay   \n",
      "K000402           NaN     NaN         NaN         NaN         NaN     NaN   \n",
      "T000469           Yea     Yea         Nay         Yea         Nay     Nay   \n",
      "M001137           Yea     Yea         Nay         Yea         Nay     Nay   \n",
      "N000002           Yea     Yea         Nay         Nay         Nay     Nay   \n",
      "H001038           Yea     NaN         Nay         NaN         Nay     NaN   \n",
      "J000294           Yea     Yea         Yea         Yea         Nay     Nay   \n",
      "M001206           Yea     Yea         Yea         Yea         Nay     Nay   \n",
      "R000579           Yea     Yea         Yea         Yea         Nay     Nay   \n",
      "G000599           Yea     Yea         Nay         Yea         Nay     Yea   \n",
      "E000297           Yea     Yea         Yea         Yea         Nay     Yea   \n",
      "M001188           Yea     Yea         Yea         Yea         Nay     Yea   \n",
      "S001222           Yea     NaN     Present         NaN         Yea     NaN   \n",
      "S001201           NaN     Yea         NaN         Yea         NaN     NaN   \n",
      "T000486           Yea     Yea         Yea         Yea         Nay     Yea   \n",
      "W000828           Yea     Yea         Yea         Yea         Yea     Yea   \n",
      "G000597    Not Voting     Yea         Yea         Yea  Not Voting     Yea   \n",
      "L000600           Yea     Yea         Yea  Not Voting         Yea     Yea   \n",
      "M001221           Yea     Yea         Yea         Yea         Yea     Yea   \n",
      "M000317           Yea     Yea         Yea         Yea         Yea     Yea   \n",
      "D000632           Yea     Yea         Yea         Yea         Yea     Yea   \n",
      "L000599           Yea     Yea         Yea         Yea         Yea     Yea   \n",
      "S001196           Yea     Yea         Yea         Yea         Yea     Yea   \n",
      "L000598           Yea     Yea         Yea         Yea         Yea     Yea   \n",
      "T000478           Yea     Yea         Yea         Yea         Yea     Yea   \n",
      "\n",
      "              HR.8034     HR.8038     HR.8070 HR.8369     HR.8771     HR.8774  \n",
      "member_id                                                                      \n",
      "V000081           Nay         Nay          No     Nay         Nay         Nay  \n",
      "O000172           Nay         Nay          No     Nay         Nay         Nay  \n",
      "B001223           Nay         Nay  Not Voting     Nay  Not Voting  Not Voting  \n",
      "C001067           Yea         Yea          No     Nay         Nay         Nay  \n",
      "K000402           NaN         NaN          No     Nay         Nay         Nay  \n",
      "T000469           Yea         Yea          No     Nay         Nay         Nay  \n",
      "M001137           Yea         Yea          No     Nay         Nay         Nay  \n",
      "N000002           Yea         Yea          No     Nay  Not Voting  Not Voting  \n",
      "H001038           NaN         NaN         NaN     NaN         NaN         NaN  \n",
      "J000294           Yea         Yea          No     Nay         Nay         Nay  \n",
      "M001206           Yea         Yea          No     Nay         Nay         Nay  \n",
      "R000579           Yea         Yea          No     Nay         Nay         Nay  \n",
      "G000599           Yea         Yea          No     Nay         Nay         Nay  \n",
      "E000297           Yea         Yea          No     Nay         Nay         Nay  \n",
      "M001188           Yea         Yea          No     Nay         Nay         Nay  \n",
      "S001222           NaN         NaN         NaN     NaN         NaN         NaN  \n",
      "S001201           Yea         Yea          No     Yea         Nay         Nay  \n",
      "T000486           Yea         Yea          No     Yea         Nay         Nay  \n",
      "W000828    Not Voting  Not Voting         Aye     Yea         Yea         Yea  \n",
      "G000597           Yea         Yea         Aye     Yea         Yea         Yea  \n",
      "L000600           Yea         Yea         Aye     Yea         Yea         Yea  \n",
      "M001221           Yea         Yea         Aye     Yea         Yea         Yea  \n",
      "M000317           Yea         Yea         Aye     Yea         Yea         Yea  \n",
      "D000632           Yea         Yea         Aye     Yea         Yea         Yea  \n",
      "L000599           Yea         Yea         Aye     Yea         Yea         Yea  \n",
      "S001196           Yea         Yea         Aye     Yea         Yea         Yea  \n",
      "L000598           Yea         Yea         Aye     Yea         Yea         Yea  \n",
      "T000478           Yea         Yea         Aye     Yea         Yea         Yea  \n"
     ]
    }
   ],
   "source": [
    "print(scores[scores[\"state\"] == \"NY\"])\n"
   ],
   "metadata": {
    "collapsed": false,
    "ExecuteTime": {
     "end_time": "2025-08-20T22:52:54.019949Z",
     "start_time": "2025-08-20T22:52:53.976820Z"
    }
   },
   "id": "2039356d7de93e7d",
   "execution_count": 10
  },
  {
   "cell_type": "code",
   "outputs": [
    {
     "data": {
      "text/plain": "                    name state party  total_score  rank  percent     HR.2670  \\\nmember_id                                                                      \nV000081        Velázquez    NY     D         10.0    10      2.3         Nay   \nO000172    Ocasio-Cortez    NY     D          9.0    18      4.1         Nay   \nB001223           Bowman    NY     D          8.0    24      5.4         Nay   \nC001067      Clarke (NY)    NY     D          6.0    41      9.3         Nay   \nK000402          Kennedy    NY     D          3.0    77     17.5         NaN   \nT000469            Tonko    NY     D          2.0   100     22.7         Nay   \nM001137            Meeks    NY     D          2.0   100     22.7         Nay   \nN000002           Nadler    NY     D          2.0   100     22.7         Nay   \nH001038     Higgins (NY)    NY     D          2.0   100     22.7         Nay   \nJ000294         Jeffries    NY     D          0.0   152     34.5         Nay   \nM001206          Morelle    NY     D          0.0   152     34.5         Nay   \nR000579             Ryan    NY     D          0.0   152     34.5         Nay   \nG000599     Goldman (NY)    NY     D          0.0   152     34.5         Nay   \nE000297        Espaillat    NY     D         -2.0   190     43.1         Nay   \nM001188             Meng    NY     D         -2.0   190     43.1         Nay   \nS001222           Santos    NY     R         -3.0   206     46.7         Yea   \nS001201           Suozzi    NY     D         -3.0   206     46.7         NaN   \nT000486      Torres (NY)    NY     D         -4.0   217     49.2         Nay   \nW000828    Williams (NY)    NY     R         -9.0   244     55.3  Not Voting   \nG000597        Garbarino    NY     R        -10.0   261     59.2         Yea   \nL000600       Langworthy    NY     R        -11.0   287     65.1         Yea   \nM001221         Molinaro    NY     R        -12.0   370     83.9         Yea   \nM000317      Malliotakis    NY     R        -12.0   370     83.9         Yea   \nD000632       D'Esposito    NY     R        -12.0   370     83.9         Yea   \nL000599           Lawler    NY     R        -12.0   370     83.9         Yea   \nS001196         Stefanik    NY     R        -12.0   370     83.9         Yea   \nL000598           LaLota    NY     R        -12.0   370     83.9         Yea   \nT000478           Tenney    NY     R        -12.0   370     83.9         Yea   \n\n               HR.340 HR.5917     HR.5961     HR.6090     HR.6126 HR.7217  \\\nmember_id                                                                   \nV000081           Nay     Yea         Nay         Nay         Nay     Nay   \nO000172           Nay     Yea  Not Voting         Nay         Nay     Nay   \nB001223           Nay     Yea         Nay         Nay         Nay     Nay   \nC001067           Nay     Yea         Nay         Nay         Nay     Nay   \nK000402           NaN     NaN         NaN         NaN         NaN     NaN   \nT000469           Yea     Yea         Nay         Yea         Nay     Nay   \nM001137           Yea     Yea         Nay         Yea         Nay     Nay   \nN000002           Yea     Yea         Nay         Nay         Nay     Nay   \nH001038           Yea     NaN         Nay         NaN         Nay     NaN   \nJ000294           Yea     Yea         Yea         Yea         Nay     Nay   \nM001206           Yea     Yea         Yea         Yea         Nay     Nay   \nR000579           Yea     Yea         Yea         Yea         Nay     Nay   \nG000599           Yea     Yea         Nay         Yea         Nay     Yea   \nE000297           Yea     Yea         Yea         Yea         Nay     Yea   \nM001188           Yea     Yea         Yea         Yea         Nay     Yea   \nS001222           Yea     NaN     Present         NaN         Yea     NaN   \nS001201           NaN     Yea         NaN         Yea         NaN     NaN   \nT000486           Yea     Yea         Yea         Yea         Nay     Yea   \nW000828           Yea     Yea         Yea         Yea         Yea     Yea   \nG000597    Not Voting     Yea         Yea         Yea  Not Voting     Yea   \nL000600           Yea     Yea         Yea  Not Voting         Yea     Yea   \nM001221           Yea     Yea         Yea         Yea         Yea     Yea   \nM000317           Yea     Yea         Yea         Yea         Yea     Yea   \nD000632           Yea     Yea         Yea         Yea         Yea     Yea   \nL000599           Yea     Yea         Yea         Yea         Yea     Yea   \nS001196           Yea     Yea         Yea         Yea         Yea     Yea   \nL000598           Yea     Yea         Yea         Yea         Yea     Yea   \nT000478           Yea     Yea         Yea         Yea         Yea     Yea   \n\n              HR.8034     HR.8038     HR.8070 HR.8369     HR.8771     HR.8774  \nmember_id                                                                      \nV000081           Nay         Nay          No     Nay         Nay         Nay  \nO000172           Nay         Nay          No     Nay         Nay         Nay  \nB001223           Nay         Nay  Not Voting     Nay  Not Voting  Not Voting  \nC001067           Yea         Yea          No     Nay         Nay         Nay  \nK000402           NaN         NaN          No     Nay         Nay         Nay  \nT000469           Yea         Yea          No     Nay         Nay         Nay  \nM001137           Yea         Yea          No     Nay         Nay         Nay  \nN000002           Yea         Yea          No     Nay  Not Voting  Not Voting  \nH001038           NaN         NaN         NaN     NaN         NaN         NaN  \nJ000294           Yea         Yea          No     Nay         Nay         Nay  \nM001206           Yea         Yea          No     Nay         Nay         Nay  \nR000579           Yea         Yea          No     Nay         Nay         Nay  \nG000599           Yea         Yea          No     Nay         Nay         Nay  \nE000297           Yea         Yea          No     Nay         Nay         Nay  \nM001188           Yea         Yea          No     Nay         Nay         Nay  \nS001222           NaN         NaN         NaN     NaN         NaN         NaN  \nS001201           Yea         Yea          No     Yea         Nay         Nay  \nT000486           Yea         Yea          No     Yea         Nay         Nay  \nW000828    Not Voting  Not Voting         Aye     Yea         Yea         Yea  \nG000597           Yea         Yea         Aye     Yea         Yea         Yea  \nL000600           Yea         Yea         Aye     Yea         Yea         Yea  \nM001221           Yea         Yea         Aye     Yea         Yea         Yea  \nM000317           Yea         Yea         Aye     Yea         Yea         Yea  \nD000632           Yea         Yea         Aye     Yea         Yea         Yea  \nL000599           Yea         Yea         Aye     Yea         Yea         Yea  \nS001196           Yea         Yea         Aye     Yea         Yea         Yea  \nL000598           Yea         Yea         Aye     Yea         Yea         Yea  \nT000478           Yea         Yea         Aye     Yea         Yea         Yea  ",
      "text/html": "<div>\n<style scoped>\n    .dataframe tbody tr th:only-of-type {\n        vertical-align: middle;\n    }\n\n    .dataframe tbody tr th {\n        vertical-align: top;\n    }\n\n    .dataframe thead th {\n        text-align: right;\n    }\n</style>\n<table border=\"1\" class=\"dataframe\">\n  <thead>\n    <tr style=\"text-align: right;\">\n      <th></th>\n      <th>name</th>\n      <th>state</th>\n      <th>party</th>\n      <th>total_score</th>\n      <th>rank</th>\n      <th>percent</th>\n      <th>HR.2670</th>\n      <th>HR.340</th>\n      <th>HR.5917</th>\n      <th>HR.5961</th>\n      <th>HR.6090</th>\n      <th>HR.6126</th>\n      <th>HR.7217</th>\n      <th>HR.8034</th>\n      <th>HR.8038</th>\n      <th>HR.8070</th>\n      <th>HR.8369</th>\n      <th>HR.8771</th>\n      <th>HR.8774</th>\n    </tr>\n    <tr>\n      <th>member_id</th>\n      <th></th>\n      <th></th>\n      <th></th>\n      <th></th>\n      <th></th>\n      <th></th>\n      <th></th>\n      <th></th>\n      <th></th>\n      <th></th>\n      <th></th>\n      <th></th>\n      <th></th>\n      <th></th>\n      <th></th>\n      <th></th>\n      <th></th>\n      <th></th>\n      <th></th>\n    </tr>\n  </thead>\n  <tbody>\n    <tr>\n      <th>V000081</th>\n      <td>Velázquez</td>\n      <td>NY</td>\n      <td>D</td>\n      <td>10.0</td>\n      <td>10</td>\n      <td>2.3</td>\n      <td>Nay</td>\n      <td>Nay</td>\n      <td>Yea</td>\n      <td>Nay</td>\n      <td>Nay</td>\n      <td>Nay</td>\n      <td>Nay</td>\n      <td>Nay</td>\n      <td>Nay</td>\n      <td>No</td>\n      <td>Nay</td>\n      <td>Nay</td>\n      <td>Nay</td>\n    </tr>\n    <tr>\n      <th>O000172</th>\n      <td>Ocasio-Cortez</td>\n      <td>NY</td>\n      <td>D</td>\n      <td>9.0</td>\n      <td>18</td>\n      <td>4.1</td>\n      <td>Nay</td>\n      <td>Nay</td>\n      <td>Yea</td>\n      <td>Not Voting</td>\n      <td>Nay</td>\n      <td>Nay</td>\n      <td>Nay</td>\n      <td>Nay</td>\n      <td>Nay</td>\n      <td>No</td>\n      <td>Nay</td>\n      <td>Nay</td>\n      <td>Nay</td>\n    </tr>\n    <tr>\n      <th>B001223</th>\n      <td>Bowman</td>\n      <td>NY</td>\n      <td>D</td>\n      <td>8.0</td>\n      <td>24</td>\n      <td>5.4</td>\n      <td>Nay</td>\n      <td>Nay</td>\n      <td>Yea</td>\n      <td>Nay</td>\n      <td>Nay</td>\n      <td>Nay</td>\n      <td>Nay</td>\n      <td>Nay</td>\n      <td>Nay</td>\n      <td>Not Voting</td>\n      <td>Nay</td>\n      <td>Not Voting</td>\n      <td>Not Voting</td>\n    </tr>\n    <tr>\n      <th>C001067</th>\n      <td>Clarke (NY)</td>\n      <td>NY</td>\n      <td>D</td>\n      <td>6.0</td>\n      <td>41</td>\n      <td>9.3</td>\n      <td>Nay</td>\n      <td>Nay</td>\n      <td>Yea</td>\n      <td>Nay</td>\n      <td>Nay</td>\n      <td>Nay</td>\n      <td>Nay</td>\n      <td>Yea</td>\n      <td>Yea</td>\n      <td>No</td>\n      <td>Nay</td>\n      <td>Nay</td>\n      <td>Nay</td>\n    </tr>\n    <tr>\n      <th>K000402</th>\n      <td>Kennedy</td>\n      <td>NY</td>\n      <td>D</td>\n      <td>3.0</td>\n      <td>77</td>\n      <td>17.5</td>\n      <td>NaN</td>\n      <td>NaN</td>\n      <td>NaN</td>\n      <td>NaN</td>\n      <td>NaN</td>\n      <td>NaN</td>\n      <td>NaN</td>\n      <td>NaN</td>\n      <td>NaN</td>\n      <td>No</td>\n      <td>Nay</td>\n      <td>Nay</td>\n      <td>Nay</td>\n    </tr>\n    <tr>\n      <th>T000469</th>\n      <td>Tonko</td>\n      <td>NY</td>\n      <td>D</td>\n      <td>2.0</td>\n      <td>100</td>\n      <td>22.7</td>\n      <td>Nay</td>\n      <td>Yea</td>\n      <td>Yea</td>\n      <td>Nay</td>\n      <td>Yea</td>\n      <td>Nay</td>\n      <td>Nay</td>\n      <td>Yea</td>\n      <td>Yea</td>\n      <td>No</td>\n      <td>Nay</td>\n      <td>Nay</td>\n      <td>Nay</td>\n    </tr>\n    <tr>\n      <th>M001137</th>\n      <td>Meeks</td>\n      <td>NY</td>\n      <td>D</td>\n      <td>2.0</td>\n      <td>100</td>\n      <td>22.7</td>\n      <td>Nay</td>\n      <td>Yea</td>\n      <td>Yea</td>\n      <td>Nay</td>\n      <td>Yea</td>\n      <td>Nay</td>\n      <td>Nay</td>\n      <td>Yea</td>\n      <td>Yea</td>\n      <td>No</td>\n      <td>Nay</td>\n      <td>Nay</td>\n      <td>Nay</td>\n    </tr>\n    <tr>\n      <th>N000002</th>\n      <td>Nadler</td>\n      <td>NY</td>\n      <td>D</td>\n      <td>2.0</td>\n      <td>100</td>\n      <td>22.7</td>\n      <td>Nay</td>\n      <td>Yea</td>\n      <td>Yea</td>\n      <td>Nay</td>\n      <td>Nay</td>\n      <td>Nay</td>\n      <td>Nay</td>\n      <td>Yea</td>\n      <td>Yea</td>\n      <td>No</td>\n      <td>Nay</td>\n      <td>Not Voting</td>\n      <td>Not Voting</td>\n    </tr>\n    <tr>\n      <th>H001038</th>\n      <td>Higgins (NY)</td>\n      <td>NY</td>\n      <td>D</td>\n      <td>2.0</td>\n      <td>100</td>\n      <td>22.7</td>\n      <td>Nay</td>\n      <td>Yea</td>\n      <td>NaN</td>\n      <td>Nay</td>\n      <td>NaN</td>\n      <td>Nay</td>\n      <td>NaN</td>\n      <td>NaN</td>\n      <td>NaN</td>\n      <td>NaN</td>\n      <td>NaN</td>\n      <td>NaN</td>\n      <td>NaN</td>\n    </tr>\n    <tr>\n      <th>J000294</th>\n      <td>Jeffries</td>\n      <td>NY</td>\n      <td>D</td>\n      <td>0.0</td>\n      <td>152</td>\n      <td>34.5</td>\n      <td>Nay</td>\n      <td>Yea</td>\n      <td>Yea</td>\n      <td>Yea</td>\n      <td>Yea</td>\n      <td>Nay</td>\n      <td>Nay</td>\n      <td>Yea</td>\n      <td>Yea</td>\n      <td>No</td>\n      <td>Nay</td>\n      <td>Nay</td>\n      <td>Nay</td>\n    </tr>\n    <tr>\n      <th>M001206</th>\n      <td>Morelle</td>\n      <td>NY</td>\n      <td>D</td>\n      <td>0.0</td>\n      <td>152</td>\n      <td>34.5</td>\n      <td>Nay</td>\n      <td>Yea</td>\n      <td>Yea</td>\n      <td>Yea</td>\n      <td>Yea</td>\n      <td>Nay</td>\n      <td>Nay</td>\n      <td>Yea</td>\n      <td>Yea</td>\n      <td>No</td>\n      <td>Nay</td>\n      <td>Nay</td>\n      <td>Nay</td>\n    </tr>\n    <tr>\n      <th>R000579</th>\n      <td>Ryan</td>\n      <td>NY</td>\n      <td>D</td>\n      <td>0.0</td>\n      <td>152</td>\n      <td>34.5</td>\n      <td>Nay</td>\n      <td>Yea</td>\n      <td>Yea</td>\n      <td>Yea</td>\n      <td>Yea</td>\n      <td>Nay</td>\n      <td>Nay</td>\n      <td>Yea</td>\n      <td>Yea</td>\n      <td>No</td>\n      <td>Nay</td>\n      <td>Nay</td>\n      <td>Nay</td>\n    </tr>\n    <tr>\n      <th>G000599</th>\n      <td>Goldman (NY)</td>\n      <td>NY</td>\n      <td>D</td>\n      <td>0.0</td>\n      <td>152</td>\n      <td>34.5</td>\n      <td>Nay</td>\n      <td>Yea</td>\n      <td>Yea</td>\n      <td>Nay</td>\n      <td>Yea</td>\n      <td>Nay</td>\n      <td>Yea</td>\n      <td>Yea</td>\n      <td>Yea</td>\n      <td>No</td>\n      <td>Nay</td>\n      <td>Nay</td>\n      <td>Nay</td>\n    </tr>\n    <tr>\n      <th>E000297</th>\n      <td>Espaillat</td>\n      <td>NY</td>\n      <td>D</td>\n      <td>-2.0</td>\n      <td>190</td>\n      <td>43.1</td>\n      <td>Nay</td>\n      <td>Yea</td>\n      <td>Yea</td>\n      <td>Yea</td>\n      <td>Yea</td>\n      <td>Nay</td>\n      <td>Yea</td>\n      <td>Yea</td>\n      <td>Yea</td>\n      <td>No</td>\n      <td>Nay</td>\n      <td>Nay</td>\n      <td>Nay</td>\n    </tr>\n    <tr>\n      <th>M001188</th>\n      <td>Meng</td>\n      <td>NY</td>\n      <td>D</td>\n      <td>-2.0</td>\n      <td>190</td>\n      <td>43.1</td>\n      <td>Nay</td>\n      <td>Yea</td>\n      <td>Yea</td>\n      <td>Yea</td>\n      <td>Yea</td>\n      <td>Nay</td>\n      <td>Yea</td>\n      <td>Yea</td>\n      <td>Yea</td>\n      <td>No</td>\n      <td>Nay</td>\n      <td>Nay</td>\n      <td>Nay</td>\n    </tr>\n    <tr>\n      <th>S001222</th>\n      <td>Santos</td>\n      <td>NY</td>\n      <td>R</td>\n      <td>-3.0</td>\n      <td>206</td>\n      <td>46.7</td>\n      <td>Yea</td>\n      <td>Yea</td>\n      <td>NaN</td>\n      <td>Present</td>\n      <td>NaN</td>\n      <td>Yea</td>\n      <td>NaN</td>\n      <td>NaN</td>\n      <td>NaN</td>\n      <td>NaN</td>\n      <td>NaN</td>\n      <td>NaN</td>\n      <td>NaN</td>\n    </tr>\n    <tr>\n      <th>S001201</th>\n      <td>Suozzi</td>\n      <td>NY</td>\n      <td>D</td>\n      <td>-3.0</td>\n      <td>206</td>\n      <td>46.7</td>\n      <td>NaN</td>\n      <td>NaN</td>\n      <td>Yea</td>\n      <td>NaN</td>\n      <td>Yea</td>\n      <td>NaN</td>\n      <td>NaN</td>\n      <td>Yea</td>\n      <td>Yea</td>\n      <td>No</td>\n      <td>Yea</td>\n      <td>Nay</td>\n      <td>Nay</td>\n    </tr>\n    <tr>\n      <th>T000486</th>\n      <td>Torres (NY)</td>\n      <td>NY</td>\n      <td>D</td>\n      <td>-4.0</td>\n      <td>217</td>\n      <td>49.2</td>\n      <td>Nay</td>\n      <td>Yea</td>\n      <td>Yea</td>\n      <td>Yea</td>\n      <td>Yea</td>\n      <td>Nay</td>\n      <td>Yea</td>\n      <td>Yea</td>\n      <td>Yea</td>\n      <td>No</td>\n      <td>Yea</td>\n      <td>Nay</td>\n      <td>Nay</td>\n    </tr>\n    <tr>\n      <th>W000828</th>\n      <td>Williams (NY)</td>\n      <td>NY</td>\n      <td>R</td>\n      <td>-9.0</td>\n      <td>244</td>\n      <td>55.3</td>\n      <td>Not Voting</td>\n      <td>Yea</td>\n      <td>Yea</td>\n      <td>Yea</td>\n      <td>Yea</td>\n      <td>Yea</td>\n      <td>Yea</td>\n      <td>Not Voting</td>\n      <td>Not Voting</td>\n      <td>Aye</td>\n      <td>Yea</td>\n      <td>Yea</td>\n      <td>Yea</td>\n    </tr>\n    <tr>\n      <th>G000597</th>\n      <td>Garbarino</td>\n      <td>NY</td>\n      <td>R</td>\n      <td>-10.0</td>\n      <td>261</td>\n      <td>59.2</td>\n      <td>Yea</td>\n      <td>Not Voting</td>\n      <td>Yea</td>\n      <td>Yea</td>\n      <td>Yea</td>\n      <td>Not Voting</td>\n      <td>Yea</td>\n      <td>Yea</td>\n      <td>Yea</td>\n      <td>Aye</td>\n      <td>Yea</td>\n      <td>Yea</td>\n      <td>Yea</td>\n    </tr>\n    <tr>\n      <th>L000600</th>\n      <td>Langworthy</td>\n      <td>NY</td>\n      <td>R</td>\n      <td>-11.0</td>\n      <td>287</td>\n      <td>65.1</td>\n      <td>Yea</td>\n      <td>Yea</td>\n      <td>Yea</td>\n      <td>Yea</td>\n      <td>Not Voting</td>\n      <td>Yea</td>\n      <td>Yea</td>\n      <td>Yea</td>\n      <td>Yea</td>\n      <td>Aye</td>\n      <td>Yea</td>\n      <td>Yea</td>\n      <td>Yea</td>\n    </tr>\n    <tr>\n      <th>M001221</th>\n      <td>Molinaro</td>\n      <td>NY</td>\n      <td>R</td>\n      <td>-12.0</td>\n      <td>370</td>\n      <td>83.9</td>\n      <td>Yea</td>\n      <td>Yea</td>\n      <td>Yea</td>\n      <td>Yea</td>\n      <td>Yea</td>\n      <td>Yea</td>\n      <td>Yea</td>\n      <td>Yea</td>\n      <td>Yea</td>\n      <td>Aye</td>\n      <td>Yea</td>\n      <td>Yea</td>\n      <td>Yea</td>\n    </tr>\n    <tr>\n      <th>M000317</th>\n      <td>Malliotakis</td>\n      <td>NY</td>\n      <td>R</td>\n      <td>-12.0</td>\n      <td>370</td>\n      <td>83.9</td>\n      <td>Yea</td>\n      <td>Yea</td>\n      <td>Yea</td>\n      <td>Yea</td>\n      <td>Yea</td>\n      <td>Yea</td>\n      <td>Yea</td>\n      <td>Yea</td>\n      <td>Yea</td>\n      <td>Aye</td>\n      <td>Yea</td>\n      <td>Yea</td>\n      <td>Yea</td>\n    </tr>\n    <tr>\n      <th>D000632</th>\n      <td>D'Esposito</td>\n      <td>NY</td>\n      <td>R</td>\n      <td>-12.0</td>\n      <td>370</td>\n      <td>83.9</td>\n      <td>Yea</td>\n      <td>Yea</td>\n      <td>Yea</td>\n      <td>Yea</td>\n      <td>Yea</td>\n      <td>Yea</td>\n      <td>Yea</td>\n      <td>Yea</td>\n      <td>Yea</td>\n      <td>Aye</td>\n      <td>Yea</td>\n      <td>Yea</td>\n      <td>Yea</td>\n    </tr>\n    <tr>\n      <th>L000599</th>\n      <td>Lawler</td>\n      <td>NY</td>\n      <td>R</td>\n      <td>-12.0</td>\n      <td>370</td>\n      <td>83.9</td>\n      <td>Yea</td>\n      <td>Yea</td>\n      <td>Yea</td>\n      <td>Yea</td>\n      <td>Yea</td>\n      <td>Yea</td>\n      <td>Yea</td>\n      <td>Yea</td>\n      <td>Yea</td>\n      <td>Aye</td>\n      <td>Yea</td>\n      <td>Yea</td>\n      <td>Yea</td>\n    </tr>\n    <tr>\n      <th>S001196</th>\n      <td>Stefanik</td>\n      <td>NY</td>\n      <td>R</td>\n      <td>-12.0</td>\n      <td>370</td>\n      <td>83.9</td>\n      <td>Yea</td>\n      <td>Yea</td>\n      <td>Yea</td>\n      <td>Yea</td>\n      <td>Yea</td>\n      <td>Yea</td>\n      <td>Yea</td>\n      <td>Yea</td>\n      <td>Yea</td>\n      <td>Aye</td>\n      <td>Yea</td>\n      <td>Yea</td>\n      <td>Yea</td>\n    </tr>\n    <tr>\n      <th>L000598</th>\n      <td>LaLota</td>\n      <td>NY</td>\n      <td>R</td>\n      <td>-12.0</td>\n      <td>370</td>\n      <td>83.9</td>\n      <td>Yea</td>\n      <td>Yea</td>\n      <td>Yea</td>\n      <td>Yea</td>\n      <td>Yea</td>\n      <td>Yea</td>\n      <td>Yea</td>\n      <td>Yea</td>\n      <td>Yea</td>\n      <td>Aye</td>\n      <td>Yea</td>\n      <td>Yea</td>\n      <td>Yea</td>\n    </tr>\n    <tr>\n      <th>T000478</th>\n      <td>Tenney</td>\n      <td>NY</td>\n      <td>R</td>\n      <td>-12.0</td>\n      <td>370</td>\n      <td>83.9</td>\n      <td>Yea</td>\n      <td>Yea</td>\n      <td>Yea</td>\n      <td>Yea</td>\n      <td>Yea</td>\n      <td>Yea</td>\n      <td>Yea</td>\n      <td>Yea</td>\n      <td>Yea</td>\n      <td>Aye</td>\n      <td>Yea</td>\n      <td>Yea</td>\n      <td>Yea</td>\n    </tr>\n  </tbody>\n</table>\n</div>"
     },
     "execution_count": 9,
     "metadata": {},
     "output_type": "execute_result"
    }
   ],
   "source": [],
   "metadata": {
    "collapsed": false,
    "ExecuteTime": {
     "end_time": "2025-08-20T22:52:38.335648Z",
     "start_time": "2025-08-20T22:52:38.276006Z"
    }
   },
   "id": "69ec644566853e47",
   "execution_count": 9
  },
  {
   "cell_type": "code",
   "outputs": [],
   "source": [],
   "metadata": {
    "collapsed": false
   },
   "id": "ee758943340f136e"
  }
 ],
 "metadata": {
  "kernelspec": {
   "display_name": "Python 3",
   "language": "python",
   "name": "python3"
  },
  "language_info": {
   "codemirror_mode": {
    "name": "ipython",
    "version": 2
   },
   "file_extension": ".py",
   "mimetype": "text/x-python",
   "name": "python",
   "nbconvert_exporter": "python",
   "pygments_lexer": "ipython2",
   "version": "2.7.6"
  }
 },
 "nbformat": 4,
 "nbformat_minor": 5
}
